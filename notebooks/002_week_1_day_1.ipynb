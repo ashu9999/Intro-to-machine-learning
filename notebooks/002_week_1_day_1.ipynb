{
 "cells": [
  {
   "cell_type": "markdown",
   "metadata": {
    "deletable": true,
    "editable": true
   },
   "source": [
    "__Sources:__\n",
    "1. Wikipedia\n",
    "2. [Coursera Andrew NG]()\n",
    "3. [Tom Mitchell's Machine Learning course](http://www.cs.cmu.edu/~tom/)\n",
    "4. [Machine Learning Mastery](http://machinelearningmastery.com/supervised-and-unsupervised-machine-learning-algorithms/)"
   ]
  },
  {
   "cell_type": "code",
   "execution_count": 1,
   "metadata": {
    "collapsed": true,
    "deletable": true,
    "editable": true
   },
   "outputs": [],
   "source": [
    "# To support both python 2 and python 3\n",
    "from __future__ import division, print_function, unicode_literals\n",
    "\n",
    "# Common imports\n",
    "import numpy as np\n",
    "import numpy.random as rnd\n",
    "import os\n",
    "\n",
    "# to make this notebook's output stable across runs\n",
    "rnd.seed(42)\n",
    "\n",
    "# To plot figures\n",
    "%matplotlib inline\n",
    "import matplotlib\n",
    "import matplotlib.pyplot as plt\n",
    "plt.rcParams['axes.labelsize'] = 14\n",
    "plt.rcParams['xtick.labelsize'] = 12\n",
    "plt.rcParams['ytick.labelsize'] = 12"
   ]
  },
  {
   "cell_type": "code",
   "execution_count": 2,
   "metadata": {
    "collapsed": true,
    "deletable": true,
    "editable": true
   },
   "outputs": [],
   "source": [
    "# Where to save the figures\n",
    "PROJECT_ROOT_DIR = \".\"\n",
    "\n",
    "def save_fig(fig_id, tight_layout=True):\n",
    "    path = os.path.join(PROJECT_ROOT_DIR, \"images\", fig_id + \".png\")\n",
    "    print(\"Saving figure\", fig_id)\n",
    "    if tight_layout:\n",
    "        plt.tight_layout()\n",
    "    plt.savefig(path, format='png', dpi=300)\n"
   ]
  },
  {
   "cell_type": "markdown",
   "metadata": {
    "deletable": true,
    "editable": true
   },
   "source": [
    "### Demo 1"
   ]
  },
  {
   "cell_type": "code",
   "execution_count": 48,
   "metadata": {
    "collapsed": true,
    "deletable": true,
    "editable": true
   },
   "outputs": [],
   "source": [
    "import requests"
   ]
  },
  {
   "cell_type": "markdown",
   "metadata": {
    "deletable": true,
    "editable": true
   },
   "source": [
    "We'll look to scrape from a website that has table and save it to a `.csv` file. We'll do a quick scrape of a [US Government public database](https://www.cia.gov/library/publications/the-world-factbook/fields/print_2085.html)"
   ]
  },
  {
   "cell_type": "code",
   "execution_count": 49,
   "metadata": {
    "collapsed": true,
    "deletable": true,
    "editable": true
   },
   "outputs": [],
   "source": [
    "stats = requests.get(\"https://www.cia.gov/library/publications/the-world-factbook/fields/print_2085.html\")"
   ]
  },
  {
   "cell_type": "code",
   "execution_count": 50,
   "metadata": {
    "collapsed": false,
    "deletable": true,
    "editable": true
   },
   "outputs": [
    {
     "data": {
      "text/plain": [
       "200"
      ]
     },
     "execution_count": 50,
     "metadata": {},
     "output_type": "execute_result"
    }
   ],
   "source": [
    "#Let's see if we got the content or not?\n",
    "stats.status_code"
   ]
  },
  {
   "cell_type": "code",
   "execution_count": null,
   "metadata": {
    "collapsed": false,
    "deletable": true,
    "editable": true
   },
   "outputs": [],
   "source": [
    "#Printing content\n",
    "stats.content"
   ]
  },
  {
   "cell_type": "markdown",
   "metadata": {
    "deletable": true,
    "editable": true
   },
   "source": [
    "### Demo 3\n",
    "\n",
    "**BS4 example:**"
   ]
  },
  {
   "cell_type": "code",
   "execution_count": 8,
   "metadata": {
    "collapsed": false,
    "deletable": true,
    "editable": true
   },
   "outputs": [
    {
     "name": "stdout",
     "output_type": "stream",
     "text": [
      "Requirement already satisfied: beautifulsoup4 in /home/jay/anaconda3/lib/python3.6/site-packages\r\n"
     ]
    }
   ],
   "source": [
    "! pip install beautifulsoup4"
   ]
  },
  {
   "cell_type": "code",
   "execution_count": 9,
   "metadata": {
    "collapsed": true,
    "deletable": true,
    "editable": true
   },
   "outputs": [],
   "source": [
    "from bs4 import BeautifulSoup"
   ]
  },
  {
   "cell_type": "code",
   "execution_count": 10,
   "metadata": {
    "collapsed": true,
    "deletable": true,
    "editable": true
   },
   "outputs": [],
   "source": [
    "soup = BeautifulSoup(stats.content, 'html.parser')"
   ]
  },
  {
   "cell_type": "code",
   "execution_count": null,
   "metadata": {
    "collapsed": false,
    "deletable": true,
    "editable": true
   },
   "outputs": [],
   "source": [
    "# Randomly selecting a chunk of the html content\n",
    "soup.prettify()"
   ]
  },
  {
   "cell_type": "markdown",
   "metadata": {
    "deletable": true,
    "editable": true
   },
   "source": [
    "To separate out all the relevant tags, we need to taste the soup!\n",
    "\n",
    "The list of cast is in the tag `<table class=\"cast_list\">`"
   ]
  },
  {
   "cell_type": "code",
   "execution_count": 12,
   "metadata": {
    "collapsed": true,
    "deletable": true,
    "editable": true
   },
   "outputs": [],
   "source": [
    "table = soup.find(\"table\", attrs={'id':'fieldListing'})"
   ]
  },
  {
   "cell_type": "code",
   "execution_count": 13,
   "metadata": {
    "collapsed": true,
    "deletable": true,
    "editable": true
   },
   "outputs": [],
   "source": [
    "rows = []\n",
    "for row in table.find_all('tr'):\n",
    "    rows.append([val.text.encode('utf8') for val in row.find_all('td')])"
   ]
  },
  {
   "cell_type": "code",
   "execution_count": 14,
   "metadata": {
    "collapsed": false,
    "deletable": true,
    "editable": true
   },
   "outputs": [
    {
     "data": {
      "text/plain": [
       "[b'Afghanistan',\n",
       " b'\\ntotal: 42,150 km\\npaved: 12,350 km\\nunpaved: 29,800 km (2006)\\n']"
      ]
     },
     "execution_count": 14,
     "metadata": {},
     "output_type": "execute_result"
    }
   ],
   "source": [
    "rows[1]"
   ]
  },
  {
   "cell_type": "markdown",
   "metadata": {
    "deletable": true,
    "editable": true
   },
   "source": [
    "### Demo 4\n",
    "\n",
    "**Saving scapped data into a CSV file**\n",
    "\n",
    "* We'll now save the raw data to a csv file"
   ]
  },
  {
   "cell_type": "code",
   "execution_count": 15,
   "metadata": {
    "collapsed": true,
    "deletable": true,
    "editable": true
   },
   "outputs": [],
   "source": [
    "# Import csv package\n",
    "import csv"
   ]
  },
  {
   "cell_type": "code",
   "execution_count": 16,
   "metadata": {
    "collapsed": true,
    "deletable": true,
    "editable": true
   },
   "outputs": [],
   "source": [
    "with open('data/facts.csv', 'w') as f:\n",
    "    writer = csv.writer(f)\n",
    "    writer.writerows((row for row in rows if row))"
   ]
  },
  {
   "cell_type": "markdown",
   "metadata": {
    "deletable": true,
    "editable": true
   },
   "source": [
    "Below are the first 5 rows in the saved csv file."
   ]
  },
  {
   "cell_type": "code",
   "execution_count": 17,
   "metadata": {
    "collapsed": false,
    "deletable": true,
    "editable": true
   },
   "outputs": [
    {
     "name": "stdout",
     "output_type": "stream",
     "text": [
      "b'Afghanistan',\"b'\\ntotal: 42,150 km\\npaved: 12,350 km\\nunpaved: 29,800 km (2006)\\n'\"\r",
      "\r\n",
      "b'Albania',\"b'\\ntotal: 18,000 km\\npaved: 7,020 km\\nunpaved: 10,980 km (2002)\\n'\"\r",
      "\r\n",
      "b'Algeria',\"b'\\ntotal: 113,655 km\\npaved: 87,605 km (includes 645 km of expressways)\\nunpaved: 26,050 km (2010)\\n'\"\r",
      "\r\n",
      "b'American Samoa',b'\\ntotal: 241 km (2008)\\n'\r",
      "\r\n",
      "b'Andorra',b'\\ntotal: 320 km (2015)\\n'\r",
      "\r\n"
     ]
    }
   ],
   "source": [
    "! cat data/facts.csv | head -5"
   ]
  },
  {
   "cell_type": "markdown",
   "metadata": {
    "deletable": true,
    "editable": true
   },
   "source": [
    "There's lot more complex operations you can do with Beautiful Soup, but it would be better to move to `scrapy` Python package to be more productive and hassle free web scraping."
   ]
  },
  {
   "cell_type": "markdown",
   "metadata": {
    "deletable": true,
    "editable": true
   },
   "source": [
    "### Demo 5\n",
    "    \n",
    "**Query 1: _We want to get the general information of the user_**"
   ]
  },
  {
   "cell_type": "code",
   "execution_count": 52,
   "metadata": {
    "collapsed": true,
    "deletable": true,
    "editable": true
   },
   "outputs": [],
   "source": [
    "import requests"
   ]
  },
  {
   "cell_type": "code",
   "execution_count": 53,
   "metadata": {
    "collapsed": true,
    "deletable": true,
    "editable": true
   },
   "outputs": [],
   "source": [
    "url = \"https://api.github.com/users/shwedosh\"\n",
    "request = requests.get(url)"
   ]
  },
  {
   "cell_type": "code",
   "execution_count": 54,
   "metadata": {
    "collapsed": false,
    "deletable": true,
    "editable": true
   },
   "outputs": [
    {
     "data": {
      "text/plain": [
       "200"
      ]
     },
     "execution_count": 54,
     "metadata": {},
     "output_type": "execute_result"
    }
   ],
   "source": [
    "# If 200 then we are doing it right!\n",
    "request.status_code"
   ]
  },
  {
   "cell_type": "code",
   "execution_count": 55,
   "metadata": {
    "collapsed": false,
    "deletable": true,
    "editable": true
   },
   "outputs": [
    {
     "data": {
      "text/plain": [
       "{'login': 'shwedosh', 'id': 22659624, 'avatar_url': 'https://avatars3.githubusercontent.com/u/22659624?v=3', 'gravatar_id': '', 'url': 'https://api.github.com/users/shwedosh', 'html_url': 'https://github.com/shwedosh', 'followers_url': 'https://api.github.com/users/shwedosh/followers', 'following_url': 'https://api.github.com/users/shwedosh/following{/other_user}', 'gists_url': 'https://api.github.com/users/shwedosh/gists{/gist_id}', 'starred_url': 'https://api.github.com/users/shwedosh/starred{/owner}{/repo}', 'subscriptions_url': 'https://api.github.com/users/shwedosh/subscriptions', 'organizations_url': 'https://api.github.com/users/shwedosh/orgs', 'repos_url': 'https://api.github.com/users/shwedosh/repos', 'events_url': 'https://api.github.com/users/shwedosh/events{/privacy}', 'received_events_url': 'https://api.github.com/users/shwedosh/received_events', 'type': 'User', 'site_admin': False, 'name': 'Shweta Doshi', 'company': None, 'blog': '', 'location': None, 'email': None, 'hireable': None, 'bio': None, 'public_repos': 16, 'public_gists': 0, 'followers': 3, 'following': 1, 'created_at': '2016-10-06T12:13:50Z', 'updated_at': '2017-06-06T13:56:12Z'}"
      ]
     },
     "execution_count": 55,
     "metadata": {},
     "output_type": "execute_result"
    }
   ],
   "source": [
    "request.json()"
   ]
  },
  {
   "cell_type": "markdown",
   "metadata": {
    "deletable": true,
    "editable": true
   },
   "source": [
    "**Query 2: _We want to get the number of public repositories the user has_**"
   ]
  },
  {
   "cell_type": "code",
   "execution_count": 56,
   "metadata": {
    "collapsed": true,
    "deletable": true,
    "editable": true
   },
   "outputs": [],
   "source": [
    "url = \"https://api.github.com/users/karpathy/repos\"\n",
    "request = requests.get(url)"
   ]
  },
  {
   "cell_type": "code",
   "execution_count": 57,
   "metadata": {
    "collapsed": false,
    "deletable": true,
    "editable": true
   },
   "outputs": [
    {
     "data": {
      "text/plain": [
       "200"
      ]
     },
     "execution_count": 57,
     "metadata": {},
     "output_type": "execute_result"
    }
   ],
   "source": [
    "request.status_code"
   ]
  },
  {
   "cell_type": "code",
   "execution_count": 58,
   "metadata": {
    "collapsed": true,
    "deletable": true,
    "editable": true
   },
   "outputs": [],
   "source": [
    "repositories = request.json()"
   ]
  },
  {
   "cell_type": "code",
   "execution_count": 59,
   "metadata": {
    "collapsed": false,
    "deletable": true,
    "editable": true
   },
   "outputs": [
    {
     "data": {
      "text/plain": [
       "[{'id': 47010479, 'name': 'arxiv-sanity-preserver', 'full_name': 'karpathy/arxiv-sanity-preserver', 'owner': {'login': 'karpathy', 'id': 241138, 'avatar_url': 'https://avatars0.githubusercontent.com/u/241138?v=3', 'gravatar_id': '', 'url': 'https://api.github.com/users/karpathy', 'html_url': 'https://github.com/karpathy', 'followers_url': 'https://api.github.com/users/karpathy/followers', 'following_url': 'https://api.github.com/users/karpathy/following{/other_user}', 'gists_url': 'https://api.github.com/users/karpathy/gists{/gist_id}', 'starred_url': 'https://api.github.com/users/karpathy/starred{/owner}{/repo}', 'subscriptions_url': 'https://api.github.com/users/karpathy/subscriptions', 'organizations_url': 'https://api.github.com/users/karpathy/orgs', 'repos_url': 'https://api.github.com/users/karpathy/repos', 'events_url': 'https://api.github.com/users/karpathy/events{/privacy}', 'received_events_url': 'https://api.github.com/users/karpathy/received_events', 'type': 'User', 'site_admin': False}, 'private': False, 'html_url': 'https://github.com/karpathy/arxiv-sanity-preserver', 'description': 'Web interface for browsing, search and filtering recent arxiv submissions', 'fork': False, 'url': 'https://api.github.com/repos/karpathy/arxiv-sanity-preserver', 'forks_url': 'https://api.github.com/repos/karpathy/arxiv-sanity-preserver/forks', 'keys_url': 'https://api.github.com/repos/karpathy/arxiv-sanity-preserver/keys{/key_id}', 'collaborators_url': 'https://api.github.com/repos/karpathy/arxiv-sanity-preserver/collaborators{/collaborator}', 'teams_url': 'https://api.github.com/repos/karpathy/arxiv-sanity-preserver/teams', 'hooks_url': 'https://api.github.com/repos/karpathy/arxiv-sanity-preserver/hooks', 'issue_events_url': 'https://api.github.com/repos/karpathy/arxiv-sanity-preserver/issues/events{/number}', 'events_url': 'https://api.github.com/repos/karpathy/arxiv-sanity-preserver/events', 'assignees_url': 'https://api.github.com/repos/karpathy/arxiv-sanity-preserver/assignees{/user}', 'branches_url': 'https://api.github.com/repos/karpathy/arxiv-sanity-preserver/branches{/branch}', 'tags_url': 'https://api.github.com/repos/karpathy/arxiv-sanity-preserver/tags', 'blobs_url': 'https://api.github.com/repos/karpathy/arxiv-sanity-preserver/git/blobs{/sha}', 'git_tags_url': 'https://api.github.com/repos/karpathy/arxiv-sanity-preserver/git/tags{/sha}', 'git_refs_url': 'https://api.github.com/repos/karpathy/arxiv-sanity-preserver/git/refs{/sha}', 'trees_url': 'https://api.github.com/repos/karpathy/arxiv-sanity-preserver/git/trees{/sha}', 'statuses_url': 'https://api.github.com/repos/karpathy/arxiv-sanity-preserver/statuses/{sha}', 'languages_url': 'https://api.github.com/repos/karpathy/arxiv-sanity-preserver/languages', 'stargazers_url': 'https://api.github.com/repos/karpathy/arxiv-sanity-preserver/stargazers', 'contributors_url': 'https://api.github.com/repos/karpathy/arxiv-sanity-preserver/contributors', 'subscribers_url': 'https://api.github.com/repos/karpathy/arxiv-sanity-preserver/subscribers', 'subscription_url': 'https://api.github.com/repos/karpathy/arxiv-sanity-preserver/subscription', 'commits_url': 'https://api.github.com/repos/karpathy/arxiv-sanity-preserver/commits{/sha}', 'git_commits_url': 'https://api.github.com/repos/karpathy/arxiv-sanity-preserver/git/commits{/sha}', 'comments_url': 'https://api.github.com/repos/karpathy/arxiv-sanity-preserver/comments{/number}', 'issue_comment_url': 'https://api.github.com/repos/karpathy/arxiv-sanity-preserver/issues/comments{/number}', 'contents_url': 'https://api.github.com/repos/karpathy/arxiv-sanity-preserver/contents/{+path}', 'compare_url': 'https://api.github.com/repos/karpathy/arxiv-sanity-preserver/compare/{base}...{head}', 'merges_url': 'https://api.github.com/repos/karpathy/arxiv-sanity-preserver/merges', 'archive_url': 'https://api.github.com/repos/karpathy/arxiv-sanity-preserver/{archive_format}{/ref}', 'downloads_url': 'https://api.github.com/repos/karpathy/arxiv-sanity-preserver/downloads', 'issues_url': 'https://api.github.com/repos/karpathy/arxiv-sanity-preserver/issues{/number}', 'pulls_url': 'https://api.github.com/repos/karpathy/arxiv-sanity-preserver/pulls{/number}', 'milestones_url': 'https://api.github.com/repos/karpathy/arxiv-sanity-preserver/milestones{/number}', 'notifications_url': 'https://api.github.com/repos/karpathy/arxiv-sanity-preserver/notifications{?since,all,participating}', 'labels_url': 'https://api.github.com/repos/karpathy/arxiv-sanity-preserver/labels{/name}', 'releases_url': 'https://api.github.com/repos/karpathy/arxiv-sanity-preserver/releases{/id}', 'deployments_url': 'https://api.github.com/repos/karpathy/arxiv-sanity-preserver/deployments', 'created_at': '2015-11-28T04:47:22Z', 'updated_at': '2017-06-09T01:37:21Z', 'pushed_at': '2017-05-24T21:33:25Z', 'git_url': 'git://github.com/karpathy/arxiv-sanity-preserver.git', 'ssh_url': 'git@github.com:karpathy/arxiv-sanity-preserver.git', 'clone_url': 'https://github.com/karpathy/arxiv-sanity-preserver.git', 'svn_url': 'https://github.com/karpathy/arxiv-sanity-preserver', 'homepage': 'http://www.arxiv-sanity.com/', 'size': 945, 'stargazers_count': 1120, 'watchers_count': 1120, 'language': 'Python', 'has_issues': True, 'has_projects': True, 'has_downloads': True, 'has_wiki': True, 'has_pages': False, 'forks_count': 315, 'mirror_url': None, 'open_issues_count': 35, 'forks': 315, 'open_issues': 35, 'watchers': 1120, 'default_branch': 'master'}, {'id': 36027077, 'name': 'char-rnn', 'full_name': 'karpathy/char-rnn', 'owner': {'login': 'karpathy', 'id': 241138, 'avatar_url': 'https://avatars0.githubusercontent.com/u/241138?v=3', 'gravatar_id': '', 'url': 'https://api.github.com/users/karpathy', 'html_url': 'https://github.com/karpathy', 'followers_url': 'https://api.github.com/users/karpathy/followers', 'following_url': 'https://api.github.com/users/karpathy/following{/other_user}', 'gists_url': 'https://api.github.com/users/karpathy/gists{/gist_id}', 'starred_url': 'https://api.github.com/users/karpathy/starred{/owner}{/repo}', 'subscriptions_url': 'https://api.github.com/users/karpathy/subscriptions', 'organizations_url': 'https://api.github.com/users/karpathy/orgs', 'repos_url': 'https://api.github.com/users/karpathy/repos', 'events_url': 'https://api.github.com/users/karpathy/events{/privacy}', 'received_events_url': 'https://api.github.com/users/karpathy/received_events', 'type': 'User', 'site_admin': False}, 'private': False, 'html_url': 'https://github.com/karpathy/char-rnn', 'description': 'Multi-layer Recurrent Neural Networks (LSTM, GRU, RNN) for character-level language models in Torch', 'fork': False, 'url': 'https://api.github.com/repos/karpathy/char-rnn', 'forks_url': 'https://api.github.com/repos/karpathy/char-rnn/forks', 'keys_url': 'https://api.github.com/repos/karpathy/char-rnn/keys{/key_id}', 'collaborators_url': 'https://api.github.com/repos/karpathy/char-rnn/collaborators{/collaborator}', 'teams_url': 'https://api.github.com/repos/karpathy/char-rnn/teams', 'hooks_url': 'https://api.github.com/repos/karpathy/char-rnn/hooks', 'issue_events_url': 'https://api.github.com/repos/karpathy/char-rnn/issues/events{/number}', 'events_url': 'https://api.github.com/repos/karpathy/char-rnn/events', 'assignees_url': 'https://api.github.com/repos/karpathy/char-rnn/assignees{/user}', 'branches_url': 'https://api.github.com/repos/karpathy/char-rnn/branches{/branch}', 'tags_url': 'https://api.github.com/repos/karpathy/char-rnn/tags', 'blobs_url': 'https://api.github.com/repos/karpathy/char-rnn/git/blobs{/sha}', 'git_tags_url': 'https://api.github.com/repos/karpathy/char-rnn/git/tags{/sha}', 'git_refs_url': 'https://api.github.com/repos/karpathy/char-rnn/git/refs{/sha}', 'trees_url': 'https://api.github.com/repos/karpathy/char-rnn/git/trees{/sha}', 'statuses_url': 'https://api.github.com/repos/karpathy/char-rnn/statuses/{sha}', 'languages_url': 'https://api.github.com/repos/karpathy/char-rnn/languages', 'stargazers_url': 'https://api.github.com/repos/karpathy/char-rnn/stargazers', 'contributors_url': 'https://api.github.com/repos/karpathy/char-rnn/contributors', 'subscribers_url': 'https://api.github.com/repos/karpathy/char-rnn/subscribers', 'subscription_url': 'https://api.github.com/repos/karpathy/char-rnn/subscription', 'commits_url': 'https://api.github.com/repos/karpathy/char-rnn/commits{/sha}', 'git_commits_url': 'https://api.github.com/repos/karpathy/char-rnn/git/commits{/sha}', 'comments_url': 'https://api.github.com/repos/karpathy/char-rnn/comments{/number}', 'issue_comment_url': 'https://api.github.com/repos/karpathy/char-rnn/issues/comments{/number}', 'contents_url': 'https://api.github.com/repos/karpathy/char-rnn/contents/{+path}', 'compare_url': 'https://api.github.com/repos/karpathy/char-rnn/compare/{base}...{head}', 'merges_url': 'https://api.github.com/repos/karpathy/char-rnn/merges', 'archive_url': 'https://api.github.com/repos/karpathy/char-rnn/{archive_format}{/ref}', 'downloads_url': 'https://api.github.com/repos/karpathy/char-rnn/downloads', 'issues_url': 'https://api.github.com/repos/karpathy/char-rnn/issues{/number}', 'pulls_url': 'https://api.github.com/repos/karpathy/char-rnn/pulls{/number}', 'milestones_url': 'https://api.github.com/repos/karpathy/char-rnn/milestones{/number}', 'notifications_url': 'https://api.github.com/repos/karpathy/char-rnn/notifications{?since,all,participating}', 'labels_url': 'https://api.github.com/repos/karpathy/char-rnn/labels{/name}', 'releases_url': 'https://api.github.com/repos/karpathy/char-rnn/releases{/id}', 'deployments_url': 'https://api.github.com/repos/karpathy/char-rnn/deployments', 'created_at': '2015-05-21T17:25:24Z', 'updated_at': '2017-06-09T08:32:41Z', 'pushed_at': '2017-06-09T04:41:53Z', 'git_url': 'git://github.com/karpathy/char-rnn.git', 'ssh_url': 'git@github.com:karpathy/char-rnn.git', 'clone_url': 'https://github.com/karpathy/char-rnn.git', 'svn_url': 'https://github.com/karpathy/char-rnn', 'homepage': None, 'size': 13412, 'stargazers_count': 5832, 'watchers_count': 5832, 'language': 'Lua', 'has_issues': True, 'has_projects': True, 'has_downloads': True, 'has_wiki': True, 'has_pages': False, 'forks_count': 1484, 'mirror_url': None, 'open_issues_count': 87, 'forks': 1484, 'open_issues': 87, 'watchers': 5832, 'default_branch': 'master'}, {'id': 15642233, 'name': 'convnetjs', 'full_name': 'karpathy/convnetjs', 'owner': {'login': 'karpathy', 'id': 241138, 'avatar_url': 'https://avatars0.githubusercontent.com/u/241138?v=3', 'gravatar_id': '', 'url': 'https://api.github.com/users/karpathy', 'html_url': 'https://github.com/karpathy', 'followers_url': 'https://api.github.com/users/karpathy/followers', 'following_url': 'https://api.github.com/users/karpathy/following{/other_user}', 'gists_url': 'https://api.github.com/users/karpathy/gists{/gist_id}', 'starred_url': 'https://api.github.com/users/karpathy/starred{/owner}{/repo}', 'subscriptions_url': 'https://api.github.com/users/karpathy/subscriptions', 'organizations_url': 'https://api.github.com/users/karpathy/orgs', 'repos_url': 'https://api.github.com/users/karpathy/repos', 'events_url': 'https://api.github.com/users/karpathy/events{/privacy}', 'received_events_url': 'https://api.github.com/users/karpathy/received_events', 'type': 'User', 'site_admin': False}, 'private': False, 'html_url': 'https://github.com/karpathy/convnetjs', 'description': 'Deep Learning in Javascript. Train Convolutional Neural Networks (or ordinary ones) in your browser.', 'fork': False, 'url': 'https://api.github.com/repos/karpathy/convnetjs', 'forks_url': 'https://api.github.com/repos/karpathy/convnetjs/forks', 'keys_url': 'https://api.github.com/repos/karpathy/convnetjs/keys{/key_id}', 'collaborators_url': 'https://api.github.com/repos/karpathy/convnetjs/collaborators{/collaborator}', 'teams_url': 'https://api.github.com/repos/karpathy/convnetjs/teams', 'hooks_url': 'https://api.github.com/repos/karpathy/convnetjs/hooks', 'issue_events_url': 'https://api.github.com/repos/karpathy/convnetjs/issues/events{/number}', 'events_url': 'https://api.github.com/repos/karpathy/convnetjs/events', 'assignees_url': 'https://api.github.com/repos/karpathy/convnetjs/assignees{/user}', 'branches_url': 'https://api.github.com/repos/karpathy/convnetjs/branches{/branch}', 'tags_url': 'https://api.github.com/repos/karpathy/convnetjs/tags', 'blobs_url': 'https://api.github.com/repos/karpathy/convnetjs/git/blobs{/sha}', 'git_tags_url': 'https://api.github.com/repos/karpathy/convnetjs/git/tags{/sha}', 'git_refs_url': 'https://api.github.com/repos/karpathy/convnetjs/git/refs{/sha}', 'trees_url': 'https://api.github.com/repos/karpathy/convnetjs/git/trees{/sha}', 'statuses_url': 'https://api.github.com/repos/karpathy/convnetjs/statuses/{sha}', 'languages_url': 'https://api.github.com/repos/karpathy/convnetjs/languages', 'stargazers_url': 'https://api.github.com/repos/karpathy/convnetjs/stargazers', 'contributors_url': 'https://api.github.com/repos/karpathy/convnetjs/contributors', 'subscribers_url': 'https://api.github.com/repos/karpathy/convnetjs/subscribers', 'subscription_url': 'https://api.github.com/repos/karpathy/convnetjs/subscription', 'commits_url': 'https://api.github.com/repos/karpathy/convnetjs/commits{/sha}', 'git_commits_url': 'https://api.github.com/repos/karpathy/convnetjs/git/commits{/sha}', 'comments_url': 'https://api.github.com/repos/karpathy/convnetjs/comments{/number}', 'issue_comment_url': 'https://api.github.com/repos/karpathy/convnetjs/issues/comments{/number}', 'contents_url': 'https://api.github.com/repos/karpathy/convnetjs/contents/{+path}', 'compare_url': 'https://api.github.com/repos/karpathy/convnetjs/compare/{base}...{head}', 'merges_url': 'https://api.github.com/repos/karpathy/convnetjs/merges', 'archive_url': 'https://api.github.com/repos/karpathy/convnetjs/{archive_format}{/ref}', 'downloads_url': 'https://api.github.com/repos/karpathy/convnetjs/downloads', 'issues_url': 'https://api.github.com/repos/karpathy/convnetjs/issues{/number}', 'pulls_url': 'https://api.github.com/repos/karpathy/convnetjs/pulls{/number}', 'milestones_url': 'https://api.github.com/repos/karpathy/convnetjs/milestones{/number}', 'notifications_url': 'https://api.github.com/repos/karpathy/convnetjs/notifications{?since,all,participating}', 'labels_url': 'https://api.github.com/repos/karpathy/convnetjs/labels{/name}', 'releases_url': 'https://api.github.com/repos/karpathy/convnetjs/releases{/id}', 'deployments_url': 'https://api.github.com/repos/karpathy/convnetjs/deployments', 'created_at': '2014-01-05T00:12:15Z', 'updated_at': '2017-06-09T08:38:03Z', 'pushed_at': '2017-06-03T13:52:31Z', 'git_url': 'git://github.com/karpathy/convnetjs.git', 'ssh_url': 'git@github.com:karpathy/convnetjs.git', 'clone_url': 'https://github.com/karpathy/convnetjs.git', 'svn_url': 'https://github.com/karpathy/convnetjs', 'homepage': None, 'size': 27806, 'stargazers_count': 7251, 'watchers_count': 7251, 'language': 'JavaScript', 'has_issues': True, 'has_projects': True, 'has_downloads': True, 'has_wiki': True, 'has_pages': False, 'forks_count': 1466, 'mirror_url': None, 'open_issues_count': 47, 'forks': 1466, 'open_issues': 47, 'watchers': 7251, 'default_branch': 'master'}, {'id': 4201177, 'name': 'EigenLibSVM', 'full_name': 'karpathy/EigenLibSVM', 'owner': {'login': 'karpathy', 'id': 241138, 'avatar_url': 'https://avatars0.githubusercontent.com/u/241138?v=3', 'gravatar_id': '', 'url': 'https://api.github.com/users/karpathy', 'html_url': 'https://github.com/karpathy', 'followers_url': 'https://api.github.com/users/karpathy/followers', 'following_url': 'https://api.github.com/users/karpathy/following{/other_user}', 'gists_url': 'https://api.github.com/users/karpathy/gists{/gist_id}', 'starred_url': 'https://api.github.com/users/karpathy/starred{/owner}{/repo}', 'subscriptions_url': 'https://api.github.com/users/karpathy/subscriptions', 'organizations_url': 'https://api.github.com/users/karpathy/orgs', 'repos_url': 'https://api.github.com/users/karpathy/repos', 'events_url': 'https://api.github.com/users/karpathy/events{/privacy}', 'received_events_url': 'https://api.github.com/users/karpathy/received_events', 'type': 'User', 'site_admin': False}, 'private': False, 'html_url': 'https://github.com/karpathy/EigenLibSVM', 'description': \"A wrapper for LibSVM that lets you train SVM's directly on Eigen library matrices in C++\", 'fork': False, 'url': 'https://api.github.com/repos/karpathy/EigenLibSVM', 'forks_url': 'https://api.github.com/repos/karpathy/EigenLibSVM/forks', 'keys_url': 'https://api.github.com/repos/karpathy/EigenLibSVM/keys{/key_id}', 'collaborators_url': 'https://api.github.com/repos/karpathy/EigenLibSVM/collaborators{/collaborator}', 'teams_url': 'https://api.github.com/repos/karpathy/EigenLibSVM/teams', 'hooks_url': 'https://api.github.com/repos/karpathy/EigenLibSVM/hooks', 'issue_events_url': 'https://api.github.com/repos/karpathy/EigenLibSVM/issues/events{/number}', 'events_url': 'https://api.github.com/repos/karpathy/EigenLibSVM/events', 'assignees_url': 'https://api.github.com/repos/karpathy/EigenLibSVM/assignees{/user}', 'branches_url': 'https://api.github.com/repos/karpathy/EigenLibSVM/branches{/branch}', 'tags_url': 'https://api.github.com/repos/karpathy/EigenLibSVM/tags', 'blobs_url': 'https://api.github.com/repos/karpathy/EigenLibSVM/git/blobs{/sha}', 'git_tags_url': 'https://api.github.com/repos/karpathy/EigenLibSVM/git/tags{/sha}', 'git_refs_url': 'https://api.github.com/repos/karpathy/EigenLibSVM/git/refs{/sha}', 'trees_url': 'https://api.github.com/repos/karpathy/EigenLibSVM/git/trees{/sha}', 'statuses_url': 'https://api.github.com/repos/karpathy/EigenLibSVM/statuses/{sha}', 'languages_url': 'https://api.github.com/repos/karpathy/EigenLibSVM/languages', 'stargazers_url': 'https://api.github.com/repos/karpathy/EigenLibSVM/stargazers', 'contributors_url': 'https://api.github.com/repos/karpathy/EigenLibSVM/contributors', 'subscribers_url': 'https://api.github.com/repos/karpathy/EigenLibSVM/subscribers', 'subscription_url': 'https://api.github.com/repos/karpathy/EigenLibSVM/subscription', 'commits_url': 'https://api.github.com/repos/karpathy/EigenLibSVM/commits{/sha}', 'git_commits_url': 'https://api.github.com/repos/karpathy/EigenLibSVM/git/commits{/sha}', 'comments_url': 'https://api.github.com/repos/karpathy/EigenLibSVM/comments{/number}', 'issue_comment_url': 'https://api.github.com/repos/karpathy/EigenLibSVM/issues/comments{/number}', 'contents_url': 'https://api.github.com/repos/karpathy/EigenLibSVM/contents/{+path}', 'compare_url': 'https://api.github.com/repos/karpathy/EigenLibSVM/compare/{base}...{head}', 'merges_url': 'https://api.github.com/repos/karpathy/EigenLibSVM/merges', 'archive_url': 'https://api.github.com/repos/karpathy/EigenLibSVM/{archive_format}{/ref}', 'downloads_url': 'https://api.github.com/repos/karpathy/EigenLibSVM/downloads', 'issues_url': 'https://api.github.com/repos/karpathy/EigenLibSVM/issues{/number}', 'pulls_url': 'https://api.github.com/repos/karpathy/EigenLibSVM/pulls{/number}', 'milestones_url': 'https://api.github.com/repos/karpathy/EigenLibSVM/milestones{/number}', 'notifications_url': 'https://api.github.com/repos/karpathy/EigenLibSVM/notifications{?since,all,participating}', 'labels_url': 'https://api.github.com/repos/karpathy/EigenLibSVM/labels{/name}', 'releases_url': 'https://api.github.com/repos/karpathy/EigenLibSVM/releases{/id}', 'deployments_url': 'https://api.github.com/repos/karpathy/EigenLibSVM/deployments', 'created_at': '2012-05-02T08:48:39Z', 'updated_at': '2017-06-08T12:40:33Z', 'pushed_at': '2016-03-29T13:29:21Z', 'git_url': 'git://github.com/karpathy/EigenLibSVM.git', 'ssh_url': 'git@github.com:karpathy/EigenLibSVM.git', 'clone_url': 'https://github.com/karpathy/EigenLibSVM.git', 'svn_url': 'https://github.com/karpathy/EigenLibSVM', 'homepage': None, 'size': 104, 'stargazers_count': 35, 'watchers_count': 35, 'language': 'C++', 'has_issues': True, 'has_projects': True, 'has_downloads': True, 'has_wiki': True, 'has_pages': False, 'forks_count': 19, 'mirror_url': None, 'open_issues_count': 2, 'forks': 19, 'open_issues': 2, 'watchers': 35, 'default_branch': 'master'}, {'id': 5015528, 'name': 'forestjs', 'full_name': 'karpathy/forestjs', 'owner': {'login': 'karpathy', 'id': 241138, 'avatar_url': 'https://avatars0.githubusercontent.com/u/241138?v=3', 'gravatar_id': '', 'url': 'https://api.github.com/users/karpathy', 'html_url': 'https://github.com/karpathy', 'followers_url': 'https://api.github.com/users/karpathy/followers', 'following_url': 'https://api.github.com/users/karpathy/following{/other_user}', 'gists_url': 'https://api.github.com/users/karpathy/gists{/gist_id}', 'starred_url': 'https://api.github.com/users/karpathy/starred{/owner}{/repo}', 'subscriptions_url': 'https://api.github.com/users/karpathy/subscriptions', 'organizations_url': 'https://api.github.com/users/karpathy/orgs', 'repos_url': 'https://api.github.com/users/karpathy/repos', 'events_url': 'https://api.github.com/users/karpathy/events{/privacy}', 'received_events_url': 'https://api.github.com/users/karpathy/received_events', 'type': 'User', 'site_admin': False}, 'private': False, 'html_url': 'https://github.com/karpathy/forestjs', 'description': 'Random Forest implementation for JavaScript. Supports arbitrary weak learners. Includes interactive demo.', 'fork': False, 'url': 'https://api.github.com/repos/karpathy/forestjs', 'forks_url': 'https://api.github.com/repos/karpathy/forestjs/forks', 'keys_url': 'https://api.github.com/repos/karpathy/forestjs/keys{/key_id}', 'collaborators_url': 'https://api.github.com/repos/karpathy/forestjs/collaborators{/collaborator}', 'teams_url': 'https://api.github.com/repos/karpathy/forestjs/teams', 'hooks_url': 'https://api.github.com/repos/karpathy/forestjs/hooks', 'issue_events_url': 'https://api.github.com/repos/karpathy/forestjs/issues/events{/number}', 'events_url': 'https://api.github.com/repos/karpathy/forestjs/events', 'assignees_url': 'https://api.github.com/repos/karpathy/forestjs/assignees{/user}', 'branches_url': 'https://api.github.com/repos/karpathy/forestjs/branches{/branch}', 'tags_url': 'https://api.github.com/repos/karpathy/forestjs/tags', 'blobs_url': 'https://api.github.com/repos/karpathy/forestjs/git/blobs{/sha}', 'git_tags_url': 'https://api.github.com/repos/karpathy/forestjs/git/tags{/sha}', 'git_refs_url': 'https://api.github.com/repos/karpathy/forestjs/git/refs{/sha}', 'trees_url': 'https://api.github.com/repos/karpathy/forestjs/git/trees{/sha}', 'statuses_url': 'https://api.github.com/repos/karpathy/forestjs/statuses/{sha}', 'languages_url': 'https://api.github.com/repos/karpathy/forestjs/languages', 'stargazers_url': 'https://api.github.com/repos/karpathy/forestjs/stargazers', 'contributors_url': 'https://api.github.com/repos/karpathy/forestjs/contributors', 'subscribers_url': 'https://api.github.com/repos/karpathy/forestjs/subscribers', 'subscription_url': 'https://api.github.com/repos/karpathy/forestjs/subscription', 'commits_url': 'https://api.github.com/repos/karpathy/forestjs/commits{/sha}', 'git_commits_url': 'https://api.github.com/repos/karpathy/forestjs/git/commits{/sha}', 'comments_url': 'https://api.github.com/repos/karpathy/forestjs/comments{/number}', 'issue_comment_url': 'https://api.github.com/repos/karpathy/forestjs/issues/comments{/number}', 'contents_url': 'https://api.github.com/repos/karpathy/forestjs/contents/{+path}', 'compare_url': 'https://api.github.com/repos/karpathy/forestjs/compare/{base}...{head}', 'merges_url': 'https://api.github.com/repos/karpathy/forestjs/merges', 'archive_url': 'https://api.github.com/repos/karpathy/forestjs/{archive_format}{/ref}', 'downloads_url': 'https://api.github.com/repos/karpathy/forestjs/downloads', 'issues_url': 'https://api.github.com/repos/karpathy/forestjs/issues{/number}', 'pulls_url': 'https://api.github.com/repos/karpathy/forestjs/pulls{/number}', 'milestones_url': 'https://api.github.com/repos/karpathy/forestjs/milestones{/number}', 'notifications_url': 'https://api.github.com/repos/karpathy/forestjs/notifications{?since,all,participating}', 'labels_url': 'https://api.github.com/repos/karpathy/forestjs/labels{/name}', 'releases_url': 'https://api.github.com/repos/karpathy/forestjs/releases{/id}', 'deployments_url': 'https://api.github.com/repos/karpathy/forestjs/deployments', 'created_at': '2012-07-13T06:54:13Z', 'updated_at': '2017-06-08T14:07:11Z', 'pushed_at': '2012-10-04T11:01:00Z', 'git_url': 'git://github.com/karpathy/forestjs.git', 'ssh_url': 'git@github.com:karpathy/forestjs.git', 'clone_url': 'https://github.com/karpathy/forestjs.git', 'svn_url': 'https://github.com/karpathy/forestjs', 'homepage': None, 'size': 172, 'stargazers_count': 206, 'watchers_count': 206, 'language': 'JavaScript', 'has_issues': True, 'has_projects': True, 'has_downloads': True, 'has_wiki': True, 'has_pages': False, 'forks_count': 40, 'mirror_url': None, 'open_issues_count': 1, 'forks': 40, 'open_issues': 1, 'watchers': 206, 'default_branch': 'master'}, {'id': 21445808, 'name': 'karpathy.github.io', 'full_name': 'karpathy/karpathy.github.io', 'owner': {'login': 'karpathy', 'id': 241138, 'avatar_url': 'https://avatars0.githubusercontent.com/u/241138?v=3', 'gravatar_id': '', 'url': 'https://api.github.com/users/karpathy', 'html_url': 'https://github.com/karpathy', 'followers_url': 'https://api.github.com/users/karpathy/followers', 'following_url': 'https://api.github.com/users/karpathy/following{/other_user}', 'gists_url': 'https://api.github.com/users/karpathy/gists{/gist_id}', 'starred_url': 'https://api.github.com/users/karpathy/starred{/owner}{/repo}', 'subscriptions_url': 'https://api.github.com/users/karpathy/subscriptions', 'organizations_url': 'https://api.github.com/users/karpathy/orgs', 'repos_url': 'https://api.github.com/users/karpathy/repos', 'events_url': 'https://api.github.com/users/karpathy/events{/privacy}', 'received_events_url': 'https://api.github.com/users/karpathy/received_events', 'type': 'User', 'site_admin': False}, 'private': False, 'html_url': 'https://github.com/karpathy/karpathy.github.io', 'description': 'my blog', 'fork': False, 'url': 'https://api.github.com/repos/karpathy/karpathy.github.io', 'forks_url': 'https://api.github.com/repos/karpathy/karpathy.github.io/forks', 'keys_url': 'https://api.github.com/repos/karpathy/karpathy.github.io/keys{/key_id}', 'collaborators_url': 'https://api.github.com/repos/karpathy/karpathy.github.io/collaborators{/collaborator}', 'teams_url': 'https://api.github.com/repos/karpathy/karpathy.github.io/teams', 'hooks_url': 'https://api.github.com/repos/karpathy/karpathy.github.io/hooks', 'issue_events_url': 'https://api.github.com/repos/karpathy/karpathy.github.io/issues/events{/number}', 'events_url': 'https://api.github.com/repos/karpathy/karpathy.github.io/events', 'assignees_url': 'https://api.github.com/repos/karpathy/karpathy.github.io/assignees{/user}', 'branches_url': 'https://api.github.com/repos/karpathy/karpathy.github.io/branches{/branch}', 'tags_url': 'https://api.github.com/repos/karpathy/karpathy.github.io/tags', 'blobs_url': 'https://api.github.com/repos/karpathy/karpathy.github.io/git/blobs{/sha}', 'git_tags_url': 'https://api.github.com/repos/karpathy/karpathy.github.io/git/tags{/sha}', 'git_refs_url': 'https://api.github.com/repos/karpathy/karpathy.github.io/git/refs{/sha}', 'trees_url': 'https://api.github.com/repos/karpathy/karpathy.github.io/git/trees{/sha}', 'statuses_url': 'https://api.github.com/repos/karpathy/karpathy.github.io/statuses/{sha}', 'languages_url': 'https://api.github.com/repos/karpathy/karpathy.github.io/languages', 'stargazers_url': 'https://api.github.com/repos/karpathy/karpathy.github.io/stargazers', 'contributors_url': 'https://api.github.com/repos/karpathy/karpathy.github.io/contributors', 'subscribers_url': 'https://api.github.com/repos/karpathy/karpathy.github.io/subscribers', 'subscription_url': 'https://api.github.com/repos/karpathy/karpathy.github.io/subscription', 'commits_url': 'https://api.github.com/repos/karpathy/karpathy.github.io/commits{/sha}', 'git_commits_url': 'https://api.github.com/repos/karpathy/karpathy.github.io/git/commits{/sha}', 'comments_url': 'https://api.github.com/repos/karpathy/karpathy.github.io/comments{/number}', 'issue_comment_url': 'https://api.github.com/repos/karpathy/karpathy.github.io/issues/comments{/number}', 'contents_url': 'https://api.github.com/repos/karpathy/karpathy.github.io/contents/{+path}', 'compare_url': 'https://api.github.com/repos/karpathy/karpathy.github.io/compare/{base}...{head}', 'merges_url': 'https://api.github.com/repos/karpathy/karpathy.github.io/merges', 'archive_url': 'https://api.github.com/repos/karpathy/karpathy.github.io/{archive_format}{/ref}', 'downloads_url': 'https://api.github.com/repos/karpathy/karpathy.github.io/downloads', 'issues_url': 'https://api.github.com/repos/karpathy/karpathy.github.io/issues{/number}', 'pulls_url': 'https://api.github.com/repos/karpathy/karpathy.github.io/pulls{/number}', 'milestones_url': 'https://api.github.com/repos/karpathy/karpathy.github.io/milestones{/number}', 'notifications_url': 'https://api.github.com/repos/karpathy/karpathy.github.io/notifications{?since,all,participating}', 'labels_url': 'https://api.github.com/repos/karpathy/karpathy.github.io/labels{/name}', 'releases_url': 'https://api.github.com/repos/karpathy/karpathy.github.io/releases{/id}', 'deployments_url': 'https://api.github.com/repos/karpathy/karpathy.github.io/deployments', 'created_at': '2014-07-03T01:24:33Z', 'updated_at': '2017-06-01T04:14:23Z', 'pushed_at': '2017-05-21T03:56:17Z', 'git_url': 'git://github.com/karpathy/karpathy.github.io.git', 'ssh_url': 'git@github.com:karpathy/karpathy.github.io.git', 'clone_url': 'https://github.com/karpathy/karpathy.github.io.git', 'svn_url': 'https://github.com/karpathy/karpathy.github.io', 'homepage': None, 'size': 23612, 'stargazers_count': 150, 'watchers_count': 150, 'language': 'CSS', 'has_issues': True, 'has_projects': True, 'has_downloads': True, 'has_wiki': True, 'has_pages': True, 'forks_count': 97, 'mirror_url': None, 'open_issues_count': 20, 'forks': 97, 'open_issues': 20, 'watchers': 150, 'default_branch': 'master'}, {'id': 4476772, 'name': 'lifejs', 'full_name': 'karpathy/lifejs', 'owner': {'login': 'karpathy', 'id': 241138, 'avatar_url': 'https://avatars0.githubusercontent.com/u/241138?v=3', 'gravatar_id': '', 'url': 'https://api.github.com/users/karpathy', 'html_url': 'https://github.com/karpathy', 'followers_url': 'https://api.github.com/users/karpathy/followers', 'following_url': 'https://api.github.com/users/karpathy/following{/other_user}', 'gists_url': 'https://api.github.com/users/karpathy/gists{/gist_id}', 'starred_url': 'https://api.github.com/users/karpathy/starred{/owner}{/repo}', 'subscriptions_url': 'https://api.github.com/users/karpathy/subscriptions', 'organizations_url': 'https://api.github.com/users/karpathy/orgs', 'repos_url': 'https://api.github.com/users/karpathy/repos', 'events_url': 'https://api.github.com/users/karpathy/events{/privacy}', 'received_events_url': 'https://api.github.com/users/karpathy/received_events', 'type': 'User', 'site_admin': False}, 'private': False, 'html_url': 'https://github.com/karpathy/lifejs', 'description': 'Artificial Life simulator using canvas. Based on https://github.com/karpathy/scriptsbots', 'fork': True, 'url': 'https://api.github.com/repos/karpathy/lifejs', 'forks_url': 'https://api.github.com/repos/karpathy/lifejs/forks', 'keys_url': 'https://api.github.com/repos/karpathy/lifejs/keys{/key_id}', 'collaborators_url': 'https://api.github.com/repos/karpathy/lifejs/collaborators{/collaborator}', 'teams_url': 'https://api.github.com/repos/karpathy/lifejs/teams', 'hooks_url': 'https://api.github.com/repos/karpathy/lifejs/hooks', 'issue_events_url': 'https://api.github.com/repos/karpathy/lifejs/issues/events{/number}', 'events_url': 'https://api.github.com/repos/karpathy/lifejs/events', 'assignees_url': 'https://api.github.com/repos/karpathy/lifejs/assignees{/user}', 'branches_url': 'https://api.github.com/repos/karpathy/lifejs/branches{/branch}', 'tags_url': 'https://api.github.com/repos/karpathy/lifejs/tags', 'blobs_url': 'https://api.github.com/repos/karpathy/lifejs/git/blobs{/sha}', 'git_tags_url': 'https://api.github.com/repos/karpathy/lifejs/git/tags{/sha}', 'git_refs_url': 'https://api.github.com/repos/karpathy/lifejs/git/refs{/sha}', 'trees_url': 'https://api.github.com/repos/karpathy/lifejs/git/trees{/sha}', 'statuses_url': 'https://api.github.com/repos/karpathy/lifejs/statuses/{sha}', 'languages_url': 'https://api.github.com/repos/karpathy/lifejs/languages', 'stargazers_url': 'https://api.github.com/repos/karpathy/lifejs/stargazers', 'contributors_url': 'https://api.github.com/repos/karpathy/lifejs/contributors', 'subscribers_url': 'https://api.github.com/repos/karpathy/lifejs/subscribers', 'subscription_url': 'https://api.github.com/repos/karpathy/lifejs/subscription', 'commits_url': 'https://api.github.com/repos/karpathy/lifejs/commits{/sha}', 'git_commits_url': 'https://api.github.com/repos/karpathy/lifejs/git/commits{/sha}', 'comments_url': 'https://api.github.com/repos/karpathy/lifejs/comments{/number}', 'issue_comment_url': 'https://api.github.com/repos/karpathy/lifejs/issues/comments{/number}', 'contents_url': 'https://api.github.com/repos/karpathy/lifejs/contents/{+path}', 'compare_url': 'https://api.github.com/repos/karpathy/lifejs/compare/{base}...{head}', 'merges_url': 'https://api.github.com/repos/karpathy/lifejs/merges', 'archive_url': 'https://api.github.com/repos/karpathy/lifejs/{archive_format}{/ref}', 'downloads_url': 'https://api.github.com/repos/karpathy/lifejs/downloads', 'issues_url': 'https://api.github.com/repos/karpathy/lifejs/issues{/number}', 'pulls_url': 'https://api.github.com/repos/karpathy/lifejs/pulls{/number}', 'milestones_url': 'https://api.github.com/repos/karpathy/lifejs/milestones{/number}', 'notifications_url': 'https://api.github.com/repos/karpathy/lifejs/notifications{?since,all,participating}', 'labels_url': 'https://api.github.com/repos/karpathy/lifejs/labels{/name}', 'releases_url': 'https://api.github.com/repos/karpathy/lifejs/releases{/id}', 'deployments_url': 'https://api.github.com/repos/karpathy/lifejs/deployments', 'created_at': '2012-05-29T02:24:28Z', 'updated_at': '2017-06-05T22:55:48Z', 'pushed_at': '2012-05-27T18:20:20Z', 'git_url': 'git://github.com/karpathy/lifejs.git', 'ssh_url': 'git@github.com:karpathy/lifejs.git', 'clone_url': 'https://github.com/karpathy/lifejs.git', 'svn_url': 'https://github.com/karpathy/lifejs', 'homepage': 'http://jimallanson.github.com/lifejs/', 'size': 215, 'stargazers_count': 41, 'watchers_count': 41, 'language': 'JavaScript', 'has_issues': False, 'has_projects': True, 'has_downloads': True, 'has_wiki': True, 'has_pages': False, 'forks_count': 14, 'mirror_url': None, 'open_issues_count': 0, 'forks': 14, 'open_issues': 0, 'watchers': 41, 'default_branch': 'master'}, {'id': 5568529, 'name': 'MatlabWrapper', 'full_name': 'karpathy/MatlabWrapper', 'owner': {'login': 'karpathy', 'id': 241138, 'avatar_url': 'https://avatars0.githubusercontent.com/u/241138?v=3', 'gravatar_id': '', 'url': 'https://api.github.com/users/karpathy', 'html_url': 'https://github.com/karpathy', 'followers_url': 'https://api.github.com/users/karpathy/followers', 'following_url': 'https://api.github.com/users/karpathy/following{/other_user}', 'gists_url': 'https://api.github.com/users/karpathy/gists{/gist_id}', 'starred_url': 'https://api.github.com/users/karpathy/starred{/owner}{/repo}', 'subscriptions_url': 'https://api.github.com/users/karpathy/subscriptions', 'organizations_url': 'https://api.github.com/users/karpathy/orgs', 'repos_url': 'https://api.github.com/users/karpathy/repos', 'events_url': 'https://api.github.com/users/karpathy/events{/privacy}', 'received_events_url': 'https://api.github.com/users/karpathy/received_events', 'type': 'User', 'site_admin': False}, 'private': False, 'html_url': 'https://github.com/karpathy/MatlabWrapper', 'description': 'C++ convenience class to communicate with a Matlab instance. Send matrices back and forth, execute arbitrary Matlab commands, or drop into interactive Matlab session right in the middle of your C++ code.', 'fork': False, 'url': 'https://api.github.com/repos/karpathy/MatlabWrapper', 'forks_url': 'https://api.github.com/repos/karpathy/MatlabWrapper/forks', 'keys_url': 'https://api.github.com/repos/karpathy/MatlabWrapper/keys{/key_id}', 'collaborators_url': 'https://api.github.com/repos/karpathy/MatlabWrapper/collaborators{/collaborator}', 'teams_url': 'https://api.github.com/repos/karpathy/MatlabWrapper/teams', 'hooks_url': 'https://api.github.com/repos/karpathy/MatlabWrapper/hooks', 'issue_events_url': 'https://api.github.com/repos/karpathy/MatlabWrapper/issues/events{/number}', 'events_url': 'https://api.github.com/repos/karpathy/MatlabWrapper/events', 'assignees_url': 'https://api.github.com/repos/karpathy/MatlabWrapper/assignees{/user}', 'branches_url': 'https://api.github.com/repos/karpathy/MatlabWrapper/branches{/branch}', 'tags_url': 'https://api.github.com/repos/karpathy/MatlabWrapper/tags', 'blobs_url': 'https://api.github.com/repos/karpathy/MatlabWrapper/git/blobs{/sha}', 'git_tags_url': 'https://api.github.com/repos/karpathy/MatlabWrapper/git/tags{/sha}', 'git_refs_url': 'https://api.github.com/repos/karpathy/MatlabWrapper/git/refs{/sha}', 'trees_url': 'https://api.github.com/repos/karpathy/MatlabWrapper/git/trees{/sha}', 'statuses_url': 'https://api.github.com/repos/karpathy/MatlabWrapper/statuses/{sha}', 'languages_url': 'https://api.github.com/repos/karpathy/MatlabWrapper/languages', 'stargazers_url': 'https://api.github.com/repos/karpathy/MatlabWrapper/stargazers', 'contributors_url': 'https://api.github.com/repos/karpathy/MatlabWrapper/contributors', 'subscribers_url': 'https://api.github.com/repos/karpathy/MatlabWrapper/subscribers', 'subscription_url': 'https://api.github.com/repos/karpathy/MatlabWrapper/subscription', 'commits_url': 'https://api.github.com/repos/karpathy/MatlabWrapper/commits{/sha}', 'git_commits_url': 'https://api.github.com/repos/karpathy/MatlabWrapper/git/commits{/sha}', 'comments_url': 'https://api.github.com/repos/karpathy/MatlabWrapper/comments{/number}', 'issue_comment_url': 'https://api.github.com/repos/karpathy/MatlabWrapper/issues/comments{/number}', 'contents_url': 'https://api.github.com/repos/karpathy/MatlabWrapper/contents/{+path}', 'compare_url': 'https://api.github.com/repos/karpathy/MatlabWrapper/compare/{base}...{head}', 'merges_url': 'https://api.github.com/repos/karpathy/MatlabWrapper/merges', 'archive_url': 'https://api.github.com/repos/karpathy/MatlabWrapper/{archive_format}{/ref}', 'downloads_url': 'https://api.github.com/repos/karpathy/MatlabWrapper/downloads', 'issues_url': 'https://api.github.com/repos/karpathy/MatlabWrapper/issues{/number}', 'pulls_url': 'https://api.github.com/repos/karpathy/MatlabWrapper/pulls{/number}', 'milestones_url': 'https://api.github.com/repos/karpathy/MatlabWrapper/milestones{/number}', 'notifications_url': 'https://api.github.com/repos/karpathy/MatlabWrapper/notifications{?since,all,participating}', 'labels_url': 'https://api.github.com/repos/karpathy/MatlabWrapper/labels{/name}', 'releases_url': 'https://api.github.com/repos/karpathy/MatlabWrapper/releases{/id}', 'deployments_url': 'https://api.github.com/repos/karpathy/MatlabWrapper/deployments', 'created_at': '2012-08-27T08:32:35Z', 'updated_at': '2017-05-04T22:10:12Z', 'pushed_at': '2012-08-27T08:36:58Z', 'git_url': 'git://github.com/karpathy/MatlabWrapper.git', 'ssh_url': 'git@github.com:karpathy/MatlabWrapper.git', 'clone_url': 'https://github.com/karpathy/MatlabWrapper.git', 'svn_url': 'https://github.com/karpathy/MatlabWrapper', 'homepage': '', 'size': 92, 'stargazers_count': 28, 'watchers_count': 28, 'language': 'C++', 'has_issues': True, 'has_projects': True, 'has_downloads': True, 'has_wiki': True, 'has_pages': False, 'forks_count': 5, 'mirror_url': None, 'open_issues_count': 1, 'forks': 5, 'open_issues': 1, 'watchers': 28, 'default_branch': 'master'}, {'id': 27244649, 'name': 'neuraltalk', 'full_name': 'karpathy/neuraltalk', 'owner': {'login': 'karpathy', 'id': 241138, 'avatar_url': 'https://avatars0.githubusercontent.com/u/241138?v=3', 'gravatar_id': '', 'url': 'https://api.github.com/users/karpathy', 'html_url': 'https://github.com/karpathy', 'followers_url': 'https://api.github.com/users/karpathy/followers', 'following_url': 'https://api.github.com/users/karpathy/following{/other_user}', 'gists_url': 'https://api.github.com/users/karpathy/gists{/gist_id}', 'starred_url': 'https://api.github.com/users/karpathy/starred{/owner}{/repo}', 'subscriptions_url': 'https://api.github.com/users/karpathy/subscriptions', 'organizations_url': 'https://api.github.com/users/karpathy/orgs', 'repos_url': 'https://api.github.com/users/karpathy/repos', 'events_url': 'https://api.github.com/users/karpathy/events{/privacy}', 'received_events_url': 'https://api.github.com/users/karpathy/received_events', 'type': 'User', 'site_admin': False}, 'private': False, 'html_url': 'https://github.com/karpathy/neuraltalk', 'description': 'NeuralTalk is a Python+numpy project for learning Multimodal Recurrent Neural Networks that describe images with sentences.', 'fork': False, 'url': 'https://api.github.com/repos/karpathy/neuraltalk', 'forks_url': 'https://api.github.com/repos/karpathy/neuraltalk/forks', 'keys_url': 'https://api.github.com/repos/karpathy/neuraltalk/keys{/key_id}', 'collaborators_url': 'https://api.github.com/repos/karpathy/neuraltalk/collaborators{/collaborator}', 'teams_url': 'https://api.github.com/repos/karpathy/neuraltalk/teams', 'hooks_url': 'https://api.github.com/repos/karpathy/neuraltalk/hooks', 'issue_events_url': 'https://api.github.com/repos/karpathy/neuraltalk/issues/events{/number}', 'events_url': 'https://api.github.com/repos/karpathy/neuraltalk/events', 'assignees_url': 'https://api.github.com/repos/karpathy/neuraltalk/assignees{/user}', 'branches_url': 'https://api.github.com/repos/karpathy/neuraltalk/branches{/branch}', 'tags_url': 'https://api.github.com/repos/karpathy/neuraltalk/tags', 'blobs_url': 'https://api.github.com/repos/karpathy/neuraltalk/git/blobs{/sha}', 'git_tags_url': 'https://api.github.com/repos/karpathy/neuraltalk/git/tags{/sha}', 'git_refs_url': 'https://api.github.com/repos/karpathy/neuraltalk/git/refs{/sha}', 'trees_url': 'https://api.github.com/repos/karpathy/neuraltalk/git/trees{/sha}', 'statuses_url': 'https://api.github.com/repos/karpathy/neuraltalk/statuses/{sha}', 'languages_url': 'https://api.github.com/repos/karpathy/neuraltalk/languages', 'stargazers_url': 'https://api.github.com/repos/karpathy/neuraltalk/stargazers', 'contributors_url': 'https://api.github.com/repos/karpathy/neuraltalk/contributors', 'subscribers_url': 'https://api.github.com/repos/karpathy/neuraltalk/subscribers', 'subscription_url': 'https://api.github.com/repos/karpathy/neuraltalk/subscription', 'commits_url': 'https://api.github.com/repos/karpathy/neuraltalk/commits{/sha}', 'git_commits_url': 'https://api.github.com/repos/karpathy/neuraltalk/git/commits{/sha}', 'comments_url': 'https://api.github.com/repos/karpathy/neuraltalk/comments{/number}', 'issue_comment_url': 'https://api.github.com/repos/karpathy/neuraltalk/issues/comments{/number}', 'contents_url': 'https://api.github.com/repos/karpathy/neuraltalk/contents/{+path}', 'compare_url': 'https://api.github.com/repos/karpathy/neuraltalk/compare/{base}...{head}', 'merges_url': 'https://api.github.com/repos/karpathy/neuraltalk/merges', 'archive_url': 'https://api.github.com/repos/karpathy/neuraltalk/{archive_format}{/ref}', 'downloads_url': 'https://api.github.com/repos/karpathy/neuraltalk/downloads', 'issues_url': 'https://api.github.com/repos/karpathy/neuraltalk/issues{/number}', 'pulls_url': 'https://api.github.com/repos/karpathy/neuraltalk/pulls{/number}', 'milestones_url': 'https://api.github.com/repos/karpathy/neuraltalk/milestones{/number}', 'notifications_url': 'https://api.github.com/repos/karpathy/neuraltalk/notifications{?since,all,participating}', 'labels_url': 'https://api.github.com/repos/karpathy/neuraltalk/labels{/name}', 'releases_url': 'https://api.github.com/repos/karpathy/neuraltalk/releases{/id}', 'deployments_url': 'https://api.github.com/repos/karpathy/neuraltalk/deployments', 'created_at': '2014-11-27T23:22:39Z', 'updated_at': '2017-06-08T21:16:58Z', 'pushed_at': '2017-04-16T19:43:22Z', 'git_url': 'git://github.com/karpathy/neuraltalk.git', 'ssh_url': 'git@github.com:karpathy/neuraltalk.git', 'clone_url': 'https://github.com/karpathy/neuraltalk.git', 'svn_url': 'https://github.com/karpathy/neuraltalk', 'homepage': None, 'size': 5216, 'stargazers_count': 4223, 'watchers_count': 4223, 'language': 'Python', 'has_issues': True, 'has_projects': True, 'has_downloads': True, 'has_wiki': True, 'has_pages': False, 'forks_count': 1048, 'mirror_url': None, 'open_issues_count': 27, 'forks': 1048, 'open_issues': 27, 'watchers': 4223, 'default_branch': 'master'}, {'id': 46531155, 'name': 'neuraltalk2', 'full_name': 'karpathy/neuraltalk2', 'owner': {'login': 'karpathy', 'id': 241138, 'avatar_url': 'https://avatars0.githubusercontent.com/u/241138?v=3', 'gravatar_id': '', 'url': 'https://api.github.com/users/karpathy', 'html_url': 'https://github.com/karpathy', 'followers_url': 'https://api.github.com/users/karpathy/followers', 'following_url': 'https://api.github.com/users/karpathy/following{/other_user}', 'gists_url': 'https://api.github.com/users/karpathy/gists{/gist_id}', 'starred_url': 'https://api.github.com/users/karpathy/starred{/owner}{/repo}', 'subscriptions_url': 'https://api.github.com/users/karpathy/subscriptions', 'organizations_url': 'https://api.github.com/users/karpathy/orgs', 'repos_url': 'https://api.github.com/users/karpathy/repos', 'events_url': 'https://api.github.com/users/karpathy/events{/privacy}', 'received_events_url': 'https://api.github.com/users/karpathy/received_events', 'type': 'User', 'site_admin': False}, 'private': False, 'html_url': 'https://github.com/karpathy/neuraltalk2', 'description': 'Efficient Image Captioning code in Torch, runs on GPU', 'fork': False, 'url': 'https://api.github.com/repos/karpathy/neuraltalk2', 'forks_url': 'https://api.github.com/repos/karpathy/neuraltalk2/forks', 'keys_url': 'https://api.github.com/repos/karpathy/neuraltalk2/keys{/key_id}', 'collaborators_url': 'https://api.github.com/repos/karpathy/neuraltalk2/collaborators{/collaborator}', 'teams_url': 'https://api.github.com/repos/karpathy/neuraltalk2/teams', 'hooks_url': 'https://api.github.com/repos/karpathy/neuraltalk2/hooks', 'issue_events_url': 'https://api.github.com/repos/karpathy/neuraltalk2/issues/events{/number}', 'events_url': 'https://api.github.com/repos/karpathy/neuraltalk2/events', 'assignees_url': 'https://api.github.com/repos/karpathy/neuraltalk2/assignees{/user}', 'branches_url': 'https://api.github.com/repos/karpathy/neuraltalk2/branches{/branch}', 'tags_url': 'https://api.github.com/repos/karpathy/neuraltalk2/tags', 'blobs_url': 'https://api.github.com/repos/karpathy/neuraltalk2/git/blobs{/sha}', 'git_tags_url': 'https://api.github.com/repos/karpathy/neuraltalk2/git/tags{/sha}', 'git_refs_url': 'https://api.github.com/repos/karpathy/neuraltalk2/git/refs{/sha}', 'trees_url': 'https://api.github.com/repos/karpathy/neuraltalk2/git/trees{/sha}', 'statuses_url': 'https://api.github.com/repos/karpathy/neuraltalk2/statuses/{sha}', 'languages_url': 'https://api.github.com/repos/karpathy/neuraltalk2/languages', 'stargazers_url': 'https://api.github.com/repos/karpathy/neuraltalk2/stargazers', 'contributors_url': 'https://api.github.com/repos/karpathy/neuraltalk2/contributors', 'subscribers_url': 'https://api.github.com/repos/karpathy/neuraltalk2/subscribers', 'subscription_url': 'https://api.github.com/repos/karpathy/neuraltalk2/subscription', 'commits_url': 'https://api.github.com/repos/karpathy/neuraltalk2/commits{/sha}', 'git_commits_url': 'https://api.github.com/repos/karpathy/neuraltalk2/git/commits{/sha}', 'comments_url': 'https://api.github.com/repos/karpathy/neuraltalk2/comments{/number}', 'issue_comment_url': 'https://api.github.com/repos/karpathy/neuraltalk2/issues/comments{/number}', 'contents_url': 'https://api.github.com/repos/karpathy/neuraltalk2/contents/{+path}', 'compare_url': 'https://api.github.com/repos/karpathy/neuraltalk2/compare/{base}...{head}', 'merges_url': 'https://api.github.com/repos/karpathy/neuraltalk2/merges', 'archive_url': 'https://api.github.com/repos/karpathy/neuraltalk2/{archive_format}{/ref}', 'downloads_url': 'https://api.github.com/repos/karpathy/neuraltalk2/downloads', 'issues_url': 'https://api.github.com/repos/karpathy/neuraltalk2/issues{/number}', 'pulls_url': 'https://api.github.com/repos/karpathy/neuraltalk2/pulls{/number}', 'milestones_url': 'https://api.github.com/repos/karpathy/neuraltalk2/milestones{/number}', 'notifications_url': 'https://api.github.com/repos/karpathy/neuraltalk2/notifications{?since,all,participating}', 'labels_url': 'https://api.github.com/repos/karpathy/neuraltalk2/labels{/name}', 'releases_url': 'https://api.github.com/repos/karpathy/neuraltalk2/releases{/id}', 'deployments_url': 'https://api.github.com/repos/karpathy/neuraltalk2/deployments', 'created_at': '2015-11-20T01:27:58Z', 'updated_at': '2017-06-08T17:52:02Z', 'pushed_at': '2016-09-23T19:14:39Z', 'git_url': 'git://github.com/karpathy/neuraltalk2.git', 'ssh_url': 'git@github.com:karpathy/neuraltalk2.git', 'clone_url': 'https://github.com/karpathy/neuraltalk2.git', 'svn_url': 'https://github.com/karpathy/neuraltalk2', 'homepage': None, 'size': 370, 'stargazers_count': 3409, 'watchers_count': 3409, 'language': 'Jupyter Notebook', 'has_issues': True, 'has_projects': True, 'has_downloads': True, 'has_wiki': True, 'has_pages': False, 'forks_count': 722, 'mirror_url': None, 'open_issues_count': 116, 'forks': 722, 'open_issues': 116, 'watchers': 3409, 'default_branch': 'master'}, {'id': 6843526, 'name': 'nipspreview', 'full_name': 'karpathy/nipspreview', 'owner': {'login': 'karpathy', 'id': 241138, 'avatar_url': 'https://avatars0.githubusercontent.com/u/241138?v=3', 'gravatar_id': '', 'url': 'https://api.github.com/users/karpathy', 'html_url': 'https://github.com/karpathy', 'followers_url': 'https://api.github.com/users/karpathy/followers', 'following_url': 'https://api.github.com/users/karpathy/following{/other_user}', 'gists_url': 'https://api.github.com/users/karpathy/gists{/gist_id}', 'starred_url': 'https://api.github.com/users/karpathy/starred{/owner}{/repo}', 'subscriptions_url': 'https://api.github.com/users/karpathy/subscriptions', 'organizations_url': 'https://api.github.com/users/karpathy/orgs', 'repos_url': 'https://api.github.com/users/karpathy/repos', 'events_url': 'https://api.github.com/users/karpathy/events{/privacy}', 'received_events_url': 'https://api.github.com/users/karpathy/received_events', 'type': 'User', 'site_admin': False}, 'private': False, 'html_url': 'https://github.com/karpathy/nipspreview', 'description': 'Scripts that generate .html to more easily see NIPS papers', 'fork': False, 'url': 'https://api.github.com/repos/karpathy/nipspreview', 'forks_url': 'https://api.github.com/repos/karpathy/nipspreview/forks', 'keys_url': 'https://api.github.com/repos/karpathy/nipspreview/keys{/key_id}', 'collaborators_url': 'https://api.github.com/repos/karpathy/nipspreview/collaborators{/collaborator}', 'teams_url': 'https://api.github.com/repos/karpathy/nipspreview/teams', 'hooks_url': 'https://api.github.com/repos/karpathy/nipspreview/hooks', 'issue_events_url': 'https://api.github.com/repos/karpathy/nipspreview/issues/events{/number}', 'events_url': 'https://api.github.com/repos/karpathy/nipspreview/events', 'assignees_url': 'https://api.github.com/repos/karpathy/nipspreview/assignees{/user}', 'branches_url': 'https://api.github.com/repos/karpathy/nipspreview/branches{/branch}', 'tags_url': 'https://api.github.com/repos/karpathy/nipspreview/tags', 'blobs_url': 'https://api.github.com/repos/karpathy/nipspreview/git/blobs{/sha}', 'git_tags_url': 'https://api.github.com/repos/karpathy/nipspreview/git/tags{/sha}', 'git_refs_url': 'https://api.github.com/repos/karpathy/nipspreview/git/refs{/sha}', 'trees_url': 'https://api.github.com/repos/karpathy/nipspreview/git/trees{/sha}', 'statuses_url': 'https://api.github.com/repos/karpathy/nipspreview/statuses/{sha}', 'languages_url': 'https://api.github.com/repos/karpathy/nipspreview/languages', 'stargazers_url': 'https://api.github.com/repos/karpathy/nipspreview/stargazers', 'contributors_url': 'https://api.github.com/repos/karpathy/nipspreview/contributors', 'subscribers_url': 'https://api.github.com/repos/karpathy/nipspreview/subscribers', 'subscription_url': 'https://api.github.com/repos/karpathy/nipspreview/subscription', 'commits_url': 'https://api.github.com/repos/karpathy/nipspreview/commits{/sha}', 'git_commits_url': 'https://api.github.com/repos/karpathy/nipspreview/git/commits{/sha}', 'comments_url': 'https://api.github.com/repos/karpathy/nipspreview/comments{/number}', 'issue_comment_url': 'https://api.github.com/repos/karpathy/nipspreview/issues/comments{/number}', 'contents_url': 'https://api.github.com/repos/karpathy/nipspreview/contents/{+path}', 'compare_url': 'https://api.github.com/repos/karpathy/nipspreview/compare/{base}...{head}', 'merges_url': 'https://api.github.com/repos/karpathy/nipspreview/merges', 'archive_url': 'https://api.github.com/repos/karpathy/nipspreview/{archive_format}{/ref}', 'downloads_url': 'https://api.github.com/repos/karpathy/nipspreview/downloads', 'issues_url': 'https://api.github.com/repos/karpathy/nipspreview/issues{/number}', 'pulls_url': 'https://api.github.com/repos/karpathy/nipspreview/pulls{/number}', 'milestones_url': 'https://api.github.com/repos/karpathy/nipspreview/milestones{/number}', 'notifications_url': 'https://api.github.com/repos/karpathy/nipspreview/notifications{?since,all,participating}', 'labels_url': 'https://api.github.com/repos/karpathy/nipspreview/labels{/name}', 'releases_url': 'https://api.github.com/repos/karpathy/nipspreview/releases{/id}', 'deployments_url': 'https://api.github.com/repos/karpathy/nipspreview/deployments', 'created_at': '2012-11-24T19:36:08Z', 'updated_at': '2017-06-06T12:54:08Z', 'pushed_at': '2012-11-26T01:00:40Z', 'git_url': 'git://github.com/karpathy/nipspreview.git', 'ssh_url': 'git@github.com:karpathy/nipspreview.git', 'clone_url': 'https://github.com/karpathy/nipspreview.git', 'svn_url': 'https://github.com/karpathy/nipspreview', 'homepage': None, 'size': 165, 'stargazers_count': 99, 'watchers_count': 99, 'language': 'Python', 'has_issues': True, 'has_projects': True, 'has_downloads': True, 'has_wiki': True, 'has_pages': False, 'forks_count': 39, 'mirror_url': None, 'open_issues_count': 1, 'forks': 39, 'open_issues': 1, 'watchers': 99, 'default_branch': 'master'}, {'id': 35125164, 'name': 'nn', 'full_name': 'karpathy/nn', 'owner': {'login': 'karpathy', 'id': 241138, 'avatar_url': 'https://avatars0.githubusercontent.com/u/241138?v=3', 'gravatar_id': '', 'url': 'https://api.github.com/users/karpathy', 'html_url': 'https://github.com/karpathy', 'followers_url': 'https://api.github.com/users/karpathy/followers', 'following_url': 'https://api.github.com/users/karpathy/following{/other_user}', 'gists_url': 'https://api.github.com/users/karpathy/gists{/gist_id}', 'starred_url': 'https://api.github.com/users/karpathy/starred{/owner}{/repo}', 'subscriptions_url': 'https://api.github.com/users/karpathy/subscriptions', 'organizations_url': 'https://api.github.com/users/karpathy/orgs', 'repos_url': 'https://api.github.com/users/karpathy/repos', 'events_url': 'https://api.github.com/users/karpathy/events{/privacy}', 'received_events_url': 'https://api.github.com/users/karpathy/received_events', 'type': 'User', 'site_admin': False}, 'private': False, 'html_url': 'https://github.com/karpathy/nn', 'description': None, 'fork': True, 'url': 'https://api.github.com/repos/karpathy/nn', 'forks_url': 'https://api.github.com/repos/karpathy/nn/forks', 'keys_url': 'https://api.github.com/repos/karpathy/nn/keys{/key_id}', 'collaborators_url': 'https://api.github.com/repos/karpathy/nn/collaborators{/collaborator}', 'teams_url': 'https://api.github.com/repos/karpathy/nn/teams', 'hooks_url': 'https://api.github.com/repos/karpathy/nn/hooks', 'issue_events_url': 'https://api.github.com/repos/karpathy/nn/issues/events{/number}', 'events_url': 'https://api.github.com/repos/karpathy/nn/events', 'assignees_url': 'https://api.github.com/repos/karpathy/nn/assignees{/user}', 'branches_url': 'https://api.github.com/repos/karpathy/nn/branches{/branch}', 'tags_url': 'https://api.github.com/repos/karpathy/nn/tags', 'blobs_url': 'https://api.github.com/repos/karpathy/nn/git/blobs{/sha}', 'git_tags_url': 'https://api.github.com/repos/karpathy/nn/git/tags{/sha}', 'git_refs_url': 'https://api.github.com/repos/karpathy/nn/git/refs{/sha}', 'trees_url': 'https://api.github.com/repos/karpathy/nn/git/trees{/sha}', 'statuses_url': 'https://api.github.com/repos/karpathy/nn/statuses/{sha}', 'languages_url': 'https://api.github.com/repos/karpathy/nn/languages', 'stargazers_url': 'https://api.github.com/repos/karpathy/nn/stargazers', 'contributors_url': 'https://api.github.com/repos/karpathy/nn/contributors', 'subscribers_url': 'https://api.github.com/repos/karpathy/nn/subscribers', 'subscription_url': 'https://api.github.com/repos/karpathy/nn/subscription', 'commits_url': 'https://api.github.com/repos/karpathy/nn/commits{/sha}', 'git_commits_url': 'https://api.github.com/repos/karpathy/nn/git/commits{/sha}', 'comments_url': 'https://api.github.com/repos/karpathy/nn/comments{/number}', 'issue_comment_url': 'https://api.github.com/repos/karpathy/nn/issues/comments{/number}', 'contents_url': 'https://api.github.com/repos/karpathy/nn/contents/{+path}', 'compare_url': 'https://api.github.com/repos/karpathy/nn/compare/{base}...{head}', 'merges_url': 'https://api.github.com/repos/karpathy/nn/merges', 'archive_url': 'https://api.github.com/repos/karpathy/nn/{archive_format}{/ref}', 'downloads_url': 'https://api.github.com/repos/karpathy/nn/downloads', 'issues_url': 'https://api.github.com/repos/karpathy/nn/issues{/number}', 'pulls_url': 'https://api.github.com/repos/karpathy/nn/pulls{/number}', 'milestones_url': 'https://api.github.com/repos/karpathy/nn/milestones{/number}', 'notifications_url': 'https://api.github.com/repos/karpathy/nn/notifications{?since,all,participating}', 'labels_url': 'https://api.github.com/repos/karpathy/nn/labels{/name}', 'releases_url': 'https://api.github.com/repos/karpathy/nn/releases{/id}', 'deployments_url': 'https://api.github.com/repos/karpathy/nn/deployments', 'created_at': '2015-05-05T21:33:51Z', 'updated_at': '2015-12-07T23:39:12Z', 'pushed_at': '2016-02-05T14:58:20Z', 'git_url': 'git://github.com/karpathy/nn.git', 'ssh_url': 'git@github.com:karpathy/nn.git', 'clone_url': 'https://github.com/karpathy/nn.git', 'svn_url': 'https://github.com/karpathy/nn', 'homepage': None, 'size': 1345, 'stargazers_count': 4, 'watchers_count': 4, 'language': 'Lua', 'has_issues': False, 'has_projects': True, 'has_downloads': True, 'has_wiki': True, 'has_pages': False, 'forks_count': 3, 'mirror_url': None, 'open_issues_count': 1, 'forks': 3, 'open_issues': 1, 'watchers': 4, 'default_branch': 'master'}, {'id': 3085719, 'name': 'notpygamejs', 'full_name': 'karpathy/notpygamejs', 'owner': {'login': 'karpathy', 'id': 241138, 'avatar_url': 'https://avatars0.githubusercontent.com/u/241138?v=3', 'gravatar_id': '', 'url': 'https://api.github.com/users/karpathy', 'html_url': 'https://github.com/karpathy', 'followers_url': 'https://api.github.com/users/karpathy/followers', 'following_url': 'https://api.github.com/users/karpathy/following{/other_user}', 'gists_url': 'https://api.github.com/users/karpathy/gists{/gist_id}', 'starred_url': 'https://api.github.com/users/karpathy/starred{/owner}{/repo}', 'subscriptions_url': 'https://api.github.com/users/karpathy/subscriptions', 'organizations_url': 'https://api.github.com/users/karpathy/orgs', 'repos_url': 'https://api.github.com/users/karpathy/repos', 'events_url': 'https://api.github.com/users/karpathy/events{/privacy}', 'received_events_url': 'https://api.github.com/users/karpathy/received_events', 'type': 'User', 'site_admin': False}, 'private': False, 'html_url': 'https://github.com/karpathy/notpygamejs', 'description': 'Game making library for using Canvas element', 'fork': False, 'url': 'https://api.github.com/repos/karpathy/notpygamejs', 'forks_url': 'https://api.github.com/repos/karpathy/notpygamejs/forks', 'keys_url': 'https://api.github.com/repos/karpathy/notpygamejs/keys{/key_id}', 'collaborators_url': 'https://api.github.com/repos/karpathy/notpygamejs/collaborators{/collaborator}', 'teams_url': 'https://api.github.com/repos/karpathy/notpygamejs/teams', 'hooks_url': 'https://api.github.com/repos/karpathy/notpygamejs/hooks', 'issue_events_url': 'https://api.github.com/repos/karpathy/notpygamejs/issues/events{/number}', 'events_url': 'https://api.github.com/repos/karpathy/notpygamejs/events', 'assignees_url': 'https://api.github.com/repos/karpathy/notpygamejs/assignees{/user}', 'branches_url': 'https://api.github.com/repos/karpathy/notpygamejs/branches{/branch}', 'tags_url': 'https://api.github.com/repos/karpathy/notpygamejs/tags', 'blobs_url': 'https://api.github.com/repos/karpathy/notpygamejs/git/blobs{/sha}', 'git_tags_url': 'https://api.github.com/repos/karpathy/notpygamejs/git/tags{/sha}', 'git_refs_url': 'https://api.github.com/repos/karpathy/notpygamejs/git/refs{/sha}', 'trees_url': 'https://api.github.com/repos/karpathy/notpygamejs/git/trees{/sha}', 'statuses_url': 'https://api.github.com/repos/karpathy/notpygamejs/statuses/{sha}', 'languages_url': 'https://api.github.com/repos/karpathy/notpygamejs/languages', 'stargazers_url': 'https://api.github.com/repos/karpathy/notpygamejs/stargazers', 'contributors_url': 'https://api.github.com/repos/karpathy/notpygamejs/contributors', 'subscribers_url': 'https://api.github.com/repos/karpathy/notpygamejs/subscribers', 'subscription_url': 'https://api.github.com/repos/karpathy/notpygamejs/subscription', 'commits_url': 'https://api.github.com/repos/karpathy/notpygamejs/commits{/sha}', 'git_commits_url': 'https://api.github.com/repos/karpathy/notpygamejs/git/commits{/sha}', 'comments_url': 'https://api.github.com/repos/karpathy/notpygamejs/comments{/number}', 'issue_comment_url': 'https://api.github.com/repos/karpathy/notpygamejs/issues/comments{/number}', 'contents_url': 'https://api.github.com/repos/karpathy/notpygamejs/contents/{+path}', 'compare_url': 'https://api.github.com/repos/karpathy/notpygamejs/compare/{base}...{head}', 'merges_url': 'https://api.github.com/repos/karpathy/notpygamejs/merges', 'archive_url': 'https://api.github.com/repos/karpathy/notpygamejs/{archive_format}{/ref}', 'downloads_url': 'https://api.github.com/repos/karpathy/notpygamejs/downloads', 'issues_url': 'https://api.github.com/repos/karpathy/notpygamejs/issues{/number}', 'pulls_url': 'https://api.github.com/repos/karpathy/notpygamejs/pulls{/number}', 'milestones_url': 'https://api.github.com/repos/karpathy/notpygamejs/milestones{/number}', 'notifications_url': 'https://api.github.com/repos/karpathy/notpygamejs/notifications{?since,all,participating}', 'labels_url': 'https://api.github.com/repos/karpathy/notpygamejs/labels{/name}', 'releases_url': 'https://api.github.com/repos/karpathy/notpygamejs/releases{/id}', 'deployments_url': 'https://api.github.com/repos/karpathy/notpygamejs/deployments', 'created_at': '2012-01-02T04:55:06Z', 'updated_at': '2017-04-23T13:00:48Z', 'pushed_at': '2012-05-07T06:00:22Z', 'git_url': 'git://github.com/karpathy/notpygamejs.git', 'ssh_url': 'git@github.com:karpathy/notpygamejs.git', 'clone_url': 'https://github.com/karpathy/notpygamejs.git', 'svn_url': 'https://github.com/karpathy/notpygamejs', 'homepage': '', 'size': 116, 'stargazers_count': 20, 'watchers_count': 20, 'language': 'JavaScript', 'has_issues': True, 'has_projects': True, 'has_downloads': True, 'has_wiki': True, 'has_pages': False, 'forks_count': 5, 'mirror_url': None, 'open_issues_count': 0, 'forks': 5, 'open_issues': 0, 'watchers': 20, 'default_branch': 'master'}, {'id': 34023726, 'name': 'optim', 'full_name': 'karpathy/optim', 'owner': {'login': 'karpathy', 'id': 241138, 'avatar_url': 'https://avatars0.githubusercontent.com/u/241138?v=3', 'gravatar_id': '', 'url': 'https://api.github.com/users/karpathy', 'html_url': 'https://github.com/karpathy', 'followers_url': 'https://api.github.com/users/karpathy/followers', 'following_url': 'https://api.github.com/users/karpathy/following{/other_user}', 'gists_url': 'https://api.github.com/users/karpathy/gists{/gist_id}', 'starred_url': 'https://api.github.com/users/karpathy/starred{/owner}{/repo}', 'subscriptions_url': 'https://api.github.com/users/karpathy/subscriptions', 'organizations_url': 'https://api.github.com/users/karpathy/orgs', 'repos_url': 'https://api.github.com/users/karpathy/repos', 'events_url': 'https://api.github.com/users/karpathy/events{/privacy}', 'received_events_url': 'https://api.github.com/users/karpathy/received_events', 'type': 'User', 'site_admin': False}, 'private': False, 'html_url': 'https://github.com/karpathy/optim', 'description': 'A numeric optimization package for Torch.', 'fork': True, 'url': 'https://api.github.com/repos/karpathy/optim', 'forks_url': 'https://api.github.com/repos/karpathy/optim/forks', 'keys_url': 'https://api.github.com/repos/karpathy/optim/keys{/key_id}', 'collaborators_url': 'https://api.github.com/repos/karpathy/optim/collaborators{/collaborator}', 'teams_url': 'https://api.github.com/repos/karpathy/optim/teams', 'hooks_url': 'https://api.github.com/repos/karpathy/optim/hooks', 'issue_events_url': 'https://api.github.com/repos/karpathy/optim/issues/events{/number}', 'events_url': 'https://api.github.com/repos/karpathy/optim/events', 'assignees_url': 'https://api.github.com/repos/karpathy/optim/assignees{/user}', 'branches_url': 'https://api.github.com/repos/karpathy/optim/branches{/branch}', 'tags_url': 'https://api.github.com/repos/karpathy/optim/tags', 'blobs_url': 'https://api.github.com/repos/karpathy/optim/git/blobs{/sha}', 'git_tags_url': 'https://api.github.com/repos/karpathy/optim/git/tags{/sha}', 'git_refs_url': 'https://api.github.com/repos/karpathy/optim/git/refs{/sha}', 'trees_url': 'https://api.github.com/repos/karpathy/optim/git/trees{/sha}', 'statuses_url': 'https://api.github.com/repos/karpathy/optim/statuses/{sha}', 'languages_url': 'https://api.github.com/repos/karpathy/optim/languages', 'stargazers_url': 'https://api.github.com/repos/karpathy/optim/stargazers', 'contributors_url': 'https://api.github.com/repos/karpathy/optim/contributors', 'subscribers_url': 'https://api.github.com/repos/karpathy/optim/subscribers', 'subscription_url': 'https://api.github.com/repos/karpathy/optim/subscription', 'commits_url': 'https://api.github.com/repos/karpathy/optim/commits{/sha}', 'git_commits_url': 'https://api.github.com/repos/karpathy/optim/git/commits{/sha}', 'comments_url': 'https://api.github.com/repos/karpathy/optim/comments{/number}', 'issue_comment_url': 'https://api.github.com/repos/karpathy/optim/issues/comments{/number}', 'contents_url': 'https://api.github.com/repos/karpathy/optim/contents/{+path}', 'compare_url': 'https://api.github.com/repos/karpathy/optim/compare/{base}...{head}', 'merges_url': 'https://api.github.com/repos/karpathy/optim/merges', 'archive_url': 'https://api.github.com/repos/karpathy/optim/{archive_format}{/ref}', 'downloads_url': 'https://api.github.com/repos/karpathy/optim/downloads', 'issues_url': 'https://api.github.com/repos/karpathy/optim/issues{/number}', 'pulls_url': 'https://api.github.com/repos/karpathy/optim/pulls{/number}', 'milestones_url': 'https://api.github.com/repos/karpathy/optim/milestones{/number}', 'notifications_url': 'https://api.github.com/repos/karpathy/optim/notifications{?since,all,participating}', 'labels_url': 'https://api.github.com/repos/karpathy/optim/labels{/name}', 'releases_url': 'https://api.github.com/repos/karpathy/optim/releases{/id}', 'deployments_url': 'https://api.github.com/repos/karpathy/optim/deployments', 'created_at': '2015-04-15T23:28:55Z', 'updated_at': '2015-04-16T19:40:20Z', 'pushed_at': '2015-04-16T19:40:20Z', 'git_url': 'git://github.com/karpathy/optim.git', 'ssh_url': 'git@github.com:karpathy/optim.git', 'clone_url': 'https://github.com/karpathy/optim.git', 'svn_url': 'https://github.com/karpathy/optim', 'homepage': None, 'size': 214, 'stargazers_count': 0, 'watchers_count': 0, 'language': 'Lua', 'has_issues': False, 'has_projects': True, 'has_downloads': True, 'has_wiki': True, 'has_pages': False, 'forks_count': 1, 'mirror_url': None, 'open_issues_count': 0, 'forks': 1, 'open_issues': 0, 'watchers': 0, 'default_branch': 'master'}, {'id': 65160559, 'name': 'paper-notes', 'full_name': 'karpathy/paper-notes', 'owner': {'login': 'karpathy', 'id': 241138, 'avatar_url': 'https://avatars0.githubusercontent.com/u/241138?v=3', 'gravatar_id': '', 'url': 'https://api.github.com/users/karpathy', 'html_url': 'https://github.com/karpathy', 'followers_url': 'https://api.github.com/users/karpathy/followers', 'following_url': 'https://api.github.com/users/karpathy/following{/other_user}', 'gists_url': 'https://api.github.com/users/karpathy/gists{/gist_id}', 'starred_url': 'https://api.github.com/users/karpathy/starred{/owner}{/repo}', 'subscriptions_url': 'https://api.github.com/users/karpathy/subscriptions', 'organizations_url': 'https://api.github.com/users/karpathy/orgs', 'repos_url': 'https://api.github.com/users/karpathy/repos', 'events_url': 'https://api.github.com/users/karpathy/events{/privacy}', 'received_events_url': 'https://api.github.com/users/karpathy/received_events', 'type': 'User', 'site_admin': False}, 'private': False, 'html_url': 'https://github.com/karpathy/paper-notes', 'description': 'Random notes on papers, likely a short-term repo.', 'fork': False, 'url': 'https://api.github.com/repos/karpathy/paper-notes', 'forks_url': 'https://api.github.com/repos/karpathy/paper-notes/forks', 'keys_url': 'https://api.github.com/repos/karpathy/paper-notes/keys{/key_id}', 'collaborators_url': 'https://api.github.com/repos/karpathy/paper-notes/collaborators{/collaborator}', 'teams_url': 'https://api.github.com/repos/karpathy/paper-notes/teams', 'hooks_url': 'https://api.github.com/repos/karpathy/paper-notes/hooks', 'issue_events_url': 'https://api.github.com/repos/karpathy/paper-notes/issues/events{/number}', 'events_url': 'https://api.github.com/repos/karpathy/paper-notes/events', 'assignees_url': 'https://api.github.com/repos/karpathy/paper-notes/assignees{/user}', 'branches_url': 'https://api.github.com/repos/karpathy/paper-notes/branches{/branch}', 'tags_url': 'https://api.github.com/repos/karpathy/paper-notes/tags', 'blobs_url': 'https://api.github.com/repos/karpathy/paper-notes/git/blobs{/sha}', 'git_tags_url': 'https://api.github.com/repos/karpathy/paper-notes/git/tags{/sha}', 'git_refs_url': 'https://api.github.com/repos/karpathy/paper-notes/git/refs{/sha}', 'trees_url': 'https://api.github.com/repos/karpathy/paper-notes/git/trees{/sha}', 'statuses_url': 'https://api.github.com/repos/karpathy/paper-notes/statuses/{sha}', 'languages_url': 'https://api.github.com/repos/karpathy/paper-notes/languages', 'stargazers_url': 'https://api.github.com/repos/karpathy/paper-notes/stargazers', 'contributors_url': 'https://api.github.com/repos/karpathy/paper-notes/contributors', 'subscribers_url': 'https://api.github.com/repos/karpathy/paper-notes/subscribers', 'subscription_url': 'https://api.github.com/repos/karpathy/paper-notes/subscription', 'commits_url': 'https://api.github.com/repos/karpathy/paper-notes/commits{/sha}', 'git_commits_url': 'https://api.github.com/repos/karpathy/paper-notes/git/commits{/sha}', 'comments_url': 'https://api.github.com/repos/karpathy/paper-notes/comments{/number}', 'issue_comment_url': 'https://api.github.com/repos/karpathy/paper-notes/issues/comments{/number}', 'contents_url': 'https://api.github.com/repos/karpathy/paper-notes/contents/{+path}', 'compare_url': 'https://api.github.com/repos/karpathy/paper-notes/compare/{base}...{head}', 'merges_url': 'https://api.github.com/repos/karpathy/paper-notes/merges', 'archive_url': 'https://api.github.com/repos/karpathy/paper-notes/{archive_format}{/ref}', 'downloads_url': 'https://api.github.com/repos/karpathy/paper-notes/downloads', 'issues_url': 'https://api.github.com/repos/karpathy/paper-notes/issues{/number}', 'pulls_url': 'https://api.github.com/repos/karpathy/paper-notes/pulls{/number}', 'milestones_url': 'https://api.github.com/repos/karpathy/paper-notes/milestones{/number}', 'notifications_url': 'https://api.github.com/repos/karpathy/paper-notes/notifications{?since,all,participating}', 'labels_url': 'https://api.github.com/repos/karpathy/paper-notes/labels{/name}', 'releases_url': 'https://api.github.com/repos/karpathy/paper-notes/releases{/id}', 'deployments_url': 'https://api.github.com/repos/karpathy/paper-notes/deployments', 'created_at': '2016-08-08T00:25:40Z', 'updated_at': '2017-06-06T12:26:39Z', 'pushed_at': '2017-04-17T19:19:04Z', 'git_url': 'git://github.com/karpathy/paper-notes.git', 'ssh_url': 'git@github.com:karpathy/paper-notes.git', 'clone_url': 'https://github.com/karpathy/paper-notes.git', 'svn_url': 'https://github.com/karpathy/paper-notes', 'homepage': None, 'size': 2202, 'stargazers_count': 410, 'watchers_count': 410, 'language': None, 'has_issues': True, 'has_projects': True, 'has_downloads': True, 'has_wiki': True, 'has_pages': False, 'forks_count': 42, 'mirror_url': None, 'open_issues_count': 3, 'forks': 42, 'open_issues': 3, 'watchers': 410, 'default_branch': 'master'}, {'id': 3886338, 'name': 'Random-Forest-Matlab', 'full_name': 'karpathy/Random-Forest-Matlab', 'owner': {'login': 'karpathy', 'id': 241138, 'avatar_url': 'https://avatars0.githubusercontent.com/u/241138?v=3', 'gravatar_id': '', 'url': 'https://api.github.com/users/karpathy', 'html_url': 'https://github.com/karpathy', 'followers_url': 'https://api.github.com/users/karpathy/followers', 'following_url': 'https://api.github.com/users/karpathy/following{/other_user}', 'gists_url': 'https://api.github.com/users/karpathy/gists{/gist_id}', 'starred_url': 'https://api.github.com/users/karpathy/starred{/owner}{/repo}', 'subscriptions_url': 'https://api.github.com/users/karpathy/subscriptions', 'organizations_url': 'https://api.github.com/users/karpathy/orgs', 'repos_url': 'https://api.github.com/users/karpathy/repos', 'events_url': 'https://api.github.com/users/karpathy/events{/privacy}', 'received_events_url': 'https://api.github.com/users/karpathy/received_events', 'type': 'User', 'site_admin': False}, 'private': False, 'html_url': 'https://github.com/karpathy/Random-Forest-Matlab', 'description': 'A Random Forest implementation for MATLAB. Supports arbitrary weak learners that you can define.', 'fork': False, 'url': 'https://api.github.com/repos/karpathy/Random-Forest-Matlab', 'forks_url': 'https://api.github.com/repos/karpathy/Random-Forest-Matlab/forks', 'keys_url': 'https://api.github.com/repos/karpathy/Random-Forest-Matlab/keys{/key_id}', 'collaborators_url': 'https://api.github.com/repos/karpathy/Random-Forest-Matlab/collaborators{/collaborator}', 'teams_url': 'https://api.github.com/repos/karpathy/Random-Forest-Matlab/teams', 'hooks_url': 'https://api.github.com/repos/karpathy/Random-Forest-Matlab/hooks', 'issue_events_url': 'https://api.github.com/repos/karpathy/Random-Forest-Matlab/issues/events{/number}', 'events_url': 'https://api.github.com/repos/karpathy/Random-Forest-Matlab/events', 'assignees_url': 'https://api.github.com/repos/karpathy/Random-Forest-Matlab/assignees{/user}', 'branches_url': 'https://api.github.com/repos/karpathy/Random-Forest-Matlab/branches{/branch}', 'tags_url': 'https://api.github.com/repos/karpathy/Random-Forest-Matlab/tags', 'blobs_url': 'https://api.github.com/repos/karpathy/Random-Forest-Matlab/git/blobs{/sha}', 'git_tags_url': 'https://api.github.com/repos/karpathy/Random-Forest-Matlab/git/tags{/sha}', 'git_refs_url': 'https://api.github.com/repos/karpathy/Random-Forest-Matlab/git/refs{/sha}', 'trees_url': 'https://api.github.com/repos/karpathy/Random-Forest-Matlab/git/trees{/sha}', 'statuses_url': 'https://api.github.com/repos/karpathy/Random-Forest-Matlab/statuses/{sha}', 'languages_url': 'https://api.github.com/repos/karpathy/Random-Forest-Matlab/languages', 'stargazers_url': 'https://api.github.com/repos/karpathy/Random-Forest-Matlab/stargazers', 'contributors_url': 'https://api.github.com/repos/karpathy/Random-Forest-Matlab/contributors', 'subscribers_url': 'https://api.github.com/repos/karpathy/Random-Forest-Matlab/subscribers', 'subscription_url': 'https://api.github.com/repos/karpathy/Random-Forest-Matlab/subscription', 'commits_url': 'https://api.github.com/repos/karpathy/Random-Forest-Matlab/commits{/sha}', 'git_commits_url': 'https://api.github.com/repos/karpathy/Random-Forest-Matlab/git/commits{/sha}', 'comments_url': 'https://api.github.com/repos/karpathy/Random-Forest-Matlab/comments{/number}', 'issue_comment_url': 'https://api.github.com/repos/karpathy/Random-Forest-Matlab/issues/comments{/number}', 'contents_url': 'https://api.github.com/repos/karpathy/Random-Forest-Matlab/contents/{+path}', 'compare_url': 'https://api.github.com/repos/karpathy/Random-Forest-Matlab/compare/{base}...{head}', 'merges_url': 'https://api.github.com/repos/karpathy/Random-Forest-Matlab/merges', 'archive_url': 'https://api.github.com/repos/karpathy/Random-Forest-Matlab/{archive_format}{/ref}', 'downloads_url': 'https://api.github.com/repos/karpathy/Random-Forest-Matlab/downloads', 'issues_url': 'https://api.github.com/repos/karpathy/Random-Forest-Matlab/issues{/number}', 'pulls_url': 'https://api.github.com/repos/karpathy/Random-Forest-Matlab/pulls{/number}', 'milestones_url': 'https://api.github.com/repos/karpathy/Random-Forest-Matlab/milestones{/number}', 'notifications_url': 'https://api.github.com/repos/karpathy/Random-Forest-Matlab/notifications{?since,all,participating}', 'labels_url': 'https://api.github.com/repos/karpathy/Random-Forest-Matlab/labels{/name}', 'releases_url': 'https://api.github.com/repos/karpathy/Random-Forest-Matlab/releases{/id}', 'deployments_url': 'https://api.github.com/repos/karpathy/Random-Forest-Matlab/deployments', 'created_at': '2012-03-31T15:24:12Z', 'updated_at': '2017-05-25T05:46:48Z', 'pushed_at': '2014-02-27T22:56:10Z', 'git_url': 'git://github.com/karpathy/Random-Forest-Matlab.git', 'ssh_url': 'git@github.com:karpathy/Random-Forest-Matlab.git', 'clone_url': 'https://github.com/karpathy/Random-Forest-Matlab.git', 'svn_url': 'https://github.com/karpathy/Random-Forest-Matlab', 'homepage': '', 'size': 158, 'stargazers_count': 87, 'watchers_count': 87, 'language': 'Matlab', 'has_issues': True, 'has_projects': True, 'has_downloads': True, 'has_wiki': True, 'has_pages': False, 'forks_count': 76, 'mirror_url': None, 'open_issues_count': 1, 'forks': 76, 'open_issues': 1, 'watchers': 87, 'default_branch': 'master'}, {'id': 40200644, 'name': 'randomfun', 'full_name': 'karpathy/randomfun', 'owner': {'login': 'karpathy', 'id': 241138, 'avatar_url': 'https://avatars0.githubusercontent.com/u/241138?v=3', 'gravatar_id': '', 'url': 'https://api.github.com/users/karpathy', 'html_url': 'https://github.com/karpathy', 'followers_url': 'https://api.github.com/users/karpathy/followers', 'following_url': 'https://api.github.com/users/karpathy/following{/other_user}', 'gists_url': 'https://api.github.com/users/karpathy/gists{/gist_id}', 'starred_url': 'https://api.github.com/users/karpathy/starred{/owner}{/repo}', 'subscriptions_url': 'https://api.github.com/users/karpathy/subscriptions', 'organizations_url': 'https://api.github.com/users/karpathy/orgs', 'repos_url': 'https://api.github.com/users/karpathy/repos', 'events_url': 'https://api.github.com/users/karpathy/events{/privacy}', 'received_events_url': 'https://api.github.com/users/karpathy/received_events', 'type': 'User', 'site_admin': False}, 'private': False, 'html_url': 'https://github.com/karpathy/randomfun', 'description': 'Notebooks and various random fun', 'fork': False, 'url': 'https://api.github.com/repos/karpathy/randomfun', 'forks_url': 'https://api.github.com/repos/karpathy/randomfun/forks', 'keys_url': 'https://api.github.com/repos/karpathy/randomfun/keys{/key_id}', 'collaborators_url': 'https://api.github.com/repos/karpathy/randomfun/collaborators{/collaborator}', 'teams_url': 'https://api.github.com/repos/karpathy/randomfun/teams', 'hooks_url': 'https://api.github.com/repos/karpathy/randomfun/hooks', 'issue_events_url': 'https://api.github.com/repos/karpathy/randomfun/issues/events{/number}', 'events_url': 'https://api.github.com/repos/karpathy/randomfun/events', 'assignees_url': 'https://api.github.com/repos/karpathy/randomfun/assignees{/user}', 'branches_url': 'https://api.github.com/repos/karpathy/randomfun/branches{/branch}', 'tags_url': 'https://api.github.com/repos/karpathy/randomfun/tags', 'blobs_url': 'https://api.github.com/repos/karpathy/randomfun/git/blobs{/sha}', 'git_tags_url': 'https://api.github.com/repos/karpathy/randomfun/git/tags{/sha}', 'git_refs_url': 'https://api.github.com/repos/karpathy/randomfun/git/refs{/sha}', 'trees_url': 'https://api.github.com/repos/karpathy/randomfun/git/trees{/sha}', 'statuses_url': 'https://api.github.com/repos/karpathy/randomfun/statuses/{sha}', 'languages_url': 'https://api.github.com/repos/karpathy/randomfun/languages', 'stargazers_url': 'https://api.github.com/repos/karpathy/randomfun/stargazers', 'contributors_url': 'https://api.github.com/repos/karpathy/randomfun/contributors', 'subscribers_url': 'https://api.github.com/repos/karpathy/randomfun/subscribers', 'subscription_url': 'https://api.github.com/repos/karpathy/randomfun/subscription', 'commits_url': 'https://api.github.com/repos/karpathy/randomfun/commits{/sha}', 'git_commits_url': 'https://api.github.com/repos/karpathy/randomfun/git/commits{/sha}', 'comments_url': 'https://api.github.com/repos/karpathy/randomfun/comments{/number}', 'issue_comment_url': 'https://api.github.com/repos/karpathy/randomfun/issues/comments{/number}', 'contents_url': 'https://api.github.com/repos/karpathy/randomfun/contents/{+path}', 'compare_url': 'https://api.github.com/repos/karpathy/randomfun/compare/{base}...{head}', 'merges_url': 'https://api.github.com/repos/karpathy/randomfun/merges', 'archive_url': 'https://api.github.com/repos/karpathy/randomfun/{archive_format}{/ref}', 'downloads_url': 'https://api.github.com/repos/karpathy/randomfun/downloads', 'issues_url': 'https://api.github.com/repos/karpathy/randomfun/issues{/number}', 'pulls_url': 'https://api.github.com/repos/karpathy/randomfun/pulls{/number}', 'milestones_url': 'https://api.github.com/repos/karpathy/randomfun/milestones{/number}', 'notifications_url': 'https://api.github.com/repos/karpathy/randomfun/notifications{?since,all,participating}', 'labels_url': 'https://api.github.com/repos/karpathy/randomfun/labels{/name}', 'releases_url': 'https://api.github.com/repos/karpathy/randomfun/releases{/id}', 'deployments_url': 'https://api.github.com/repos/karpathy/randomfun/deployments', 'created_at': '2015-08-04T18:05:15Z', 'updated_at': '2017-06-09T07:03:15Z', 'pushed_at': '2017-03-23T21:21:20Z', 'git_url': 'git://github.com/karpathy/randomfun.git', 'ssh_url': 'git@github.com:karpathy/randomfun.git', 'clone_url': 'https://github.com/karpathy/randomfun.git', 'svn_url': 'https://github.com/karpathy/randomfun', 'homepage': None, 'size': 356, 'stargazers_count': 66, 'watchers_count': 66, 'language': 'Jupyter Notebook', 'has_issues': True, 'has_projects': True, 'has_downloads': True, 'has_wiki': True, 'has_pages': False, 'forks_count': 30, 'mirror_url': None, 'open_issues_count': 0, 'forks': 30, 'open_issues': 0, 'watchers': 66, 'default_branch': 'master'}, {'id': 28200223, 'name': 'recurrentjs', 'full_name': 'karpathy/recurrentjs', 'owner': {'login': 'karpathy', 'id': 241138, 'avatar_url': 'https://avatars0.githubusercontent.com/u/241138?v=3', 'gravatar_id': '', 'url': 'https://api.github.com/users/karpathy', 'html_url': 'https://github.com/karpathy', 'followers_url': 'https://api.github.com/users/karpathy/followers', 'following_url': 'https://api.github.com/users/karpathy/following{/other_user}', 'gists_url': 'https://api.github.com/users/karpathy/gists{/gist_id}', 'starred_url': 'https://api.github.com/users/karpathy/starred{/owner}{/repo}', 'subscriptions_url': 'https://api.github.com/users/karpathy/subscriptions', 'organizations_url': 'https://api.github.com/users/karpathy/orgs', 'repos_url': 'https://api.github.com/users/karpathy/repos', 'events_url': 'https://api.github.com/users/karpathy/events{/privacy}', 'received_events_url': 'https://api.github.com/users/karpathy/received_events', 'type': 'User', 'site_admin': False}, 'private': False, 'html_url': 'https://github.com/karpathy/recurrentjs', 'description': 'Deep Recurrent Neural Networks and LSTMs in Javascript. More generally also arbitrary expression graphs with automatic differentiation.', 'fork': False, 'url': 'https://api.github.com/repos/karpathy/recurrentjs', 'forks_url': 'https://api.github.com/repos/karpathy/recurrentjs/forks', 'keys_url': 'https://api.github.com/repos/karpathy/recurrentjs/keys{/key_id}', 'collaborators_url': 'https://api.github.com/repos/karpathy/recurrentjs/collaborators{/collaborator}', 'teams_url': 'https://api.github.com/repos/karpathy/recurrentjs/teams', 'hooks_url': 'https://api.github.com/repos/karpathy/recurrentjs/hooks', 'issue_events_url': 'https://api.github.com/repos/karpathy/recurrentjs/issues/events{/number}', 'events_url': 'https://api.github.com/repos/karpathy/recurrentjs/events', 'assignees_url': 'https://api.github.com/repos/karpathy/recurrentjs/assignees{/user}', 'branches_url': 'https://api.github.com/repos/karpathy/recurrentjs/branches{/branch}', 'tags_url': 'https://api.github.com/repos/karpathy/recurrentjs/tags', 'blobs_url': 'https://api.github.com/repos/karpathy/recurrentjs/git/blobs{/sha}', 'git_tags_url': 'https://api.github.com/repos/karpathy/recurrentjs/git/tags{/sha}', 'git_refs_url': 'https://api.github.com/repos/karpathy/recurrentjs/git/refs{/sha}', 'trees_url': 'https://api.github.com/repos/karpathy/recurrentjs/git/trees{/sha}', 'statuses_url': 'https://api.github.com/repos/karpathy/recurrentjs/statuses/{sha}', 'languages_url': 'https://api.github.com/repos/karpathy/recurrentjs/languages', 'stargazers_url': 'https://api.github.com/repos/karpathy/recurrentjs/stargazers', 'contributors_url': 'https://api.github.com/repos/karpathy/recurrentjs/contributors', 'subscribers_url': 'https://api.github.com/repos/karpathy/recurrentjs/subscribers', 'subscription_url': 'https://api.github.com/repos/karpathy/recurrentjs/subscription', 'commits_url': 'https://api.github.com/repos/karpathy/recurrentjs/commits{/sha}', 'git_commits_url': 'https://api.github.com/repos/karpathy/recurrentjs/git/commits{/sha}', 'comments_url': 'https://api.github.com/repos/karpathy/recurrentjs/comments{/number}', 'issue_comment_url': 'https://api.github.com/repos/karpathy/recurrentjs/issues/comments{/number}', 'contents_url': 'https://api.github.com/repos/karpathy/recurrentjs/contents/{+path}', 'compare_url': 'https://api.github.com/repos/karpathy/recurrentjs/compare/{base}...{head}', 'merges_url': 'https://api.github.com/repos/karpathy/recurrentjs/merges', 'archive_url': 'https://api.github.com/repos/karpathy/recurrentjs/{archive_format}{/ref}', 'downloads_url': 'https://api.github.com/repos/karpathy/recurrentjs/downloads', 'issues_url': 'https://api.github.com/repos/karpathy/recurrentjs/issues{/number}', 'pulls_url': 'https://api.github.com/repos/karpathy/recurrentjs/pulls{/number}', 'milestones_url': 'https://api.github.com/repos/karpathy/recurrentjs/milestones{/number}', 'notifications_url': 'https://api.github.com/repos/karpathy/recurrentjs/notifications{?since,all,participating}', 'labels_url': 'https://api.github.com/repos/karpathy/recurrentjs/labels{/name}', 'releases_url': 'https://api.github.com/repos/karpathy/recurrentjs/releases{/id}', 'deployments_url': 'https://api.github.com/repos/karpathy/recurrentjs/deployments', 'created_at': '2014-12-18T20:26:27Z', 'updated_at': '2017-06-08T21:56:18Z', 'pushed_at': '2016-11-04T15:42:55Z', 'git_url': 'git://github.com/karpathy/recurrentjs.git', 'ssh_url': 'git@github.com:karpathy/recurrentjs.git', 'clone_url': 'https://github.com/karpathy/recurrentjs.git', 'svn_url': 'https://github.com/karpathy/recurrentjs', 'homepage': '', 'size': 325, 'stargazers_count': 612, 'watchers_count': 612, 'language': 'HTML', 'has_issues': True, 'has_projects': True, 'has_downloads': True, 'has_wiki': True, 'has_pages': False, 'forks_count': 135, 'mirror_url': None, 'open_issues_count': 5, 'forks': 135, 'open_issues': 5, 'watchers': 612, 'default_branch': 'master'}, {'id': 34190821, 'name': 'reinforcejs', 'full_name': 'karpathy/reinforcejs', 'owner': {'login': 'karpathy', 'id': 241138, 'avatar_url': 'https://avatars0.githubusercontent.com/u/241138?v=3', 'gravatar_id': '', 'url': 'https://api.github.com/users/karpathy', 'html_url': 'https://github.com/karpathy', 'followers_url': 'https://api.github.com/users/karpathy/followers', 'following_url': 'https://api.github.com/users/karpathy/following{/other_user}', 'gists_url': 'https://api.github.com/users/karpathy/gists{/gist_id}', 'starred_url': 'https://api.github.com/users/karpathy/starred{/owner}{/repo}', 'subscriptions_url': 'https://api.github.com/users/karpathy/subscriptions', 'organizations_url': 'https://api.github.com/users/karpathy/orgs', 'repos_url': 'https://api.github.com/users/karpathy/repos', 'events_url': 'https://api.github.com/users/karpathy/events{/privacy}', 'received_events_url': 'https://api.github.com/users/karpathy/received_events', 'type': 'User', 'site_admin': False}, 'private': False, 'html_url': 'https://github.com/karpathy/reinforcejs', 'description': 'Reinforcement Learning Agents in Javascript (Dynamic Programming, Temporal Difference, Deep Q-Learning, Stochastic/Deterministic Policy Gradients)', 'fork': False, 'url': 'https://api.github.com/repos/karpathy/reinforcejs', 'forks_url': 'https://api.github.com/repos/karpathy/reinforcejs/forks', 'keys_url': 'https://api.github.com/repos/karpathy/reinforcejs/keys{/key_id}', 'collaborators_url': 'https://api.github.com/repos/karpathy/reinforcejs/collaborators{/collaborator}', 'teams_url': 'https://api.github.com/repos/karpathy/reinforcejs/teams', 'hooks_url': 'https://api.github.com/repos/karpathy/reinforcejs/hooks', 'issue_events_url': 'https://api.github.com/repos/karpathy/reinforcejs/issues/events{/number}', 'events_url': 'https://api.github.com/repos/karpathy/reinforcejs/events', 'assignees_url': 'https://api.github.com/repos/karpathy/reinforcejs/assignees{/user}', 'branches_url': 'https://api.github.com/repos/karpathy/reinforcejs/branches{/branch}', 'tags_url': 'https://api.github.com/repos/karpathy/reinforcejs/tags', 'blobs_url': 'https://api.github.com/repos/karpathy/reinforcejs/git/blobs{/sha}', 'git_tags_url': 'https://api.github.com/repos/karpathy/reinforcejs/git/tags{/sha}', 'git_refs_url': 'https://api.github.com/repos/karpathy/reinforcejs/git/refs{/sha}', 'trees_url': 'https://api.github.com/repos/karpathy/reinforcejs/git/trees{/sha}', 'statuses_url': 'https://api.github.com/repos/karpathy/reinforcejs/statuses/{sha}', 'languages_url': 'https://api.github.com/repos/karpathy/reinforcejs/languages', 'stargazers_url': 'https://api.github.com/repos/karpathy/reinforcejs/stargazers', 'contributors_url': 'https://api.github.com/repos/karpathy/reinforcejs/contributors', 'subscribers_url': 'https://api.github.com/repos/karpathy/reinforcejs/subscribers', 'subscription_url': 'https://api.github.com/repos/karpathy/reinforcejs/subscription', 'commits_url': 'https://api.github.com/repos/karpathy/reinforcejs/commits{/sha}', 'git_commits_url': 'https://api.github.com/repos/karpathy/reinforcejs/git/commits{/sha}', 'comments_url': 'https://api.github.com/repos/karpathy/reinforcejs/comments{/number}', 'issue_comment_url': 'https://api.github.com/repos/karpathy/reinforcejs/issues/comments{/number}', 'contents_url': 'https://api.github.com/repos/karpathy/reinforcejs/contents/{+path}', 'compare_url': 'https://api.github.com/repos/karpathy/reinforcejs/compare/{base}...{head}', 'merges_url': 'https://api.github.com/repos/karpathy/reinforcejs/merges', 'archive_url': 'https://api.github.com/repos/karpathy/reinforcejs/{archive_format}{/ref}', 'downloads_url': 'https://api.github.com/repos/karpathy/reinforcejs/downloads', 'issues_url': 'https://api.github.com/repos/karpathy/reinforcejs/issues{/number}', 'pulls_url': 'https://api.github.com/repos/karpathy/reinforcejs/pulls{/number}', 'milestones_url': 'https://api.github.com/repos/karpathy/reinforcejs/milestones{/number}', 'notifications_url': 'https://api.github.com/repos/karpathy/reinforcejs/notifications{?since,all,participating}', 'labels_url': 'https://api.github.com/repos/karpathy/reinforcejs/labels{/name}', 'releases_url': 'https://api.github.com/repos/karpathy/reinforcejs/releases{/id}', 'deployments_url': 'https://api.github.com/repos/karpathy/reinforcejs/deployments', 'created_at': '2015-04-19T02:35:59Z', 'updated_at': '2017-06-09T08:11:58Z', 'pushed_at': '2017-05-28T03:28:35Z', 'git_url': 'git://github.com/karpathy/reinforcejs.git', 'ssh_url': 'git@github.com:karpathy/reinforcejs.git', 'clone_url': 'https://github.com/karpathy/reinforcejs.git', 'svn_url': 'https://github.com/karpathy/reinforcejs', 'homepage': None, 'size': 588, 'stargazers_count': 533, 'watchers_count': 533, 'language': 'HTML', 'has_issues': True, 'has_projects': True, 'has_downloads': True, 'has_wiki': True, 'has_pages': False, 'forks_count': 128, 'mirror_url': None, 'open_issues_count': 13, 'forks': 128, 'open_issues': 13, 'watchers': 533, 'default_branch': 'master'}, {'id': 9798139, 'name': 'researchlei', 'full_name': 'karpathy/researchlei', 'owner': {'login': 'karpathy', 'id': 241138, 'avatar_url': 'https://avatars0.githubusercontent.com/u/241138?v=3', 'gravatar_id': '', 'url': 'https://api.github.com/users/karpathy', 'html_url': 'https://github.com/karpathy', 'followers_url': 'https://api.github.com/users/karpathy/followers', 'following_url': 'https://api.github.com/users/karpathy/following{/other_user}', 'gists_url': 'https://api.github.com/users/karpathy/gists{/gist_id}', 'starred_url': 'https://api.github.com/users/karpathy/starred{/owner}{/repo}', 'subscriptions_url': 'https://api.github.com/users/karpathy/subscriptions', 'organizations_url': 'https://api.github.com/users/karpathy/orgs', 'repos_url': 'https://api.github.com/users/karpathy/repos', 'events_url': 'https://api.github.com/users/karpathy/events{/privacy}', 'received_events_url': 'https://api.github.com/users/karpathy/received_events', 'type': 'User', 'site_admin': False}, 'private': False, 'html_url': 'https://github.com/karpathy/researchlei', 'description': 'An Academic Papers Management and Discovery System', 'fork': False, 'url': 'https://api.github.com/repos/karpathy/researchlei', 'forks_url': 'https://api.github.com/repos/karpathy/researchlei/forks', 'keys_url': 'https://api.github.com/repos/karpathy/researchlei/keys{/key_id}', 'collaborators_url': 'https://api.github.com/repos/karpathy/researchlei/collaborators{/collaborator}', 'teams_url': 'https://api.github.com/repos/karpathy/researchlei/teams', 'hooks_url': 'https://api.github.com/repos/karpathy/researchlei/hooks', 'issue_events_url': 'https://api.github.com/repos/karpathy/researchlei/issues/events{/number}', 'events_url': 'https://api.github.com/repos/karpathy/researchlei/events', 'assignees_url': 'https://api.github.com/repos/karpathy/researchlei/assignees{/user}', 'branches_url': 'https://api.github.com/repos/karpathy/researchlei/branches{/branch}', 'tags_url': 'https://api.github.com/repos/karpathy/researchlei/tags', 'blobs_url': 'https://api.github.com/repos/karpathy/researchlei/git/blobs{/sha}', 'git_tags_url': 'https://api.github.com/repos/karpathy/researchlei/git/tags{/sha}', 'git_refs_url': 'https://api.github.com/repos/karpathy/researchlei/git/refs{/sha}', 'trees_url': 'https://api.github.com/repos/karpathy/researchlei/git/trees{/sha}', 'statuses_url': 'https://api.github.com/repos/karpathy/researchlei/statuses/{sha}', 'languages_url': 'https://api.github.com/repos/karpathy/researchlei/languages', 'stargazers_url': 'https://api.github.com/repos/karpathy/researchlei/stargazers', 'contributors_url': 'https://api.github.com/repos/karpathy/researchlei/contributors', 'subscribers_url': 'https://api.github.com/repos/karpathy/researchlei/subscribers', 'subscription_url': 'https://api.github.com/repos/karpathy/researchlei/subscription', 'commits_url': 'https://api.github.com/repos/karpathy/researchlei/commits{/sha}', 'git_commits_url': 'https://api.github.com/repos/karpathy/researchlei/git/commits{/sha}', 'comments_url': 'https://api.github.com/repos/karpathy/researchlei/comments{/number}', 'issue_comment_url': 'https://api.github.com/repos/karpathy/researchlei/issues/comments{/number}', 'contents_url': 'https://api.github.com/repos/karpathy/researchlei/contents/{+path}', 'compare_url': 'https://api.github.com/repos/karpathy/researchlei/compare/{base}...{head}', 'merges_url': 'https://api.github.com/repos/karpathy/researchlei/merges', 'archive_url': 'https://api.github.com/repos/karpathy/researchlei/{archive_format}{/ref}', 'downloads_url': 'https://api.github.com/repos/karpathy/researchlei/downloads', 'issues_url': 'https://api.github.com/repos/karpathy/researchlei/issues{/number}', 'pulls_url': 'https://api.github.com/repos/karpathy/researchlei/pulls{/number}', 'milestones_url': 'https://api.github.com/repos/karpathy/researchlei/milestones{/number}', 'notifications_url': 'https://api.github.com/repos/karpathy/researchlei/notifications{?since,all,participating}', 'labels_url': 'https://api.github.com/repos/karpathy/researchlei/labels{/name}', 'releases_url': 'https://api.github.com/repos/karpathy/researchlei/releases{/id}', 'deployments_url': 'https://api.github.com/repos/karpathy/researchlei/deployments', 'created_at': '2013-05-01T19:12:29Z', 'updated_at': '2017-06-06T05:51:19Z', 'pushed_at': '2013-05-03T19:26:12Z', 'git_url': 'git://github.com/karpathy/researchlei.git', 'ssh_url': 'git@github.com:karpathy/researchlei.git', 'clone_url': 'https://github.com/karpathy/researchlei.git', 'svn_url': 'https://github.com/karpathy/researchlei', 'homepage': None, 'size': 215, 'stargazers_count': 116, 'watchers_count': 116, 'language': 'Python', 'has_issues': True, 'has_projects': True, 'has_downloads': True, 'has_wiki': True, 'has_pages': False, 'forks_count': 35, 'mirror_url': None, 'open_issues_count': 3, 'forks': 35, 'open_issues': 3, 'watchers': 116, 'default_branch': 'master'}, {'id': 2898680, 'name': 'researchpooler', 'full_name': 'karpathy/researchpooler', 'owner': {'login': 'karpathy', 'id': 241138, 'avatar_url': 'https://avatars0.githubusercontent.com/u/241138?v=3', 'gravatar_id': '', 'url': 'https://api.github.com/users/karpathy', 'html_url': 'https://github.com/karpathy', 'followers_url': 'https://api.github.com/users/karpathy/followers', 'following_url': 'https://api.github.com/users/karpathy/following{/other_user}', 'gists_url': 'https://api.github.com/users/karpathy/gists{/gist_id}', 'starred_url': 'https://api.github.com/users/karpathy/starred{/owner}{/repo}', 'subscriptions_url': 'https://api.github.com/users/karpathy/subscriptions', 'organizations_url': 'https://api.github.com/users/karpathy/orgs', 'repos_url': 'https://api.github.com/users/karpathy/repos', 'events_url': 'https://api.github.com/users/karpathy/events{/privacy}', 'received_events_url': 'https://api.github.com/users/karpathy/received_events', 'type': 'User', 'site_admin': False}, 'private': False, 'html_url': 'https://github.com/karpathy/researchpooler', 'description': \"Automating research publications discovery and analysis. For example, ever wish your computer could automatically open papers that are most similar to a paper at an arbitrary url? How about finding all papers that report results on some dataset? Let's re-imagine literature review.\", 'fork': False, 'url': 'https://api.github.com/repos/karpathy/researchpooler', 'forks_url': 'https://api.github.com/repos/karpathy/researchpooler/forks', 'keys_url': 'https://api.github.com/repos/karpathy/researchpooler/keys{/key_id}', 'collaborators_url': 'https://api.github.com/repos/karpathy/researchpooler/collaborators{/collaborator}', 'teams_url': 'https://api.github.com/repos/karpathy/researchpooler/teams', 'hooks_url': 'https://api.github.com/repos/karpathy/researchpooler/hooks', 'issue_events_url': 'https://api.github.com/repos/karpathy/researchpooler/issues/events{/number}', 'events_url': 'https://api.github.com/repos/karpathy/researchpooler/events', 'assignees_url': 'https://api.github.com/repos/karpathy/researchpooler/assignees{/user}', 'branches_url': 'https://api.github.com/repos/karpathy/researchpooler/branches{/branch}', 'tags_url': 'https://api.github.com/repos/karpathy/researchpooler/tags', 'blobs_url': 'https://api.github.com/repos/karpathy/researchpooler/git/blobs{/sha}', 'git_tags_url': 'https://api.github.com/repos/karpathy/researchpooler/git/tags{/sha}', 'git_refs_url': 'https://api.github.com/repos/karpathy/researchpooler/git/refs{/sha}', 'trees_url': 'https://api.github.com/repos/karpathy/researchpooler/git/trees{/sha}', 'statuses_url': 'https://api.github.com/repos/karpathy/researchpooler/statuses/{sha}', 'languages_url': 'https://api.github.com/repos/karpathy/researchpooler/languages', 'stargazers_url': 'https://api.github.com/repos/karpathy/researchpooler/stargazers', 'contributors_url': 'https://api.github.com/repos/karpathy/researchpooler/contributors', 'subscribers_url': 'https://api.github.com/repos/karpathy/researchpooler/subscribers', 'subscription_url': 'https://api.github.com/repos/karpathy/researchpooler/subscription', 'commits_url': 'https://api.github.com/repos/karpathy/researchpooler/commits{/sha}', 'git_commits_url': 'https://api.github.com/repos/karpathy/researchpooler/git/commits{/sha}', 'comments_url': 'https://api.github.com/repos/karpathy/researchpooler/comments{/number}', 'issue_comment_url': 'https://api.github.com/repos/karpathy/researchpooler/issues/comments{/number}', 'contents_url': 'https://api.github.com/repos/karpathy/researchpooler/contents/{+path}', 'compare_url': 'https://api.github.com/repos/karpathy/researchpooler/compare/{base}...{head}', 'merges_url': 'https://api.github.com/repos/karpathy/researchpooler/merges', 'archive_url': 'https://api.github.com/repos/karpathy/researchpooler/{archive_format}{/ref}', 'downloads_url': 'https://api.github.com/repos/karpathy/researchpooler/downloads', 'issues_url': 'https://api.github.com/repos/karpathy/researchpooler/issues{/number}', 'pulls_url': 'https://api.github.com/repos/karpathy/researchpooler/pulls{/number}', 'milestones_url': 'https://api.github.com/repos/karpathy/researchpooler/milestones{/number}', 'notifications_url': 'https://api.github.com/repos/karpathy/researchpooler/notifications{?since,all,participating}', 'labels_url': 'https://api.github.com/repos/karpathy/researchpooler/labels{/name}', 'releases_url': 'https://api.github.com/repos/karpathy/researchpooler/releases{/id}', 'deployments_url': 'https://api.github.com/repos/karpathy/researchpooler/deployments', 'created_at': '2011-12-02T13:41:06Z', 'updated_at': '2017-05-30T01:50:02Z', 'pushed_at': '2011-12-02T17:12:05Z', 'git_url': 'git://github.com/karpathy/researchpooler.git', 'ssh_url': 'git@github.com:karpathy/researchpooler.git', 'clone_url': 'https://github.com/karpathy/researchpooler.git', 'svn_url': 'https://github.com/karpathy/researchpooler', 'homepage': 'https://sites.google.com/site/researchpooler/', 'size': 104, 'stargazers_count': 72, 'watchers_count': 72, 'language': 'Python', 'has_issues': True, 'has_projects': True, 'has_downloads': True, 'has_wiki': True, 'has_pages': False, 'forks_count': 19, 'mirror_url': None, 'open_issues_count': 0, 'forks': 19, 'open_issues': 0, 'watchers': 72, 'default_branch': 'master'}, {'id': 22794989, 'name': 'scholaroctopus', 'full_name': 'karpathy/scholaroctopus', 'owner': {'login': 'karpathy', 'id': 241138, 'avatar_url': 'https://avatars0.githubusercontent.com/u/241138?v=3', 'gravatar_id': '', 'url': 'https://api.github.com/users/karpathy', 'html_url': 'https://github.com/karpathy', 'followers_url': 'https://api.github.com/users/karpathy/followers', 'following_url': 'https://api.github.com/users/karpathy/following{/other_user}', 'gists_url': 'https://api.github.com/users/karpathy/gists{/gist_id}', 'starred_url': 'https://api.github.com/users/karpathy/starred{/owner}{/repo}', 'subscriptions_url': 'https://api.github.com/users/karpathy/subscriptions', 'organizations_url': 'https://api.github.com/users/karpathy/orgs', 'repos_url': 'https://api.github.com/users/karpathy/repos', 'events_url': 'https://api.github.com/users/karpathy/events{/privacy}', 'received_events_url': 'https://api.github.com/users/karpathy/received_events', 'type': 'User', 'site_admin': False}, 'private': False, 'html_url': 'https://github.com/karpathy/scholaroctopus', 'description': 'A set of tools/pages that help explore academic literature', 'fork': False, 'url': 'https://api.github.com/repos/karpathy/scholaroctopus', 'forks_url': 'https://api.github.com/repos/karpathy/scholaroctopus/forks', 'keys_url': 'https://api.github.com/repos/karpathy/scholaroctopus/keys{/key_id}', 'collaborators_url': 'https://api.github.com/repos/karpathy/scholaroctopus/collaborators{/collaborator}', 'teams_url': 'https://api.github.com/repos/karpathy/scholaroctopus/teams', 'hooks_url': 'https://api.github.com/repos/karpathy/scholaroctopus/hooks', 'issue_events_url': 'https://api.github.com/repos/karpathy/scholaroctopus/issues/events{/number}', 'events_url': 'https://api.github.com/repos/karpathy/scholaroctopus/events', 'assignees_url': 'https://api.github.com/repos/karpathy/scholaroctopus/assignees{/user}', 'branches_url': 'https://api.github.com/repos/karpathy/scholaroctopus/branches{/branch}', 'tags_url': 'https://api.github.com/repos/karpathy/scholaroctopus/tags', 'blobs_url': 'https://api.github.com/repos/karpathy/scholaroctopus/git/blobs{/sha}', 'git_tags_url': 'https://api.github.com/repos/karpathy/scholaroctopus/git/tags{/sha}', 'git_refs_url': 'https://api.github.com/repos/karpathy/scholaroctopus/git/refs{/sha}', 'trees_url': 'https://api.github.com/repos/karpathy/scholaroctopus/git/trees{/sha}', 'statuses_url': 'https://api.github.com/repos/karpathy/scholaroctopus/statuses/{sha}', 'languages_url': 'https://api.github.com/repos/karpathy/scholaroctopus/languages', 'stargazers_url': 'https://api.github.com/repos/karpathy/scholaroctopus/stargazers', 'contributors_url': 'https://api.github.com/repos/karpathy/scholaroctopus/contributors', 'subscribers_url': 'https://api.github.com/repos/karpathy/scholaroctopus/subscribers', 'subscription_url': 'https://api.github.com/repos/karpathy/scholaroctopus/subscription', 'commits_url': 'https://api.github.com/repos/karpathy/scholaroctopus/commits{/sha}', 'git_commits_url': 'https://api.github.com/repos/karpathy/scholaroctopus/git/commits{/sha}', 'comments_url': 'https://api.github.com/repos/karpathy/scholaroctopus/comments{/number}', 'issue_comment_url': 'https://api.github.com/repos/karpathy/scholaroctopus/issues/comments{/number}', 'contents_url': 'https://api.github.com/repos/karpathy/scholaroctopus/contents/{+path}', 'compare_url': 'https://api.github.com/repos/karpathy/scholaroctopus/compare/{base}...{head}', 'merges_url': 'https://api.github.com/repos/karpathy/scholaroctopus/merges', 'archive_url': 'https://api.github.com/repos/karpathy/scholaroctopus/{archive_format}{/ref}', 'downloads_url': 'https://api.github.com/repos/karpathy/scholaroctopus/downloads', 'issues_url': 'https://api.github.com/repos/karpathy/scholaroctopus/issues{/number}', 'pulls_url': 'https://api.github.com/repos/karpathy/scholaroctopus/pulls{/number}', 'milestones_url': 'https://api.github.com/repos/karpathy/scholaroctopus/milestones{/number}', 'notifications_url': 'https://api.github.com/repos/karpathy/scholaroctopus/notifications{?since,all,participating}', 'labels_url': 'https://api.github.com/repos/karpathy/scholaroctopus/labels{/name}', 'releases_url': 'https://api.github.com/repos/karpathy/scholaroctopus/releases{/id}', 'deployments_url': 'https://api.github.com/repos/karpathy/scholaroctopus/deployments', 'created_at': '2014-08-09T20:54:23Z', 'updated_at': '2017-05-23T23:34:53Z', 'pushed_at': '2014-08-11T22:20:24Z', 'git_url': 'git://github.com/karpathy/scholaroctopus.git', 'ssh_url': 'git@github.com:karpathy/scholaroctopus.git', 'clone_url': 'https://github.com/karpathy/scholaroctopus.git', 'svn_url': 'https://github.com/karpathy/scholaroctopus', 'homepage': None, 'size': 1232, 'stargazers_count': 24, 'watchers_count': 24, 'language': None, 'has_issues': True, 'has_projects': True, 'has_downloads': True, 'has_wiki': True, 'has_pages': False, 'forks_count': 10, 'mirror_url': None, 'open_issues_count': 0, 'forks': 10, 'open_issues': 0, 'watchers': 24, 'default_branch': 'master'}, {'id': 1360989, 'name': 'scriptsbots', 'full_name': 'karpathy/scriptsbots', 'owner': {'login': 'karpathy', 'id': 241138, 'avatar_url': 'https://avatars0.githubusercontent.com/u/241138?v=3', 'gravatar_id': '', 'url': 'https://api.github.com/users/karpathy', 'html_url': 'https://github.com/karpathy', 'followers_url': 'https://api.github.com/users/karpathy/followers', 'following_url': 'https://api.github.com/users/karpathy/following{/other_user}', 'gists_url': 'https://api.github.com/users/karpathy/gists{/gist_id}', 'starred_url': 'https://api.github.com/users/karpathy/starred{/owner}{/repo}', 'subscriptions_url': 'https://api.github.com/users/karpathy/subscriptions', 'organizations_url': 'https://api.github.com/users/karpathy/orgs', 'repos_url': 'https://api.github.com/users/karpathy/repos', 'events_url': 'https://api.github.com/users/karpathy/events{/privacy}', 'received_events_url': 'https://api.github.com/users/karpathy/received_events', 'type': 'User', 'site_admin': False}, 'private': False, 'html_url': 'https://github.com/karpathy/scriptsbots', 'description': 'ScriptBots is an Open Source Evolutionary Artificial Life Simulation of Predator-Prey dynamics, written by Andrej Karpathy.', 'fork': True, 'url': 'https://api.github.com/repos/karpathy/scriptsbots', 'forks_url': 'https://api.github.com/repos/karpathy/scriptsbots/forks', 'keys_url': 'https://api.github.com/repos/karpathy/scriptsbots/keys{/key_id}', 'collaborators_url': 'https://api.github.com/repos/karpathy/scriptsbots/collaborators{/collaborator}', 'teams_url': 'https://api.github.com/repos/karpathy/scriptsbots/teams', 'hooks_url': 'https://api.github.com/repos/karpathy/scriptsbots/hooks', 'issue_events_url': 'https://api.github.com/repos/karpathy/scriptsbots/issues/events{/number}', 'events_url': 'https://api.github.com/repos/karpathy/scriptsbots/events', 'assignees_url': 'https://api.github.com/repos/karpathy/scriptsbots/assignees{/user}', 'branches_url': 'https://api.github.com/repos/karpathy/scriptsbots/branches{/branch}', 'tags_url': 'https://api.github.com/repos/karpathy/scriptsbots/tags', 'blobs_url': 'https://api.github.com/repos/karpathy/scriptsbots/git/blobs{/sha}', 'git_tags_url': 'https://api.github.com/repos/karpathy/scriptsbots/git/tags{/sha}', 'git_refs_url': 'https://api.github.com/repos/karpathy/scriptsbots/git/refs{/sha}', 'trees_url': 'https://api.github.com/repos/karpathy/scriptsbots/git/trees{/sha}', 'statuses_url': 'https://api.github.com/repos/karpathy/scriptsbots/statuses/{sha}', 'languages_url': 'https://api.github.com/repos/karpathy/scriptsbots/languages', 'stargazers_url': 'https://api.github.com/repos/karpathy/scriptsbots/stargazers', 'contributors_url': 'https://api.github.com/repos/karpathy/scriptsbots/contributors', 'subscribers_url': 'https://api.github.com/repos/karpathy/scriptsbots/subscribers', 'subscription_url': 'https://api.github.com/repos/karpathy/scriptsbots/subscription', 'commits_url': 'https://api.github.com/repos/karpathy/scriptsbots/commits{/sha}', 'git_commits_url': 'https://api.github.com/repos/karpathy/scriptsbots/git/commits{/sha}', 'comments_url': 'https://api.github.com/repos/karpathy/scriptsbots/comments{/number}', 'issue_comment_url': 'https://api.github.com/repos/karpathy/scriptsbots/issues/comments{/number}', 'contents_url': 'https://api.github.com/repos/karpathy/scriptsbots/contents/{+path}', 'compare_url': 'https://api.github.com/repos/karpathy/scriptsbots/compare/{base}...{head}', 'merges_url': 'https://api.github.com/repos/karpathy/scriptsbots/merges', 'archive_url': 'https://api.github.com/repos/karpathy/scriptsbots/{archive_format}{/ref}', 'downloads_url': 'https://api.github.com/repos/karpathy/scriptsbots/downloads', 'issues_url': 'https://api.github.com/repos/karpathy/scriptsbots/issues{/number}', 'pulls_url': 'https://api.github.com/repos/karpathy/scriptsbots/pulls{/number}', 'milestones_url': 'https://api.github.com/repos/karpathy/scriptsbots/milestones{/number}', 'notifications_url': 'https://api.github.com/repos/karpathy/scriptsbots/notifications{?since,all,participating}', 'labels_url': 'https://api.github.com/repos/karpathy/scriptsbots/labels{/name}', 'releases_url': 'https://api.github.com/repos/karpathy/scriptsbots/releases{/id}', 'deployments_url': 'https://api.github.com/repos/karpathy/scriptsbots/deployments', 'created_at': '2011-02-13T05:40:12Z', 'updated_at': '2017-04-23T21:39:17Z', 'pushed_at': '2012-01-02T00:40:51Z', 'git_url': 'git://github.com/karpathy/scriptsbots.git', 'ssh_url': 'git@github.com:karpathy/scriptsbots.git', 'clone_url': 'https://github.com/karpathy/scriptsbots.git', 'svn_url': 'https://github.com/karpathy/scriptsbots', 'homepage': 'https://sites.google.com/site/scriptbotsevo/home', 'size': 229, 'stargazers_count': 67, 'watchers_count': 67, 'language': 'C++', 'has_issues': False, 'has_projects': True, 'has_downloads': True, 'has_wiki': True, 'has_pages': False, 'forks_count': 33, 'mirror_url': None, 'open_issues_count': 0, 'forks': 33, 'open_issues': 0, 'watchers': 67, 'default_branch': 'master'}, {'id': 31581707, 'name': 'simple-amt', 'full_name': 'karpathy/simple-amt', 'owner': {'login': 'karpathy', 'id': 241138, 'avatar_url': 'https://avatars0.githubusercontent.com/u/241138?v=3', 'gravatar_id': '', 'url': 'https://api.github.com/users/karpathy', 'html_url': 'https://github.com/karpathy', 'followers_url': 'https://api.github.com/users/karpathy/followers', 'following_url': 'https://api.github.com/users/karpathy/following{/other_user}', 'gists_url': 'https://api.github.com/users/karpathy/gists{/gist_id}', 'starred_url': 'https://api.github.com/users/karpathy/starred{/owner}{/repo}', 'subscriptions_url': 'https://api.github.com/users/karpathy/subscriptions', 'organizations_url': 'https://api.github.com/users/karpathy/orgs', 'repos_url': 'https://api.github.com/users/karpathy/repos', 'events_url': 'https://api.github.com/users/karpathy/events{/privacy}', 'received_events_url': 'https://api.github.com/users/karpathy/received_events', 'type': 'User', 'site_admin': False}, 'private': False, 'html_url': 'https://github.com/karpathy/simple-amt', 'description': \"A microframework for working with Amazon's Mechanical Turk\", 'fork': True, 'url': 'https://api.github.com/repos/karpathy/simple-amt', 'forks_url': 'https://api.github.com/repos/karpathy/simple-amt/forks', 'keys_url': 'https://api.github.com/repos/karpathy/simple-amt/keys{/key_id}', 'collaborators_url': 'https://api.github.com/repos/karpathy/simple-amt/collaborators{/collaborator}', 'teams_url': 'https://api.github.com/repos/karpathy/simple-amt/teams', 'hooks_url': 'https://api.github.com/repos/karpathy/simple-amt/hooks', 'issue_events_url': 'https://api.github.com/repos/karpathy/simple-amt/issues/events{/number}', 'events_url': 'https://api.github.com/repos/karpathy/simple-amt/events', 'assignees_url': 'https://api.github.com/repos/karpathy/simple-amt/assignees{/user}', 'branches_url': 'https://api.github.com/repos/karpathy/simple-amt/branches{/branch}', 'tags_url': 'https://api.github.com/repos/karpathy/simple-amt/tags', 'blobs_url': 'https://api.github.com/repos/karpathy/simple-amt/git/blobs{/sha}', 'git_tags_url': 'https://api.github.com/repos/karpathy/simple-amt/git/tags{/sha}', 'git_refs_url': 'https://api.github.com/repos/karpathy/simple-amt/git/refs{/sha}', 'trees_url': 'https://api.github.com/repos/karpathy/simple-amt/git/trees{/sha}', 'statuses_url': 'https://api.github.com/repos/karpathy/simple-amt/statuses/{sha}', 'languages_url': 'https://api.github.com/repos/karpathy/simple-amt/languages', 'stargazers_url': 'https://api.github.com/repos/karpathy/simple-amt/stargazers', 'contributors_url': 'https://api.github.com/repos/karpathy/simple-amt/contributors', 'subscribers_url': 'https://api.github.com/repos/karpathy/simple-amt/subscribers', 'subscription_url': 'https://api.github.com/repos/karpathy/simple-amt/subscription', 'commits_url': 'https://api.github.com/repos/karpathy/simple-amt/commits{/sha}', 'git_commits_url': 'https://api.github.com/repos/karpathy/simple-amt/git/commits{/sha}', 'comments_url': 'https://api.github.com/repos/karpathy/simple-amt/comments{/number}', 'issue_comment_url': 'https://api.github.com/repos/karpathy/simple-amt/issues/comments{/number}', 'contents_url': 'https://api.github.com/repos/karpathy/simple-amt/contents/{+path}', 'compare_url': 'https://api.github.com/repos/karpathy/simple-amt/compare/{base}...{head}', 'merges_url': 'https://api.github.com/repos/karpathy/simple-amt/merges', 'archive_url': 'https://api.github.com/repos/karpathy/simple-amt/{archive_format}{/ref}', 'downloads_url': 'https://api.github.com/repos/karpathy/simple-amt/downloads', 'issues_url': 'https://api.github.com/repos/karpathy/simple-amt/issues{/number}', 'pulls_url': 'https://api.github.com/repos/karpathy/simple-amt/pulls{/number}', 'milestones_url': 'https://api.github.com/repos/karpathy/simple-amt/milestones{/number}', 'notifications_url': 'https://api.github.com/repos/karpathy/simple-amt/notifications{?since,all,participating}', 'labels_url': 'https://api.github.com/repos/karpathy/simple-amt/labels{/name}', 'releases_url': 'https://api.github.com/repos/karpathy/simple-amt/releases{/id}', 'deployments_url': 'https://api.github.com/repos/karpathy/simple-amt/deployments', 'created_at': '2015-03-03T05:47:22Z', 'updated_at': '2016-11-05T10:53:19Z', 'pushed_at': '2015-03-03T05:49:53Z', 'git_url': 'git://github.com/karpathy/simple-amt.git', 'ssh_url': 'git@github.com:karpathy/simple-amt.git', 'clone_url': 'https://github.com/karpathy/simple-amt.git', 'svn_url': 'https://github.com/karpathy/simple-amt', 'homepage': '', 'size': 118, 'stargazers_count': 4, 'watchers_count': 4, 'language': 'Python', 'has_issues': False, 'has_projects': True, 'has_downloads': True, 'has_wiki': True, 'has_pages': False, 'forks_count': 4, 'mirror_url': None, 'open_issues_count': 0, 'forks': 4, 'open_issues': 0, 'watchers': 4, 'default_branch': 'master'}, {'id': 4950475, 'name': 'svmjs', 'full_name': 'karpathy/svmjs', 'owner': {'login': 'karpathy', 'id': 241138, 'avatar_url': 'https://avatars0.githubusercontent.com/u/241138?v=3', 'gravatar_id': '', 'url': 'https://api.github.com/users/karpathy', 'html_url': 'https://github.com/karpathy', 'followers_url': 'https://api.github.com/users/karpathy/followers', 'following_url': 'https://api.github.com/users/karpathy/following{/other_user}', 'gists_url': 'https://api.github.com/users/karpathy/gists{/gist_id}', 'starred_url': 'https://api.github.com/users/karpathy/starred{/owner}{/repo}', 'subscriptions_url': 'https://api.github.com/users/karpathy/subscriptions', 'organizations_url': 'https://api.github.com/users/karpathy/orgs', 'repos_url': 'https://api.github.com/users/karpathy/repos', 'events_url': 'https://api.github.com/users/karpathy/events{/privacy}', 'received_events_url': 'https://api.github.com/users/karpathy/received_events', 'type': 'User', 'site_admin': False}, 'private': False, 'html_url': 'https://github.com/karpathy/svmjs', 'description': 'Support Vector Machine in Javascript (SMO algorithm, supports arbitrary kernels) + GUI demo', 'fork': False, 'url': 'https://api.github.com/repos/karpathy/svmjs', 'forks_url': 'https://api.github.com/repos/karpathy/svmjs/forks', 'keys_url': 'https://api.github.com/repos/karpathy/svmjs/keys{/key_id}', 'collaborators_url': 'https://api.github.com/repos/karpathy/svmjs/collaborators{/collaborator}', 'teams_url': 'https://api.github.com/repos/karpathy/svmjs/teams', 'hooks_url': 'https://api.github.com/repos/karpathy/svmjs/hooks', 'issue_events_url': 'https://api.github.com/repos/karpathy/svmjs/issues/events{/number}', 'events_url': 'https://api.github.com/repos/karpathy/svmjs/events', 'assignees_url': 'https://api.github.com/repos/karpathy/svmjs/assignees{/user}', 'branches_url': 'https://api.github.com/repos/karpathy/svmjs/branches{/branch}', 'tags_url': 'https://api.github.com/repos/karpathy/svmjs/tags', 'blobs_url': 'https://api.github.com/repos/karpathy/svmjs/git/blobs{/sha}', 'git_tags_url': 'https://api.github.com/repos/karpathy/svmjs/git/tags{/sha}', 'git_refs_url': 'https://api.github.com/repos/karpathy/svmjs/git/refs{/sha}', 'trees_url': 'https://api.github.com/repos/karpathy/svmjs/git/trees{/sha}', 'statuses_url': 'https://api.github.com/repos/karpathy/svmjs/statuses/{sha}', 'languages_url': 'https://api.github.com/repos/karpathy/svmjs/languages', 'stargazers_url': 'https://api.github.com/repos/karpathy/svmjs/stargazers', 'contributors_url': 'https://api.github.com/repos/karpathy/svmjs/contributors', 'subscribers_url': 'https://api.github.com/repos/karpathy/svmjs/subscribers', 'subscription_url': 'https://api.github.com/repos/karpathy/svmjs/subscription', 'commits_url': 'https://api.github.com/repos/karpathy/svmjs/commits{/sha}', 'git_commits_url': 'https://api.github.com/repos/karpathy/svmjs/git/commits{/sha}', 'comments_url': 'https://api.github.com/repos/karpathy/svmjs/comments{/number}', 'issue_comment_url': 'https://api.github.com/repos/karpathy/svmjs/issues/comments{/number}', 'contents_url': 'https://api.github.com/repos/karpathy/svmjs/contents/{+path}', 'compare_url': 'https://api.github.com/repos/karpathy/svmjs/compare/{base}...{head}', 'merges_url': 'https://api.github.com/repos/karpathy/svmjs/merges', 'archive_url': 'https://api.github.com/repos/karpathy/svmjs/{archive_format}{/ref}', 'downloads_url': 'https://api.github.com/repos/karpathy/svmjs/downloads', 'issues_url': 'https://api.github.com/repos/karpathy/svmjs/issues{/number}', 'pulls_url': 'https://api.github.com/repos/karpathy/svmjs/pulls{/number}', 'milestones_url': 'https://api.github.com/repos/karpathy/svmjs/milestones{/number}', 'notifications_url': 'https://api.github.com/repos/karpathy/svmjs/notifications{?since,all,participating}', 'labels_url': 'https://api.github.com/repos/karpathy/svmjs/labels{/name}', 'releases_url': 'https://api.github.com/repos/karpathy/svmjs/releases{/id}', 'deployments_url': 'https://api.github.com/repos/karpathy/svmjs/deployments', 'created_at': '2012-07-08T22:23:19Z', 'updated_at': '2017-06-08T00:11:30Z', 'pushed_at': '2013-03-13T22:00:11Z', 'git_url': 'git://github.com/karpathy/svmjs.git', 'ssh_url': 'git@github.com:karpathy/svmjs.git', 'clone_url': 'https://github.com/karpathy/svmjs.git', 'svn_url': 'https://github.com/karpathy/svmjs', 'homepage': None, 'size': 243, 'stargazers_count': 455, 'watchers_count': 455, 'language': 'JavaScript', 'has_issues': True, 'has_projects': True, 'has_downloads': True, 'has_wiki': True, 'has_pages': False, 'forks_count': 96, 'mirror_url': None, 'open_issues_count': 2, 'forks': 96, 'open_issues': 2, 'watchers': 455, 'default_branch': 'master'}, {'id': 69648943, 'name': 'tf-agent', 'full_name': 'karpathy/tf-agent', 'owner': {'login': 'karpathy', 'id': 241138, 'avatar_url': 'https://avatars0.githubusercontent.com/u/241138?v=3', 'gravatar_id': '', 'url': 'https://api.github.com/users/karpathy', 'html_url': 'https://github.com/karpathy', 'followers_url': 'https://api.github.com/users/karpathy/followers', 'following_url': 'https://api.github.com/users/karpathy/following{/other_user}', 'gists_url': 'https://api.github.com/users/karpathy/gists{/gist_id}', 'starred_url': 'https://api.github.com/users/karpathy/starred{/owner}{/repo}', 'subscriptions_url': 'https://api.github.com/users/karpathy/subscriptions', 'organizations_url': 'https://api.github.com/users/karpathy/orgs', 'repos_url': 'https://api.github.com/users/karpathy/repos', 'events_url': 'https://api.github.com/users/karpathy/events{/privacy}', 'received_events_url': 'https://api.github.com/users/karpathy/received_events', 'type': 'User', 'site_admin': False}, 'private': False, 'html_url': 'https://github.com/karpathy/tf-agent', 'description': 'tensorflow reinforcement learning agents for OpenAI gym environments', 'fork': False, 'url': 'https://api.github.com/repos/karpathy/tf-agent', 'forks_url': 'https://api.github.com/repos/karpathy/tf-agent/forks', 'keys_url': 'https://api.github.com/repos/karpathy/tf-agent/keys{/key_id}', 'collaborators_url': 'https://api.github.com/repos/karpathy/tf-agent/collaborators{/collaborator}', 'teams_url': 'https://api.github.com/repos/karpathy/tf-agent/teams', 'hooks_url': 'https://api.github.com/repos/karpathy/tf-agent/hooks', 'issue_events_url': 'https://api.github.com/repos/karpathy/tf-agent/issues/events{/number}', 'events_url': 'https://api.github.com/repos/karpathy/tf-agent/events', 'assignees_url': 'https://api.github.com/repos/karpathy/tf-agent/assignees{/user}', 'branches_url': 'https://api.github.com/repos/karpathy/tf-agent/branches{/branch}', 'tags_url': 'https://api.github.com/repos/karpathy/tf-agent/tags', 'blobs_url': 'https://api.github.com/repos/karpathy/tf-agent/git/blobs{/sha}', 'git_tags_url': 'https://api.github.com/repos/karpathy/tf-agent/git/tags{/sha}', 'git_refs_url': 'https://api.github.com/repos/karpathy/tf-agent/git/refs{/sha}', 'trees_url': 'https://api.github.com/repos/karpathy/tf-agent/git/trees{/sha}', 'statuses_url': 'https://api.github.com/repos/karpathy/tf-agent/statuses/{sha}', 'languages_url': 'https://api.github.com/repos/karpathy/tf-agent/languages', 'stargazers_url': 'https://api.github.com/repos/karpathy/tf-agent/stargazers', 'contributors_url': 'https://api.github.com/repos/karpathy/tf-agent/contributors', 'subscribers_url': 'https://api.github.com/repos/karpathy/tf-agent/subscribers', 'subscription_url': 'https://api.github.com/repos/karpathy/tf-agent/subscription', 'commits_url': 'https://api.github.com/repos/karpathy/tf-agent/commits{/sha}', 'git_commits_url': 'https://api.github.com/repos/karpathy/tf-agent/git/commits{/sha}', 'comments_url': 'https://api.github.com/repos/karpathy/tf-agent/comments{/number}', 'issue_comment_url': 'https://api.github.com/repos/karpathy/tf-agent/issues/comments{/number}', 'contents_url': 'https://api.github.com/repos/karpathy/tf-agent/contents/{+path}', 'compare_url': 'https://api.github.com/repos/karpathy/tf-agent/compare/{base}...{head}', 'merges_url': 'https://api.github.com/repos/karpathy/tf-agent/merges', 'archive_url': 'https://api.github.com/repos/karpathy/tf-agent/{archive_format}{/ref}', 'downloads_url': 'https://api.github.com/repos/karpathy/tf-agent/downloads', 'issues_url': 'https://api.github.com/repos/karpathy/tf-agent/issues{/number}', 'pulls_url': 'https://api.github.com/repos/karpathy/tf-agent/pulls{/number}', 'milestones_url': 'https://api.github.com/repos/karpathy/tf-agent/milestones{/number}', 'notifications_url': 'https://api.github.com/repos/karpathy/tf-agent/notifications{?since,all,participating}', 'labels_url': 'https://api.github.com/repos/karpathy/tf-agent/labels{/name}', 'releases_url': 'https://api.github.com/repos/karpathy/tf-agent/releases{/id}', 'deployments_url': 'https://api.github.com/repos/karpathy/tf-agent/deployments', 'created_at': '2016-09-30T08:30:55Z', 'updated_at': '2017-05-14T21:57:24Z', 'pushed_at': '2016-10-03T22:49:20Z', 'git_url': 'git://github.com/karpathy/tf-agent.git', 'ssh_url': 'git@github.com:karpathy/tf-agent.git', 'clone_url': 'https://github.com/karpathy/tf-agent.git', 'svn_url': 'https://github.com/karpathy/tf-agent', 'homepage': None, 'size': 5, 'stargazers_count': 66, 'watchers_count': 66, 'language': 'Python', 'has_issues': True, 'has_projects': True, 'has_downloads': True, 'has_wiki': True, 'has_pages': False, 'forks_count': 11, 'mirror_url': None, 'open_issues_count': 1, 'forks': 11, 'open_issues': 1, 'watchers': 66, 'default_branch': 'master'}, {'id': 21405570, 'name': 'tsnejs', 'full_name': 'karpathy/tsnejs', 'owner': {'login': 'karpathy', 'id': 241138, 'avatar_url': 'https://avatars0.githubusercontent.com/u/241138?v=3', 'gravatar_id': '', 'url': 'https://api.github.com/users/karpathy', 'html_url': 'https://github.com/karpathy', 'followers_url': 'https://api.github.com/users/karpathy/followers', 'following_url': 'https://api.github.com/users/karpathy/following{/other_user}', 'gists_url': 'https://api.github.com/users/karpathy/gists{/gist_id}', 'starred_url': 'https://api.github.com/users/karpathy/starred{/owner}{/repo}', 'subscriptions_url': 'https://api.github.com/users/karpathy/subscriptions', 'organizations_url': 'https://api.github.com/users/karpathy/orgs', 'repos_url': 'https://api.github.com/users/karpathy/repos', 'events_url': 'https://api.github.com/users/karpathy/events{/privacy}', 'received_events_url': 'https://api.github.com/users/karpathy/received_events', 'type': 'User', 'site_admin': False}, 'private': False, 'html_url': 'https://github.com/karpathy/tsnejs', 'description': 'Implementation of t-SNE visualization algorithm in Javascript.', 'fork': False, 'url': 'https://api.github.com/repos/karpathy/tsnejs', 'forks_url': 'https://api.github.com/repos/karpathy/tsnejs/forks', 'keys_url': 'https://api.github.com/repos/karpathy/tsnejs/keys{/key_id}', 'collaborators_url': 'https://api.github.com/repos/karpathy/tsnejs/collaborators{/collaborator}', 'teams_url': 'https://api.github.com/repos/karpathy/tsnejs/teams', 'hooks_url': 'https://api.github.com/repos/karpathy/tsnejs/hooks', 'issue_events_url': 'https://api.github.com/repos/karpathy/tsnejs/issues/events{/number}', 'events_url': 'https://api.github.com/repos/karpathy/tsnejs/events', 'assignees_url': 'https://api.github.com/repos/karpathy/tsnejs/assignees{/user}', 'branches_url': 'https://api.github.com/repos/karpathy/tsnejs/branches{/branch}', 'tags_url': 'https://api.github.com/repos/karpathy/tsnejs/tags', 'blobs_url': 'https://api.github.com/repos/karpathy/tsnejs/git/blobs{/sha}', 'git_tags_url': 'https://api.github.com/repos/karpathy/tsnejs/git/tags{/sha}', 'git_refs_url': 'https://api.github.com/repos/karpathy/tsnejs/git/refs{/sha}', 'trees_url': 'https://api.github.com/repos/karpathy/tsnejs/git/trees{/sha}', 'statuses_url': 'https://api.github.com/repos/karpathy/tsnejs/statuses/{sha}', 'languages_url': 'https://api.github.com/repos/karpathy/tsnejs/languages', 'stargazers_url': 'https://api.github.com/repos/karpathy/tsnejs/stargazers', 'contributors_url': 'https://api.github.com/repos/karpathy/tsnejs/contributors', 'subscribers_url': 'https://api.github.com/repos/karpathy/tsnejs/subscribers', 'subscription_url': 'https://api.github.com/repos/karpathy/tsnejs/subscription', 'commits_url': 'https://api.github.com/repos/karpathy/tsnejs/commits{/sha}', 'git_commits_url': 'https://api.github.com/repos/karpathy/tsnejs/git/commits{/sha}', 'comments_url': 'https://api.github.com/repos/karpathy/tsnejs/comments{/number}', 'issue_comment_url': 'https://api.github.com/repos/karpathy/tsnejs/issues/comments{/number}', 'contents_url': 'https://api.github.com/repos/karpathy/tsnejs/contents/{+path}', 'compare_url': 'https://api.github.com/repos/karpathy/tsnejs/compare/{base}...{head}', 'merges_url': 'https://api.github.com/repos/karpathy/tsnejs/merges', 'archive_url': 'https://api.github.com/repos/karpathy/tsnejs/{archive_format}{/ref}', 'downloads_url': 'https://api.github.com/repos/karpathy/tsnejs/downloads', 'issues_url': 'https://api.github.com/repos/karpathy/tsnejs/issues{/number}', 'pulls_url': 'https://api.github.com/repos/karpathy/tsnejs/pulls{/number}', 'milestones_url': 'https://api.github.com/repos/karpathy/tsnejs/milestones{/number}', 'notifications_url': 'https://api.github.com/repos/karpathy/tsnejs/notifications{?since,all,participating}', 'labels_url': 'https://api.github.com/repos/karpathy/tsnejs/labels{/name}', 'releases_url': 'https://api.github.com/repos/karpathy/tsnejs/releases{/id}', 'deployments_url': 'https://api.github.com/repos/karpathy/tsnejs/deployments', 'created_at': '2014-07-01T23:44:12Z', 'updated_at': '2017-06-06T19:03:08Z', 'pushed_at': '2016-10-28T16:36:55Z', 'git_url': 'git://github.com/karpathy/tsnejs.git', 'ssh_url': 'git@github.com:karpathy/tsnejs.git', 'clone_url': 'https://github.com/karpathy/tsnejs.git', 'svn_url': 'https://github.com/karpathy/tsnejs', 'homepage': None, 'size': 14, 'stargazers_count': 401, 'watchers_count': 401, 'language': 'JavaScript', 'has_issues': True, 'has_projects': True, 'has_downloads': True, 'has_wiki': True, 'has_pages': False, 'forks_count': 76, 'mirror_url': None, 'open_issues_count': 3, 'forks': 76, 'open_issues': 3, 'watchers': 401, 'default_branch': 'master'}, {'id': 1560470, 'name': 'twoolpy', 'full_name': 'karpathy/twoolpy', 'owner': {'login': 'karpathy', 'id': 241138, 'avatar_url': 'https://avatars0.githubusercontent.com/u/241138?v=3', 'gravatar_id': '', 'url': 'https://api.github.com/users/karpathy', 'html_url': 'https://github.com/karpathy', 'followers_url': 'https://api.github.com/users/karpathy/followers', 'following_url': 'https://api.github.com/users/karpathy/following{/other_user}', 'gists_url': 'https://api.github.com/users/karpathy/gists{/gist_id}', 'starred_url': 'https://api.github.com/users/karpathy/starred{/owner}{/repo}', 'subscriptions_url': 'https://api.github.com/users/karpathy/subscriptions', 'organizations_url': 'https://api.github.com/users/karpathy/orgs', 'repos_url': 'https://api.github.com/users/karpathy/repos', 'events_url': 'https://api.github.com/users/karpathy/events{/privacy}', 'received_events_url': 'https://api.github.com/users/karpathy/received_events', 'type': 'User', 'site_admin': False}, 'private': False, 'html_url': 'https://github.com/karpathy/twoolpy', 'description': 'useful scripts to work with Twitter + Python. Requires the tweepy library.', 'fork': False, 'url': 'https://api.github.com/repos/karpathy/twoolpy', 'forks_url': 'https://api.github.com/repos/karpathy/twoolpy/forks', 'keys_url': 'https://api.github.com/repos/karpathy/twoolpy/keys{/key_id}', 'collaborators_url': 'https://api.github.com/repos/karpathy/twoolpy/collaborators{/collaborator}', 'teams_url': 'https://api.github.com/repos/karpathy/twoolpy/teams', 'hooks_url': 'https://api.github.com/repos/karpathy/twoolpy/hooks', 'issue_events_url': 'https://api.github.com/repos/karpathy/twoolpy/issues/events{/number}', 'events_url': 'https://api.github.com/repos/karpathy/twoolpy/events', 'assignees_url': 'https://api.github.com/repos/karpathy/twoolpy/assignees{/user}', 'branches_url': 'https://api.github.com/repos/karpathy/twoolpy/branches{/branch}', 'tags_url': 'https://api.github.com/repos/karpathy/twoolpy/tags', 'blobs_url': 'https://api.github.com/repos/karpathy/twoolpy/git/blobs{/sha}', 'git_tags_url': 'https://api.github.com/repos/karpathy/twoolpy/git/tags{/sha}', 'git_refs_url': 'https://api.github.com/repos/karpathy/twoolpy/git/refs{/sha}', 'trees_url': 'https://api.github.com/repos/karpathy/twoolpy/git/trees{/sha}', 'statuses_url': 'https://api.github.com/repos/karpathy/twoolpy/statuses/{sha}', 'languages_url': 'https://api.github.com/repos/karpathy/twoolpy/languages', 'stargazers_url': 'https://api.github.com/repos/karpathy/twoolpy/stargazers', 'contributors_url': 'https://api.github.com/repos/karpathy/twoolpy/contributors', 'subscribers_url': 'https://api.github.com/repos/karpathy/twoolpy/subscribers', 'subscription_url': 'https://api.github.com/repos/karpathy/twoolpy/subscription', 'commits_url': 'https://api.github.com/repos/karpathy/twoolpy/commits{/sha}', 'git_commits_url': 'https://api.github.com/repos/karpathy/twoolpy/git/commits{/sha}', 'comments_url': 'https://api.github.com/repos/karpathy/twoolpy/comments{/number}', 'issue_comment_url': 'https://api.github.com/repos/karpathy/twoolpy/issues/comments{/number}', 'contents_url': 'https://api.github.com/repos/karpathy/twoolpy/contents/{+path}', 'compare_url': 'https://api.github.com/repos/karpathy/twoolpy/compare/{base}...{head}', 'merges_url': 'https://api.github.com/repos/karpathy/twoolpy/merges', 'archive_url': 'https://api.github.com/repos/karpathy/twoolpy/{archive_format}{/ref}', 'downloads_url': 'https://api.github.com/repos/karpathy/twoolpy/downloads', 'issues_url': 'https://api.github.com/repos/karpathy/twoolpy/issues{/number}', 'pulls_url': 'https://api.github.com/repos/karpathy/twoolpy/pulls{/number}', 'milestones_url': 'https://api.github.com/repos/karpathy/twoolpy/milestones{/number}', 'notifications_url': 'https://api.github.com/repos/karpathy/twoolpy/notifications{?since,all,participating}', 'labels_url': 'https://api.github.com/repos/karpathy/twoolpy/labels{/name}', 'releases_url': 'https://api.github.com/repos/karpathy/twoolpy/releases{/id}', 'deployments_url': 'https://api.github.com/repos/karpathy/twoolpy/deployments', 'created_at': '2011-04-02T19:15:31Z', 'updated_at': '2017-05-10T17:45:32Z', 'pushed_at': '2012-11-29T01:23:07Z', 'git_url': 'git://github.com/karpathy/twoolpy.git', 'ssh_url': 'git@github.com:karpathy/twoolpy.git', 'clone_url': 'https://github.com/karpathy/twoolpy.git', 'svn_url': 'https://github.com/karpathy/twoolpy', 'homepage': '', 'size': 106, 'stargazers_count': 31, 'watchers_count': 31, 'language': 'Python', 'has_issues': True, 'has_projects': True, 'has_downloads': True, 'has_wiki': True, 'has_pages': False, 'forks_count': 9, 'mirror_url': None, 'open_issues_count': 1, 'forks': 9, 'open_issues': 1, 'watchers': 31, 'default_branch': 'master'}, {'id': 19722827, 'name': 'ulogme', 'full_name': 'karpathy/ulogme', 'owner': {'login': 'karpathy', 'id': 241138, 'avatar_url': 'https://avatars0.githubusercontent.com/u/241138?v=3', 'gravatar_id': '', 'url': 'https://api.github.com/users/karpathy', 'html_url': 'https://github.com/karpathy', 'followers_url': 'https://api.github.com/users/karpathy/followers', 'following_url': 'https://api.github.com/users/karpathy/following{/other_user}', 'gists_url': 'https://api.github.com/users/karpathy/gists{/gist_id}', 'starred_url': 'https://api.github.com/users/karpathy/starred{/owner}{/repo}', 'subscriptions_url': 'https://api.github.com/users/karpathy/subscriptions', 'organizations_url': 'https://api.github.com/users/karpathy/orgs', 'repos_url': 'https://api.github.com/users/karpathy/repos', 'events_url': 'https://api.github.com/users/karpathy/events{/privacy}', 'received_events_url': 'https://api.github.com/users/karpathy/received_events', 'type': 'User', 'site_admin': False}, 'private': False, 'html_url': 'https://github.com/karpathy/ulogme', 'description': 'Automatically collect and visualize usage statistics in Ubuntu/OSX environments.', 'fork': False, 'url': 'https://api.github.com/repos/karpathy/ulogme', 'forks_url': 'https://api.github.com/repos/karpathy/ulogme/forks', 'keys_url': 'https://api.github.com/repos/karpathy/ulogme/keys{/key_id}', 'collaborators_url': 'https://api.github.com/repos/karpathy/ulogme/collaborators{/collaborator}', 'teams_url': 'https://api.github.com/repos/karpathy/ulogme/teams', 'hooks_url': 'https://api.github.com/repos/karpathy/ulogme/hooks', 'issue_events_url': 'https://api.github.com/repos/karpathy/ulogme/issues/events{/number}', 'events_url': 'https://api.github.com/repos/karpathy/ulogme/events', 'assignees_url': 'https://api.github.com/repos/karpathy/ulogme/assignees{/user}', 'branches_url': 'https://api.github.com/repos/karpathy/ulogme/branches{/branch}', 'tags_url': 'https://api.github.com/repos/karpathy/ulogme/tags', 'blobs_url': 'https://api.github.com/repos/karpathy/ulogme/git/blobs{/sha}', 'git_tags_url': 'https://api.github.com/repos/karpathy/ulogme/git/tags{/sha}', 'git_refs_url': 'https://api.github.com/repos/karpathy/ulogme/git/refs{/sha}', 'trees_url': 'https://api.github.com/repos/karpathy/ulogme/git/trees{/sha}', 'statuses_url': 'https://api.github.com/repos/karpathy/ulogme/statuses/{sha}', 'languages_url': 'https://api.github.com/repos/karpathy/ulogme/languages', 'stargazers_url': 'https://api.github.com/repos/karpathy/ulogme/stargazers', 'contributors_url': 'https://api.github.com/repos/karpathy/ulogme/contributors', 'subscribers_url': 'https://api.github.com/repos/karpathy/ulogme/subscribers', 'subscription_url': 'https://api.github.com/repos/karpathy/ulogme/subscription', 'commits_url': 'https://api.github.com/repos/karpathy/ulogme/commits{/sha}', 'git_commits_url': 'https://api.github.com/repos/karpathy/ulogme/git/commits{/sha}', 'comments_url': 'https://api.github.com/repos/karpathy/ulogme/comments{/number}', 'issue_comment_url': 'https://api.github.com/repos/karpathy/ulogme/issues/comments{/number}', 'contents_url': 'https://api.github.com/repos/karpathy/ulogme/contents/{+path}', 'compare_url': 'https://api.github.com/repos/karpathy/ulogme/compare/{base}...{head}', 'merges_url': 'https://api.github.com/repos/karpathy/ulogme/merges', 'archive_url': 'https://api.github.com/repos/karpathy/ulogme/{archive_format}{/ref}', 'downloads_url': 'https://api.github.com/repos/karpathy/ulogme/downloads', 'issues_url': 'https://api.github.com/repos/karpathy/ulogme/issues{/number}', 'pulls_url': 'https://api.github.com/repos/karpathy/ulogme/pulls{/number}', 'milestones_url': 'https://api.github.com/repos/karpathy/ulogme/milestones{/number}', 'notifications_url': 'https://api.github.com/repos/karpathy/ulogme/notifications{?since,all,participating}', 'labels_url': 'https://api.github.com/repos/karpathy/ulogme/labels{/name}', 'releases_url': 'https://api.github.com/repos/karpathy/ulogme/releases{/id}', 'deployments_url': 'https://api.github.com/repos/karpathy/ulogme/deployments', 'created_at': '2014-05-13T02:16:30Z', 'updated_at': '2017-06-08T22:01:09Z', 'pushed_at': '2017-05-31T16:41:15Z', 'git_url': 'git://github.com/karpathy/ulogme.git', 'ssh_url': 'git@github.com:karpathy/ulogme.git', 'clone_url': 'https://github.com/karpathy/ulogme.git', 'svn_url': 'https://github.com/karpathy/ulogme', 'homepage': '', 'size': 11763, 'stargazers_count': 523, 'watchers_count': 523, 'language': 'Python', 'has_issues': True, 'has_projects': True, 'has_downloads': True, 'has_wiki': True, 'has_pages': False, 'forks_count': 133, 'mirror_url': None, 'open_issues_count': 31, 'forks': 133, 'open_issues': 31, 'watchers': 523, 'default_branch': 'master'}]"
      ]
     },
     "execution_count": 59,
     "metadata": {},
     "output_type": "execute_result"
    }
   ],
   "source": [
    "repositories"
   ]
  },
  {
   "cell_type": "markdown",
   "metadata": {
    "deletable": true,
    "editable": true
   },
   "source": [
    "### Demo 6\n",
    "\n",
    "**Querying the Twitter REST API**\n",
    "- We'll be using `tweepy` package to navigate through the streaming API.\n",
    "- We'll need to use credentials for the Twitter App that we creating in the Pre-Reading section.\n",
    "\n",
    "**Query 1: _We need to get all the tweets for a specific topic_**"
   ]
  },
  {
   "cell_type": "code",
   "execution_count": 43,
   "metadata": {
    "collapsed": false,
    "deletable": true,
    "editable": true
   },
   "outputs": [
    {
     "name": "stdout",
     "output_type": "stream",
     "text": [
      "Requirement already satisfied: tweepy in /home/jay/anaconda3/lib/python3.6/site-packages\n",
      "Requirement already satisfied: requests>=2.4.3 in /home/jay/anaconda3/lib/python3.6/site-packages (from tweepy)\n",
      "Requirement already satisfied: requests-oauthlib>=0.4.1 in /home/jay/anaconda3/lib/python3.6/site-packages (from tweepy)\n",
      "Requirement already satisfied: six>=1.7.3 in /home/jay/anaconda3/lib/python3.6/site-packages (from tweepy)\n",
      "Requirement already satisfied: oauthlib>=0.6.2 in /home/jay/anaconda3/lib/python3.6/site-packages (from requests-oauthlib>=0.4.1->tweepy)\n"
     ]
    }
   ],
   "source": [
    "! pip install tweepy"
   ]
  },
  {
   "cell_type": "code",
   "execution_count": 44,
   "metadata": {
    "collapsed": true,
    "deletable": true,
    "editable": true
   },
   "outputs": [],
   "source": [
    "#Import the necessary methods from tweepy library\n",
    "from tweepy.streaming import StreamListener\n",
    "from tweepy import OAuthHandler\n",
    "from tweepy import Stream"
   ]
  },
  {
   "cell_type": "markdown",
   "metadata": {
    "deletable": true,
    "editable": true
   },
   "source": [
    "At this point we need to get all the required tokens that the Twitter App generated for us when we created it."
   ]
  },
  {
   "cell_type": "code",
   "execution_count": 36,
   "metadata": {
    "collapsed": true,
    "deletable": true,
    "editable": true
   },
   "outputs": [],
   "source": [
    "access_token = \"ENTER YOUR ACCESS TOKEN\"\n",
    "access_token_secret = \"ENTER YOUR ACCESS TOKEN SECRET\"\n",
    "consumer_key = \"ENTER YOUR API KEY\"\n",
    "consumer_secret = \"ENTER YOUR API SECRET\""
   ]
  },
  {
   "cell_type": "code",
   "execution_count": 37,
   "metadata": {
    "collapsed": true,
    "deletable": true,
    "editable": true
   },
   "outputs": [],
   "source": [
    "#This is a basic listener that just prints received tweets to stdout.\n",
    "class StdOutListener(StreamListener):\n",
    "\n",
    "    def on_data(self, data):\n",
    "        print (\"The data collected is \\n {}\".format(data))\n",
    "        return True\n",
    "\n",
    "    def on_error(self, status):\n",
    "        print (\"The status is {}\".format(status))"
   ]
  },
  {
   "cell_type": "code",
   "execution_count": 39,
   "metadata": {
    "collapsed": false,
    "deletable": true,
    "editable": true
   },
   "outputs": [],
   "source": [
    "#This handles Twitter authetification and the connection to Twitter Streaming API\n",
    "l = StdOutListener()\n",
    "auth = OAuthHandler(consumer_key, consumer_secret)\n",
    "auth.set_access_token(access_token, access_token_secret)\n",
    "stream = tweepy.Stream(auth, l)\n",
    "\n",
    "#This line filter Twitter Streams to capture data by the keywords: 'python', 'javascript', 'ruby'\n",
    "stream.filter(track=['football'])"
   ]
  },
  {
   "cell_type": "markdown",
   "metadata": {
    "deletable": true,
    "editable": true
   },
   "source": [
    "(_Note: You need to interrupt the kernel if running in notebook, it would otherwise continue running._)"
   ]
  },
  {
   "cell_type": "markdown",
   "metadata": {
    "deletable": true,
    "editable": true
   },
   "source": [
    "**Query 2: _We need to get the tweets from a specific user._**"
   ]
  },
  {
   "cell_type": "code",
   "execution_count": 46,
   "metadata": {
    "collapsed": false,
    "deletable": true,
    "editable": true
   },
   "outputs": [],
   "source": [
    "# We already have authorized the Twitter App\n",
    "api = tweepy.API(auth)\n",
    "\n",
    "#initialize a list to hold all the tweepy Tweets\n",
    "alltweets = []    \n",
    "\n",
    "#make initial request for most recent tweets (200 is the maximum allowed count)\n",
    "new_tweets = api.user_timeline(screen_name = screen_name,count=200)\n",
    "\n",
    "#save most recent tweets\n",
    "alltweets.append(new_tweets)\n",
    "\n",
    "# We'll be able to download max 200 tweets, there a non-trivial way in which you could download the rest!"
   ]
  },
  {
   "cell_type": "markdown",
   "metadata": {
    "deletable": true,
    "editable": true
   },
   "source": [
    "### Demo 7\n",
    "\n",
    "**Parsing CSV responses**\n",
    "- CSV responses. If the API responses are in the CSV Format we take the help `csv` package to navigate through it. "
   ]
  },
  {
   "cell_type": "code",
   "execution_count": 1,
   "metadata": {
    "collapsed": true,
    "deletable": true,
    "editable": true
   },
   "outputs": [],
   "source": [
    "# We'll consider the Quandl API for our purposes\n",
    "import requests\n",
    "url = \"https://www.quandl.com/api/v3/datasets/WIKI/AAPL.csv\"\n",
    "request = requests.get(url)"
   ]
  },
  {
   "cell_type": "code",
   "execution_count": 2,
   "metadata": {
    "collapsed": false,
    "deletable": true,
    "editable": true
   },
   "outputs": [
    {
     "data": {
      "text/plain": [
       "200"
      ]
     },
     "execution_count": 2,
     "metadata": {},
     "output_type": "execute_result"
    }
   ],
   "source": [
    "request.status_code"
   ]
  },
  {
   "cell_type": "code",
   "execution_count": 3,
   "metadata": {
    "collapsed": true,
    "deletable": true,
    "editable": true
   },
   "outputs": [],
   "source": [
    "datacsv = str(request.content)"
   ]
  },
  {
   "cell_type": "code",
   "execution_count": 4,
   "metadata": {
    "collapsed": true,
    "deletable": true,
    "editable": true
   },
   "outputs": [],
   "source": [
    "rows = [val for val in datacsv.split('\\\\n')]"
   ]
  },
  {
   "cell_type": "code",
   "execution_count": 5,
   "metadata": {
    "collapsed": false,
    "deletable": true,
    "editable": true
   },
   "outputs": [
    {
     "data": {
      "text/plain": [
       "'2017-04-13,141.91,142.38,141.05,141.05,17439547.0,0.0,1.0,141.91,142.38,141.05,141.05,17439547.0'"
      ]
     },
     "execution_count": 5,
     "metadata": {},
     "output_type": "execute_result"
    }
   ],
   "source": [
    "# Sample row printed from the response recieved\n",
    "rows[1]"
   ]
  },
  {
   "cell_type": "markdown",
   "metadata": {
    "deletable": true,
    "editable": true
   },
   "source": [
    "### Demo 8\n",
    "\n",
    "**Parsing JSON responses**\n",
    "    \n",
    "* We'll consider the Github API to understand the JSON Response Parsing"
   ]
  },
  {
   "cell_type": "code",
   "execution_count": 6,
   "metadata": {
    "collapsed": true,
    "deletable": true,
    "editable": true
   },
   "outputs": [],
   "source": [
    "url = \"https://api.github.com/users/karpathy\"\n",
    "request = requests.get(url)"
   ]
  },
  {
   "cell_type": "code",
   "execution_count": 7,
   "metadata": {
    "collapsed": true,
    "deletable": true,
    "editable": true
   },
   "outputs": [],
   "source": [
    "# Dumping the JSON Response in a variable\n",
    "userDetails = request.json()"
   ]
  },
  {
   "cell_type": "code",
   "execution_count": 8,
   "metadata": {
    "collapsed": false,
    "deletable": true,
    "editable": true
   },
   "outputs": [
    {
     "data": {
      "text/plain": [
       "{'avatar_url': 'https://avatars0.githubusercontent.com/u/241138?v=3',\n",
       " 'bio': None,\n",
       " 'blog': 'twitter.com/karpathy',\n",
       " 'company': None,\n",
       " 'created_at': '2010-04-10T17:55:32Z',\n",
       " 'email': 'andrej.karpathy@gmail.com',\n",
       " 'events_url': 'https://api.github.com/users/karpathy/events{/privacy}',\n",
       " 'followers': 9438,\n",
       " 'followers_url': 'https://api.github.com/users/karpathy/followers',\n",
       " 'following': 5,\n",
       " 'following_url': 'https://api.github.com/users/karpathy/following{/other_user}',\n",
       " 'gists_url': 'https://api.github.com/users/karpathy/gists{/gist_id}',\n",
       " 'gravatar_id': '',\n",
       " 'hireable': None,\n",
       " 'html_url': 'https://github.com/karpathy',\n",
       " 'id': 241138,\n",
       " 'location': 'Stanford',\n",
       " 'login': 'karpathy',\n",
       " 'name': 'Andrej',\n",
       " 'organizations_url': 'https://api.github.com/users/karpathy/orgs',\n",
       " 'public_gists': 7,\n",
       " 'public_repos': 29,\n",
       " 'received_events_url': 'https://api.github.com/users/karpathy/received_events',\n",
       " 'repos_url': 'https://api.github.com/users/karpathy/repos',\n",
       " 'site_admin': False,\n",
       " 'starred_url': 'https://api.github.com/users/karpathy/starred{/owner}{/repo}',\n",
       " 'subscriptions_url': 'https://api.github.com/users/karpathy/subscriptions',\n",
       " 'type': 'User',\n",
       " 'updated_at': '2017-01-12T04:36:44Z',\n",
       " 'url': 'https://api.github.com/users/karpathy'}"
      ]
     },
     "execution_count": 8,
     "metadata": {},
     "output_type": "execute_result"
    }
   ],
   "source": [
    "# Printing out all the user details\n",
    "userDetails"
   ]
  },
  {
   "cell_type": "markdown",
   "metadata": {
    "deletable": true,
    "editable": true
   },
   "source": [
    "### Demo 9"
   ]
  },
  {
   "cell_type": "code",
   "execution_count": 9,
   "metadata": {
    "collapsed": false,
    "deletable": true,
    "editable": true
   },
   "outputs": [
    {
     "name": "stdout",
     "output_type": "stream",
     "text": [
      "The name of the repository owner is Andrej.\n",
      "The location of the repository owner is Stanford.\n"
     ]
    }
   ],
   "source": [
    "# Getting the Name and Location of the user\n",
    "print (\"The name of the repository owner is {}.\".format(userDetails.get('name')))\n",
    "print (\"The location of the repository owner is {}.\".format(userDetails.get('location')))"
   ]
  },
  {
   "cell_type": "markdown",
   "metadata": {
    "deletable": true,
    "editable": true
   },
   "source": [
    "### Demo 10\n",
    "\n",
    "**Worked out example Reading YAML files into Python (Code snippet below):**"
   ]
  },
  {
   "cell_type": "code",
   "execution_count": 61,
   "metadata": {
    "collapsed": false,
    "deletable": true,
    "editable": true
   },
   "outputs": [
    {
     "name": "stdout",
     "output_type": "stream",
     "text": [
      "Requirement already satisfied: pyyaml in /home/jay/anaconda3/lib/python3.6/site-packages\r\n"
     ]
    }
   ],
   "source": [
    "! pip install pyyaml"
   ]
  },
  {
   "cell_type": "code",
   "execution_count": 62,
   "metadata": {
    "collapsed": true,
    "deletable": true,
    "editable": true
   },
   "outputs": [],
   "source": [
    "import yaml"
   ]
  },
  {
   "cell_type": "code",
   "execution_count": 73,
   "metadata": {
    "collapsed": false,
    "deletable": true,
    "editable": true
   },
   "outputs": [
    {
     "name": "stdout",
     "output_type": "stream",
     "text": [
      "{'A': 'a', 'B': {'C': 'c', 'D': 'd', 'E': 'e'}}\n"
     ]
    }
   ],
   "source": [
    "# For demonstration purposes we would import a sample YAML file\n",
    "with open(\"./data/sample.yml\", 'r') as stream:\n",
    "    try:\n",
    "        print(yaml.load(stream))\n",
    "    except yaml.YAMLError as exc:\n",
    "        print(exc)"
   ]
  },
  {
   "cell_type": "markdown",
   "metadata": {
    "deletable": true,
    "editable": true
   },
   "source": [
    "### Demo 11"
   ]
  },
  {
   "cell_type": "code",
   "execution_count": 47,
   "metadata": {
    "collapsed": true,
    "deletable": true,
    "editable": true
   },
   "outputs": [],
   "source": [
    "class FlatDict:        \n",
    "    def flatDict(self, dictObj=None):\n",
    "        '''Flatten a given dict\n",
    "        '''\n",
    "        #print('Arg received: ', dictObj)\n",
    "        for key, value in dictObj.items():\n",
    "            #print('Now iterating through: ', {key:value})\n",
    "            if isinstance(value, dict):\n",
    "                #print('Value: ', value, ', Is value a dictionary? ', isinstance(value, dict))\n",
    "                for key2, value2 in value.items():\n",
    "                    self.flatDict({'_'.join([key, key2]) : value2})\n",
    "            elif isinstance(value, list) and isinstance(value[0], str):\n",
    "                value = ', '.join(value)\n",
    "                #print('The pair to be updated: ', {key:value})\n",
    "                self.flatteneddict.update({key:value})\n",
    "            else:\n",
    "                #print('The pair to be updated: ', {key:value})\n",
    "                self.flatteneddict.update({key:value})\n",
    "        \n",
    "    def __init__(self, dictObj=None):\n",
    "        self.flatteneddict = {}\n",
    "        if not isinstance(dictObj, dict):\n",
    "            raise ValueError('Expected a dictionary object as input!')\n",
    "        self.flatDict(dictObj)\n",
    "    \n",
    "    def __repr__(self):\n",
    "        return(str(self.flatteneddict))"
   ]
  },
  {
   "cell_type": "code",
   "execution_count": 64,
   "metadata": {
    "collapsed": false,
    "deletable": true,
    "editable": true
   },
   "outputs": [
    {
     "data": {
      "text/plain": [
       "{'x': 1, 'y': 2, 'z_a': 1, 'z_b': 2}"
      ]
     },
     "execution_count": 64,
     "metadata": {},
     "output_type": "execute_result"
    }
   ],
   "source": [
    "xxx = {'x': 1, 'y':2, 'z': {'a':1, 'b':2}}\n",
    "FlatDict(xxx)"
   ]
  },
  {
   "cell_type": "code",
   "execution_count": 82,
   "metadata": {
    "collapsed": true,
    "deletable": true,
    "editable": true
   },
   "outputs": [],
   "source": [
    "import pandas as pd\n",
    "\n",
    "class CricSheet(FlatDict):\n",
    "    def __init__(self, innings=None, info=None):\n",
    "        self.ballsDF = pd.DataFrame()\n",
    "        self.get_ballsDF(innings, info)\n",
    "    \n",
    "    # x.innings (list) \n",
    "    #  > '1st innings', '2nd innings' (dicts) \n",
    "    #    > 'team':value, 'deliveries':[dicts of balls {ball_no:value}]\n",
    "    # Params - x.innings[0] and x.innings[1], if they exist\n",
    "    def get_ballsDF(self, innings=None, info=None):     # dictObj = x.innings\n",
    "        for idx, inningsObj in enumerate(innings):      # idx = 0, 1; inningsObj = {'ist ininnings': dict}\n",
    "            inningsDict = list(inningsObj.values())[0]  # inningsDict = {'team': val, 'deliveries': dict}\n",
    "            for ball in inningsDict['deliveries']:      # a dict\n",
    "                #clear out details of last delivery\n",
    "                self.flatteneddict = {} \n",
    "                self.flatteneddict.update({'innings': idx + 1})\n",
    "                self.flatteneddict.update({'batting_team': inningsDict['team']})\n",
    "                self.flatDict(info)\n",
    "                \n",
    "                #print('Ball: ', ball)\n",
    "                \n",
    "                for ball_no, ball_details in ball.items():\n",
    "                    #print('ball_no: ', ball_no, 'ball_details: ', ball_details)\n",
    "                    self.flatDict(ball_details)\n",
    "                    \n",
    "                    idx_df = int(100*(idx+1) + 10*ball_no)\n",
    "                    \n",
    "                    newDF = pd.DataFrame(self.flatteneddict, index=[idx_df])\n",
    "                    #print('newDF: \\n', type(newDF), '\\n', newDF)\n",
    "                    \n",
    "                    self.ballsDF = pd.concat([self.ballsDF, newDF])\n"
   ]
  },
  {
   "cell_type": "markdown",
   "metadata": {
    "deletable": true,
    "editable": true
   },
   "source": [
    "- A class to read `Cricsheet` YAMLs and produce CSVs"
   ]
  },
  {
   "cell_type": "markdown",
   "metadata": {
    "deletable": true,
    "editable": true
   },
   "source": [
    "### Demo 12"
   ]
  },
  {
   "cell_type": "code",
   "execution_count": 75,
   "metadata": {
    "collapsed": true,
    "deletable": true,
    "editable": true
   },
   "outputs": [],
   "source": [
    "import os\n",
    "import glob\n",
    "from tqdm import tqdm\n",
    "\n",
    "class Cricsheet(object):\n",
    "    \"\"\"We would be able to extract the content from the YAML files and produce CSVs from it.\n",
    "    \n",
    "    Attributes:\n",
    "        ymlpath: Path of the folder where the YAML files are kept.\n",
    "        csvpath: Path where the output files should be stored.\n",
    "    \"\"\"\n",
    "    \n",
    "    def __init__(self, ymlpath, csvpath):\n",
    "        \"\"\"Returns a Cricsheet object that has *ymlpath* and *csvpath* as the \n",
    "           folder paths required.\n",
    "        \"\"\"\n",
    "        self.ymlpath = ymlpath\n",
    "        self.csvpath = csvpath\n",
    "        \n",
    "    def file_list(self):\n",
    "        \"\"\"Returns the list of files in the YAML folder supplied.\n",
    "        \"\"\"\n",
    "        filelist = [file for file in glob.glob(os.path.join(self.ymlpath,\"*[.yaml|.yml]\"))]\n",
    "        return filelist\n",
    "    \n",
    "    def read_files(self):\n",
    "        \"\"\"Returns the contents of the files read.\n",
    "        \"\"\"\n",
    "        \n",
    "        for file in tqdm(self.file_list()):\n",
    "            with open(file, 'r') as stream:\n",
    "                try:\n",
    "                    return yaml.load(stream)\n",
    "                except yaml.YAMLError as exc:\n",
    "                    print(exc)"
   ]
  },
  {
   "cell_type": "code",
   "execution_count": 76,
   "metadata": {
    "collapsed": true,
    "deletable": true,
    "editable": true
   },
   "outputs": [],
   "source": [
    "_list = Cricsheet(\"./data/test/\", \"./data/test/\")"
   ]
  },
  {
   "cell_type": "code",
   "execution_count": 77,
   "metadata": {
    "collapsed": false,
    "deletable": true,
    "editable": true
   },
   "outputs": [
    {
     "name": "stderr",
     "output_type": "stream",
     "text": [
      "  0%|          | 0/2 [00:00<?, ?it/s]\n"
     ]
    }
   ],
   "source": [
    "file = _list.read_files()"
   ]
  },
  {
   "cell_type": "code",
   "execution_count": 78,
   "metadata": {
    "collapsed": false,
    "deletable": true,
    "editable": true
   },
   "outputs": [
    {
     "data": {
      "text/plain": [
       "<class 'dict'>"
      ]
     },
     "execution_count": 78,
     "metadata": {},
     "output_type": "execute_result"
    }
   ],
   "source": [
    "type(file)"
   ]
  },
  {
   "cell_type": "code",
   "execution_count": 79,
   "metadata": {
    "collapsed": false,
    "deletable": true,
    "editable": true
   },
   "outputs": [
    {
     "data": {
      "text/plain": [
       "{'1st innings': {'team': 'Chennai Super Kings', 'deliveries': [{0.1: {'batsman': 'PA Patel', 'bowler': 'B Lee', 'non_striker': 'ML Hayden', 'runs': {'batsman': 0, 'extras': 0, 'total': 0}}}, {0.2: {'batsman': 'PA Patel', 'bowler': 'B Lee', 'non_striker': 'ML Hayden', 'runs': {'batsman': 0, 'extras': 0, 'total': 0}}}, {0.3: {'batsman': 'PA Patel', 'bowler': 'B Lee', 'non_striker': 'ML Hayden', 'runs': {'batsman': 1, 'extras': 0, 'total': 1}}}, {0.4: {'batsman': 'ML Hayden', 'bowler': 'B Lee', 'non_striker': 'PA Patel', 'runs': {'batsman': 0, 'extras': 0, 'total': 0}}}, {0.5: {'batsman': 'ML Hayden', 'bowler': 'B Lee', 'non_striker': 'PA Patel', 'runs': {'batsman': 4, 'extras': 0, 'total': 4}}}, {0.6: {'batsman': 'ML Hayden', 'bowler': 'B Lee', 'non_striker': 'PA Patel', 'runs': {'batsman': 0, 'extras': 0, 'total': 0}}}, {1.1: {'batsman': 'PA Patel', 'bowler': 'S Sreesanth', 'non_striker': 'ML Hayden', 'runs': {'batsman': 4, 'extras': 0, 'total': 4}}}, {1.2: {'batsman': 'PA Patel', 'bowler': 'S Sreesanth', 'non_striker': 'ML Hayden', 'runs': {'batsman': 4, 'extras': 0, 'total': 4}}}, {1.3: {'batsman': 'PA Patel', 'bowler': 'S Sreesanth', 'non_striker': 'ML Hayden', 'runs': {'batsman': 4, 'extras': 0, 'total': 4}}}, {1.4: {'batsman': 'PA Patel', 'bowler': 'S Sreesanth', 'non_striker': 'ML Hayden', 'runs': {'batsman': 2, 'extras': 0, 'total': 2}}}, {1.5: {'batsman': 'PA Patel', 'bowler': 'S Sreesanth', 'extras': {'wides': 1}, 'non_striker': 'ML Hayden', 'runs': {'batsman': 0, 'extras': 1, 'total': 1}}}, {1.6: {'batsman': 'PA Patel', 'bowler': 'S Sreesanth', 'non_striker': 'ML Hayden', 'runs': {'batsman': 0, 'extras': 0, 'total': 0}}}, {1.7: {'batsman': 'PA Patel', 'bowler': 'S Sreesanth', 'non_striker': 'ML Hayden', 'runs': {'batsman': 0, 'extras': 0, 'total': 0}}}, {2.1: {'batsman': 'ML Hayden', 'bowler': 'B Lee', 'non_striker': 'PA Patel', 'runs': {'batsman': 0, 'extras': 0, 'total': 0}}}, {2.2: {'batsman': 'ML Hayden', 'bowler': 'B Lee', 'extras': {'noballs': 1}, 'non_striker': 'PA Patel', 'runs': {'batsman': 4, 'extras': 1, 'total': 5}}}, {2.3: {'batsman': 'ML Hayden', 'bowler': 'B Lee', 'non_striker': 'PA Patel', 'runs': {'batsman': 0, 'extras': 0, 'total': 0}}}, {2.4: {'batsman': 'ML Hayden', 'bowler': 'B Lee', 'non_striker': 'PA Patel', 'runs': {'batsman': 1, 'extras': 0, 'total': 1}}}, {2.5: {'batsman': 'PA Patel', 'bowler': 'B Lee', 'non_striker': 'ML Hayden', 'runs': {'batsman': 0, 'extras': 0, 'total': 0}, 'wicket': {'fielders': ['KC Sangakkara'], 'kind': 'caught', 'player_out': 'PA Patel'}}}, {2.6: {'batsman': 'MEK Hussey', 'bowler': 'B Lee', 'non_striker': 'ML Hayden', 'runs': {'batsman': 1, 'extras': 0, 'total': 1}}}, {2.7: {'batsman': 'ML Hayden', 'bowler': 'B Lee', 'non_striker': 'MEK Hussey', 'runs': {'batsman': 0, 'extras': 0, 'total': 0}}}, {3.1: {'batsman': 'MEK Hussey', 'bowler': 'S Sreesanth', 'non_striker': 'ML Hayden', 'runs': {'batsman': 0, 'extras': 0, 'total': 0}}}, {3.2: {'batsman': 'MEK Hussey', 'bowler': 'S Sreesanth', 'non_striker': 'ML Hayden', 'runs': {'batsman': 0, 'extras': 0, 'total': 0}}}, {3.3: {'batsman': 'MEK Hussey', 'bowler': 'S Sreesanth', 'non_striker': 'ML Hayden', 'runs': {'batsman': 1, 'extras': 0, 'total': 1}}}, {3.4: {'batsman': 'ML Hayden', 'bowler': 'S Sreesanth', 'non_striker': 'MEK Hussey', 'runs': {'batsman': 1, 'extras': 0, 'total': 1}}}, {3.5: {'batsman': 'MEK Hussey', 'bowler': 'S Sreesanth', 'non_striker': 'ML Hayden', 'runs': {'batsman': 0, 'extras': 0, 'total': 0}}}, {3.6: {'batsman': 'MEK Hussey', 'bowler': 'S Sreesanth', 'non_striker': 'ML Hayden', 'runs': {'batsman': 4, 'extras': 0, 'total': 4}}}, {4.1: {'batsman': 'ML Hayden', 'bowler': 'B Lee', 'non_striker': 'MEK Hussey', 'runs': {'batsman': 0, 'extras': 0, 'total': 0}}}, {4.2: {'batsman': 'ML Hayden', 'bowler': 'B Lee', 'extras': {'legbyes': 1}, 'non_striker': 'MEK Hussey', 'runs': {'batsman': 0, 'extras': 1, 'total': 1}}}, {4.3: {'batsman': 'MEK Hussey', 'bowler': 'B Lee', 'non_striker': 'ML Hayden', 'runs': {'batsman': 4, 'extras': 0, 'total': 4}}}, {4.4: {'batsman': 'MEK Hussey', 'bowler': 'B Lee', 'non_striker': 'ML Hayden', 'runs': {'batsman': 4, 'extras': 0, 'total': 4}}}, {4.5: {'batsman': 'MEK Hussey', 'bowler': 'B Lee', 'non_striker': 'ML Hayden', 'runs': {'batsman': 0, 'extras': 0, 'total': 0}}}, {4.6: {'batsman': 'MEK Hussey', 'bowler': 'B Lee', 'non_striker': 'ML Hayden', 'runs': {'batsman': 0, 'extras': 0, 'total': 0}}}, {5.1: {'batsman': 'ML Hayden', 'bowler': 'JR Hopes', 'non_striker': 'MEK Hussey', 'runs': {'batsman': 4, 'extras': 0, 'total': 4}}}, {5.2: {'batsman': 'ML Hayden', 'bowler': 'JR Hopes', 'non_striker': 'MEK Hussey', 'runs': {'batsman': 6, 'extras': 0, 'total': 6}}}, {5.3: {'batsman': 'ML Hayden', 'bowler': 'JR Hopes', 'non_striker': 'MEK Hussey', 'runs': {'batsman': 0, 'extras': 0, 'total': 0}}}, {5.4: {'batsman': 'ML Hayden', 'bowler': 'JR Hopes', 'non_striker': 'MEK Hussey', 'runs': {'batsman': 1, 'extras': 0, 'total': 1}}}, {5.5: {'batsman': 'MEK Hussey', 'bowler': 'JR Hopes', 'non_striker': 'ML Hayden', 'runs': {'batsman': 0, 'extras': 0, 'total': 0}}}, {5.6: {'batsman': 'MEK Hussey', 'bowler': 'JR Hopes', 'non_striker': 'ML Hayden', 'runs': {'batsman': 0, 'extras': 0, 'total': 0}}}, {6.1: {'batsman': 'ML Hayden', 'bowler': 'IK Pathan', 'non_striker': 'MEK Hussey', 'runs': {'batsman': 4, 'extras': 0, 'total': 4}}}, {6.2: {'batsman': 'ML Hayden', 'bowler': 'IK Pathan', 'non_striker': 'MEK Hussey', 'runs': {'batsman': 0, 'extras': 0, 'total': 0}, 'wicket': {'kind': 'bowled', 'player_out': 'ML Hayden'}}}, {6.3: {'batsman': 'MS Dhoni', 'bowler': 'IK Pathan', 'non_striker': 'MEK Hussey', 'runs': {'batsman': 1, 'extras': 0, 'total': 1}}}, {6.4: {'batsman': 'MEK Hussey', 'bowler': 'IK Pathan', 'non_striker': 'MS Dhoni', 'runs': {'batsman': 2, 'extras': 0, 'total': 2}}}, {6.5: {'batsman': 'MEK Hussey', 'bowler': 'IK Pathan', 'non_striker': 'MS Dhoni', 'runs': {'batsman': 1, 'extras': 0, 'total': 1}}}, {6.6: {'batsman': 'MS Dhoni', 'bowler': 'IK Pathan', 'non_striker': 'MEK Hussey', 'runs': {'batsman': 1, 'extras': 0, 'total': 1}}}, {7.1: {'batsman': 'MS Dhoni', 'bowler': 'JR Hopes', 'non_striker': 'MEK Hussey', 'runs': {'batsman': 0, 'extras': 0, 'total': 0}, 'wicket': {'kind': 'lbw', 'player_out': 'MS Dhoni'}}}, {7.2: {'batsman': 'SK Raina', 'bowler': 'JR Hopes', 'non_striker': 'MEK Hussey', 'runs': {'batsman': 1, 'extras': 0, 'total': 1}}}, {7.3: {'batsman': 'MEK Hussey', 'bowler': 'JR Hopes', 'non_striker': 'SK Raina', 'runs': {'batsman': 0, 'extras': 0, 'total': 0}}}, {7.4: {'batsman': 'MEK Hussey', 'bowler': 'JR Hopes', 'non_striker': 'SK Raina', 'runs': {'batsman': 1, 'extras': 0, 'total': 1}}}, {7.5: {'batsman': 'SK Raina', 'bowler': 'JR Hopes', 'non_striker': 'MEK Hussey', 'runs': {'batsman': 6, 'extras': 0, 'total': 6}}}, {7.6: {'batsman': 'SK Raina', 'bowler': 'JR Hopes', 'non_striker': 'MEK Hussey', 'runs': {'batsman': 0, 'extras': 0, 'total': 0}}}, {8.1: {'batsman': 'MEK Hussey', 'bowler': 'IK Pathan', 'non_striker': 'SK Raina', 'runs': {'batsman': 1, 'extras': 0, 'total': 1}}}, {8.2: {'batsman': 'SK Raina', 'bowler': 'IK Pathan', 'non_striker': 'MEK Hussey', 'runs': {'batsman': 4, 'extras': 0, 'total': 4}}}, {8.3: {'batsman': 'SK Raina', 'bowler': 'IK Pathan', 'non_striker': 'MEK Hussey', 'runs': {'batsman': 1, 'extras': 0, 'total': 1}}}, {8.4: {'batsman': 'MEK Hussey', 'bowler': 'IK Pathan', 'non_striker': 'SK Raina', 'runs': {'batsman': 0, 'extras': 0, 'total': 0}}}, {8.5: {'batsman': 'MEK Hussey', 'bowler': 'IK Pathan', 'non_striker': 'SK Raina', 'runs': {'batsman': 6, 'extras': 0, 'total': 6}}}, {8.6: {'batsman': 'MEK Hussey', 'bowler': 'IK Pathan', 'non_striker': 'SK Raina', 'runs': {'batsman': 1, 'extras': 0, 'total': 1}}}, {9.1: {'batsman': 'MEK Hussey', 'bowler': 'K Goel', 'non_striker': 'SK Raina', 'runs': {'batsman': 2, 'extras': 0, 'total': 2}}}, {9.2: {'batsman': 'MEK Hussey', 'bowler': 'K Goel', 'non_striker': 'SK Raina', 'runs': {'batsman': 1, 'extras': 0, 'total': 1}}}, {9.3: {'batsman': 'SK Raina', 'bowler': 'K Goel', 'non_striker': 'MEK Hussey', 'runs': {'batsman': 1, 'extras': 0, 'total': 1}}}, {9.4: {'batsman': 'MEK Hussey', 'bowler': 'K Goel', 'non_striker': 'SK Raina', 'runs': {'batsman': 0, 'extras': 0, 'total': 0}}}, {9.5: {'batsman': 'MEK Hussey', 'bowler': 'K Goel', 'non_striker': 'SK Raina', 'runs': {'batsman': 0, 'extras': 0, 'total': 0}}}, {9.6: {'batsman': 'MEK Hussey', 'bowler': 'K Goel', 'non_striker': 'SK Raina', 'runs': {'batsman': 1, 'extras': 0, 'total': 1}}}, {10.1: {'batsman': 'MEK Hussey', 'bowler': 'PP Chawla', 'non_striker': 'SK Raina', 'runs': {'batsman': 6, 'extras': 0, 'total': 6}}}, {10.2: {'batsman': 'MEK Hussey', 'bowler': 'PP Chawla', 'non_striker': 'SK Raina', 'runs': {'batsman': 1, 'extras': 0, 'total': 1}}}, {10.3: {'batsman': 'SK Raina', 'bowler': 'PP Chawla', 'non_striker': 'MEK Hussey', 'runs': {'batsman': 2, 'extras': 0, 'total': 2}}}, {10.4: {'batsman': 'SK Raina', 'bowler': 'PP Chawla', 'non_striker': 'MEK Hussey', 'runs': {'batsman': 0, 'extras': 0, 'total': 0}}}, {10.5: {'batsman': 'SK Raina', 'bowler': 'PP Chawla', 'non_striker': 'MEK Hussey', 'runs': {'batsman': 6, 'extras': 0, 'total': 6}}}, {10.6: {'batsman': 'SK Raina', 'bowler': 'PP Chawla', 'non_striker': 'MEK Hussey', 'runs': {'batsman': 4, 'extras': 0, 'total': 4}}}, {11.1: {'batsman': 'MEK Hussey', 'bowler': 'K Goel', 'non_striker': 'SK Raina', 'runs': {'batsman': 6, 'extras': 0, 'total': 6}}}, {11.2: {'batsman': 'MEK Hussey', 'bowler': 'K Goel', 'non_striker': 'SK Raina', 'runs': {'batsman': 4, 'extras': 0, 'total': 4}}}, {11.3: {'batsman': 'MEK Hussey', 'bowler': 'K Goel', 'non_striker': 'SK Raina', 'runs': {'batsman': 1, 'extras': 0, 'total': 1}}}, {11.4: {'batsman': 'SK Raina', 'bowler': 'K Goel', 'non_striker': 'MEK Hussey', 'runs': {'batsman': 6, 'extras': 0, 'total': 6}}}, {11.5: {'batsman': 'SK Raina', 'bowler': 'K Goel', 'non_striker': 'MEK Hussey', 'runs': {'batsman': 1, 'extras': 0, 'total': 1}}}, {11.6: {'batsman': 'MEK Hussey', 'bowler': 'K Goel', 'non_striker': 'SK Raina', 'runs': {'batsman': 2, 'extras': 0, 'total': 2}}}, {12.1: {'batsman': 'SK Raina', 'bowler': 'WA Mota', 'extras': {'wides': 1}, 'non_striker': 'MEK Hussey', 'runs': {'batsman': 0, 'extras': 1, 'total': 1}}}, {12.2: {'batsman': 'SK Raina', 'bowler': 'WA Mota', 'non_striker': 'MEK Hussey', 'runs': {'batsman': 0, 'extras': 0, 'total': 0}, 'wicket': {'fielders': ['IK Pathan'], 'kind': 'caught', 'player_out': 'SK Raina'}}}, {12.3: {'batsman': 'MEK Hussey', 'bowler': 'WA Mota', 'non_striker': 'JDP Oram', 'runs': {'batsman': 1, 'extras': 0, 'total': 1}}}, {12.4: {'batsman': 'JDP Oram', 'bowler': 'WA Mota', 'extras': {'wides': 1}, 'non_striker': 'MEK Hussey', 'runs': {'batsman': 0, 'extras': 1, 'total': 1}}}, {12.5: {'batsman': 'JDP Oram', 'bowler': 'WA Mota', 'non_striker': 'MEK Hussey', 'runs': {'batsman': 0, 'extras': 0, 'total': 0}}}, {12.6: {'batsman': 'JDP Oram', 'bowler': 'WA Mota', 'non_striker': 'MEK Hussey', 'runs': {'batsman': 1, 'extras': 0, 'total': 1}}}, {12.7: {'batsman': 'MEK Hussey', 'bowler': 'WA Mota', 'non_striker': 'JDP Oram', 'runs': {'batsman': 1, 'extras': 0, 'total': 1}}}, {12.8: {'batsman': 'JDP Oram', 'bowler': 'WA Mota', 'non_striker': 'MEK Hussey', 'runs': {'batsman': 1, 'extras': 0, 'total': 1}}}, {13.1: {'batsman': 'JDP Oram', 'bowler': 'JR Hopes', 'non_striker': 'MEK Hussey', 'runs': {'batsman': 1, 'extras': 0, 'total': 1}}}, {13.2: {'batsman': 'MEK Hussey', 'bowler': 'JR Hopes', 'non_striker': 'JDP Oram', 'runs': {'batsman': 0, 'extras': 0, 'total': 0}}}, {13.3: {'batsman': 'MEK Hussey', 'bowler': 'JR Hopes', 'non_striker': 'JDP Oram', 'runs': {'batsman': 1, 'extras': 0, 'total': 1}}}, {13.4: {'batsman': 'JDP Oram', 'bowler': 'JR Hopes', 'non_striker': 'MEK Hussey', 'runs': {'batsman': 1, 'extras': 0, 'total': 1}}}, {13.5: {'batsman': 'MEK Hussey', 'bowler': 'JR Hopes', 'non_striker': 'JDP Oram', 'runs': {'batsman': 6, 'extras': 0, 'total': 6}}}, {13.6: {'batsman': 'MEK Hussey', 'bowler': 'JR Hopes', 'extras': {'legbyes': 1}, 'non_striker': 'JDP Oram', 'runs': {'batsman': 0, 'extras': 1, 'total': 1}}}, {14.1: {'batsman': 'MEK Hussey', 'bowler': 'WA Mota', 'non_striker': 'JDP Oram', 'runs': {'batsman': 4, 'extras': 0, 'total': 4}}}, {14.2: {'batsman': 'MEK Hussey', 'bowler': 'WA Mota', 'non_striker': 'JDP Oram', 'runs': {'batsman': 1, 'extras': 0, 'total': 1}}}, {14.3: {'batsman': 'JDP Oram', 'bowler': 'WA Mota', 'non_striker': 'MEK Hussey', 'runs': {'batsman': 2, 'extras': 0, 'total': 2}}}, {14.4: {'batsman': 'JDP Oram', 'bowler': 'WA Mota', 'non_striker': 'MEK Hussey', 'runs': {'batsman': 1, 'extras': 0, 'total': 1}}}, {14.5: {'batsman': 'MEK Hussey', 'bowler': 'WA Mota', 'non_striker': 'JDP Oram', 'runs': {'batsman': 4, 'extras': 0, 'total': 4}}}, {14.6: {'batsman': 'MEK Hussey', 'bowler': 'WA Mota', 'non_striker': 'JDP Oram', 'runs': {'batsman': 6, 'extras': 0, 'total': 6}}}, {15.1: {'batsman': 'JDP Oram', 'bowler': 'IK Pathan', 'non_striker': 'MEK Hussey', 'runs': {'batsman': 6, 'extras': 0, 'total': 6}}}, {15.2: {'batsman': 'JDP Oram', 'bowler': 'IK Pathan', 'non_striker': 'MEK Hussey', 'runs': {'batsman': 0, 'extras': 0, 'total': 0}}}, {15.3: {'batsman': 'JDP Oram', 'bowler': 'IK Pathan', 'non_striker': 'MEK Hussey', 'runs': {'batsman': 0, 'extras': 0, 'total': 0}, 'wicket': {'kind': 'bowled', 'player_out': 'JDP Oram'}}}, {15.4: {'batsman': 'S Badrinath', 'bowler': 'IK Pathan', 'non_striker': 'MEK Hussey', 'runs': {'batsman': 0, 'extras': 0, 'total': 0}}}, {15.5: {'batsman': 'S Badrinath', 'bowler': 'IK Pathan', 'non_striker': 'MEK Hussey', 'runs': {'batsman': 1, 'extras': 0, 'total': 1}}}, {15.6: {'batsman': 'MEK Hussey', 'bowler': 'IK Pathan', 'non_striker': 'S Badrinath', 'runs': {'batsman': 1, 'extras': 0, 'total': 1}}}, {16.1: {'batsman': 'MEK Hussey', 'bowler': 'S Sreesanth', 'non_striker': 'S Badrinath', 'runs': {'batsman': 1, 'extras': 0, 'total': 1}}}, {16.2: {'batsman': 'S Badrinath', 'bowler': 'S Sreesanth', 'non_striker': 'MEK Hussey', 'runs': {'batsman': 1, 'extras': 0, 'total': 1}}}, {16.3: {'batsman': 'MEK Hussey', 'bowler': 'S Sreesanth', 'non_striker': 'S Badrinath', 'runs': {'batsman': 6, 'extras': 0, 'total': 6}}}, {16.4: {'batsman': 'MEK Hussey', 'bowler': 'S Sreesanth', 'non_striker': 'S Badrinath', 'runs': {'batsman': 4, 'extras': 0, 'total': 4}}}, {16.5: {'batsman': 'MEK Hussey', 'bowler': 'S Sreesanth', 'non_striker': 'S Badrinath', 'runs': {'batsman': 1, 'extras': 0, 'total': 1}}}, {16.6: {'batsman': 'S Badrinath', 'bowler': 'S Sreesanth', 'non_striker': 'MEK Hussey', 'runs': {'batsman': 1, 'extras': 0, 'total': 1}}}, {17.1: {'batsman': 'S Badrinath', 'bowler': 'IK Pathan', 'non_striker': 'MEK Hussey', 'runs': {'batsman': 0, 'extras': 0, 'total': 0}}}, {17.2: {'batsman': 'S Badrinath', 'bowler': 'IK Pathan', 'non_striker': 'MEK Hussey', 'runs': {'batsman': 4, 'extras': 0, 'total': 4}}}, {17.3: {'batsman': 'S Badrinath', 'bowler': 'IK Pathan', 'non_striker': 'MEK Hussey', 'runs': {'batsman': 1, 'extras': 0, 'total': 1}}}, {17.4: {'batsman': 'MEK Hussey', 'bowler': 'IK Pathan', 'non_striker': 'S Badrinath', 'runs': {'batsman': 2, 'extras': 0, 'total': 2}}}, {17.5: {'batsman': 'MEK Hussey', 'bowler': 'IK Pathan', 'non_striker': 'S Badrinath', 'runs': {'batsman': 6, 'extras': 0, 'total': 6}}}, {17.6: {'batsman': 'MEK Hussey', 'bowler': 'IK Pathan', 'non_striker': 'S Badrinath', 'runs': {'batsman': 4, 'extras': 0, 'total': 4}}}, {18.1: {'batsman': 'S Badrinath', 'bowler': 'B Lee', 'non_striker': 'MEK Hussey', 'runs': {'batsman': 4, 'extras': 0, 'total': 4}}}, {18.2: {'batsman': 'S Badrinath', 'bowler': 'B Lee', 'non_striker': 'MEK Hussey', 'runs': {'batsman': 1, 'extras': 0, 'total': 1}}}, {18.3: {'batsman': 'MEK Hussey', 'bowler': 'B Lee', 'non_striker': 'S Badrinath', 'runs': {'batsman': 1, 'extras': 0, 'total': 1}}}, {18.4: {'batsman': 'S Badrinath', 'bowler': 'B Lee', 'non_striker': 'MEK Hussey', 'runs': {'batsman': 1, 'extras': 0, 'total': 1}}}, {18.5: {'batsman': 'MEK Hussey', 'bowler': 'B Lee', 'non_striker': 'S Badrinath', 'runs': {'batsman': 6, 'extras': 0, 'total': 6}}}, {18.6: {'batsman': 'MEK Hussey', 'bowler': 'B Lee', 'non_striker': 'S Badrinath', 'runs': {'batsman': 2, 'extras': 0, 'total': 2}}}, {19.1: {'batsman': 'S Badrinath', 'bowler': 'JR Hopes', 'non_striker': 'MEK Hussey', 'runs': {'batsman': 6, 'extras': 0, 'total': 6}}}, {19.2: {'batsman': 'S Badrinath', 'bowler': 'JR Hopes', 'non_striker': 'MEK Hussey', 'runs': {'batsman': 6, 'extras': 0, 'total': 6}}}, {19.3: {'batsman': 'S Badrinath', 'bowler': 'JR Hopes', 'non_striker': 'MEK Hussey', 'runs': {'batsman': 4, 'extras': 0, 'total': 4}}}, {19.4: {'batsman': 'S Badrinath', 'bowler': 'JR Hopes', 'non_striker': 'MEK Hussey', 'runs': {'batsman': 1, 'extras': 0, 'total': 1}}}, {19.5: {'batsman': 'MEK Hussey', 'bowler': 'JR Hopes', 'non_striker': 'S Badrinath', 'runs': {'batsman': 6, 'extras': 0, 'total': 6}}}, {19.6: {'batsman': 'MEK Hussey', 'bowler': 'JR Hopes', 'non_striker': 'S Badrinath', 'runs': {'batsman': 2, 'extras': 0, 'total': 2}}}]}}"
      ]
     },
     "execution_count": 79,
     "metadata": {},
     "output_type": "execute_result"
    }
   ],
   "source": [
    "file.get('innings')[0]"
   ]
  },
  {
   "cell_type": "code",
   "execution_count": 83,
   "metadata": {
    "collapsed": false,
    "deletable": true,
    "editable": true
   },
   "outputs": [
    {
     "ename": "AttributeError",
     "evalue": "'str' object has no attribute 'values'",
     "output_type": "error",
     "traceback": [
      "\u001b[0;31m---------------------------------------------------------------------------\u001b[0m",
      "\u001b[0;31mAttributeError\u001b[0m                            Traceback (most recent call last)",
      "\u001b[0;32m<ipython-input-83-2754e998eb2e>\u001b[0m in \u001b[0;36m<module>\u001b[0;34m()\u001b[0m\n\u001b[0;32m----> 1\u001b[0;31m \u001b[0mCricSheet\u001b[0m\u001b[0;34m(\u001b[0m\u001b[0mfile\u001b[0m\u001b[0;34m)\u001b[0m\u001b[0;34m\u001b[0m\u001b[0m\n\u001b[0m",
      "\u001b[0;32m<ipython-input-82-9318d7eb3681>\u001b[0m in \u001b[0;36m__init__\u001b[0;34m(self, innings, info)\u001b[0m\n\u001b[1;32m      4\u001b[0m     \u001b[0;32mdef\u001b[0m \u001b[0m__init__\u001b[0m\u001b[0;34m(\u001b[0m\u001b[0mself\u001b[0m\u001b[0;34m,\u001b[0m \u001b[0minnings\u001b[0m\u001b[0;34m=\u001b[0m\u001b[0;32mNone\u001b[0m\u001b[0;34m,\u001b[0m \u001b[0minfo\u001b[0m\u001b[0;34m=\u001b[0m\u001b[0;32mNone\u001b[0m\u001b[0;34m)\u001b[0m\u001b[0;34m:\u001b[0m\u001b[0;34m\u001b[0m\u001b[0m\n\u001b[1;32m      5\u001b[0m         \u001b[0mself\u001b[0m\u001b[0;34m.\u001b[0m\u001b[0mballsDF\u001b[0m \u001b[0;34m=\u001b[0m \u001b[0mpd\u001b[0m\u001b[0;34m.\u001b[0m\u001b[0mDataFrame\u001b[0m\u001b[0;34m(\u001b[0m\u001b[0;34m)\u001b[0m\u001b[0;34m\u001b[0m\u001b[0m\n\u001b[0;32m----> 6\u001b[0;31m         \u001b[0mself\u001b[0m\u001b[0;34m.\u001b[0m\u001b[0mget_ballsDF\u001b[0m\u001b[0;34m(\u001b[0m\u001b[0minnings\u001b[0m\u001b[0;34m,\u001b[0m \u001b[0minfo\u001b[0m\u001b[0;34m)\u001b[0m\u001b[0;34m\u001b[0m\u001b[0m\n\u001b[0m\u001b[1;32m      7\u001b[0m \u001b[0;34m\u001b[0m\u001b[0m\n\u001b[1;32m      8\u001b[0m     \u001b[0;31m# x.innings (list)\u001b[0m\u001b[0;34m\u001b[0m\u001b[0;34m\u001b[0m\u001b[0m\n",
      "\u001b[0;32m<ipython-input-82-9318d7eb3681>\u001b[0m in \u001b[0;36mget_ballsDF\u001b[0;34m(self, innings, info)\u001b[0m\n\u001b[1;32m     12\u001b[0m     \u001b[0;32mdef\u001b[0m \u001b[0mget_ballsDF\u001b[0m\u001b[0;34m(\u001b[0m\u001b[0mself\u001b[0m\u001b[0;34m,\u001b[0m \u001b[0minnings\u001b[0m\u001b[0;34m=\u001b[0m\u001b[0;32mNone\u001b[0m\u001b[0;34m,\u001b[0m \u001b[0minfo\u001b[0m\u001b[0;34m=\u001b[0m\u001b[0;32mNone\u001b[0m\u001b[0;34m)\u001b[0m\u001b[0;34m:\u001b[0m     \u001b[0;31m# dictObj = x.innings\u001b[0m\u001b[0;34m\u001b[0m\u001b[0m\n\u001b[1;32m     13\u001b[0m         \u001b[0;32mfor\u001b[0m \u001b[0midx\u001b[0m\u001b[0;34m,\u001b[0m \u001b[0minningsObj\u001b[0m \u001b[0;32min\u001b[0m \u001b[0menumerate\u001b[0m\u001b[0;34m(\u001b[0m\u001b[0minnings\u001b[0m\u001b[0;34m)\u001b[0m\u001b[0;34m:\u001b[0m      \u001b[0;31m# idx = 0, 1; inningsObj = {'ist ininnings': dict}\u001b[0m\u001b[0;34m\u001b[0m\u001b[0m\n\u001b[0;32m---> 14\u001b[0;31m             \u001b[0minningsDict\u001b[0m \u001b[0;34m=\u001b[0m \u001b[0mlist\u001b[0m\u001b[0;34m(\u001b[0m\u001b[0minningsObj\u001b[0m\u001b[0;34m.\u001b[0m\u001b[0mvalues\u001b[0m\u001b[0;34m(\u001b[0m\u001b[0;34m)\u001b[0m\u001b[0;34m)\u001b[0m\u001b[0;34m[\u001b[0m\u001b[0;36m0\u001b[0m\u001b[0;34m]\u001b[0m  \u001b[0;31m# inningsDict = {'team': val, 'deliveries': dict}\u001b[0m\u001b[0;34m\u001b[0m\u001b[0m\n\u001b[0m\u001b[1;32m     15\u001b[0m             \u001b[0;32mfor\u001b[0m \u001b[0mball\u001b[0m \u001b[0;32min\u001b[0m \u001b[0minningsDict\u001b[0m\u001b[0;34m[\u001b[0m\u001b[0;34m'deliveries'\u001b[0m\u001b[0;34m]\u001b[0m\u001b[0;34m:\u001b[0m      \u001b[0;31m# a dict\u001b[0m\u001b[0;34m\u001b[0m\u001b[0m\n\u001b[1;32m     16\u001b[0m                 \u001b[0;31m#clear out details of last delivery\u001b[0m\u001b[0;34m\u001b[0m\u001b[0;34m\u001b[0m\u001b[0m\n",
      "\u001b[0;31mAttributeError\u001b[0m: 'str' object has no attribute 'values'"
     ]
    }
   ],
   "source": [
    "CricSheet(file)"
   ]
  },
  {
   "cell_type": "code",
   "execution_count": null,
   "metadata": {
    "collapsed": true,
    "deletable": true,
    "editable": true
   },
   "outputs": [],
   "source": []
  }
 ],
 "metadata": {
  "anaconda-cloud": {},
  "kernelspec": {
   "display_name": "Python 3",
   "language": "python",
   "name": "python3"
  },
  "language_info": {
   "codemirror_mode": {
    "name": "ipython",
    "version": 3
   },
   "file_extension": ".py",
   "mimetype": "text/x-python",
   "name": "python",
   "nbconvert_exporter": "python",
   "pygments_lexer": "ipython3",
   "version": "3.6.0"
  }
 },
 "nbformat": 4,
 "nbformat_minor": 2
}
